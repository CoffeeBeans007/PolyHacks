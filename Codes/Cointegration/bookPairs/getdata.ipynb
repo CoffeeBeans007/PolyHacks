{
 "cells": [
  {
   "cell_type": "code",
   "execution_count": 1,
   "metadata": {},
   "outputs": [
    {
     "ename": "ModuleNotFoundError",
     "evalue": "No module named 'alphaVantage'",
     "output_type": "error",
     "traceback": [
      "\u001b[0;31m---------------------------------------------------------------------------\u001b[0m",
      "\u001b[0;31mModuleNotFoundError\u001b[0m                       Traceback (most recent call last)",
      "\u001b[1;32m/Users/sebastiencaron/Desktop/TradingClubHFT/Codes/Cointegration/bookPairs/getdata.ipynb Cell 1\u001b[0m in \u001b[0;36m<cell line: 4>\u001b[0;34m()\u001b[0m\n\u001b[1;32m      <a href='vscode-notebook-cell:/Users/sebastiencaron/Desktop/TradingClubHFT/Codes/Cointegration/bookPairs/getdata.ipynb#W0sZmlsZQ%3D%3D?line=1'>2</a>\u001b[0m \u001b[39mfrom\u001b[39;00m \u001b[39mimportlib\u001b[39;00m \u001b[39mimport\u001b[39;00m reload\n\u001b[1;32m      <a href='vscode-notebook-cell:/Users/sebastiencaron/Desktop/TradingClubHFT/Codes/Cointegration/bookPairs/getdata.ipynb#W0sZmlsZQ%3D%3D?line=2'>3</a>\u001b[0m sys\u001b[39m.\u001b[39mpath\u001b[39m.\u001b[39mappend(\u001b[39m'\u001b[39m\u001b[39m/Users/sebastiencaron/Desktop/TradingClubHFT/Codes/AlphaVantage\u001b[39m\u001b[39m'\u001b[39m)\n\u001b[0;32m----> <a href='vscode-notebook-cell:/Users/sebastiencaron/Desktop/TradingClubHFT/Codes/Cointegration/bookPairs/getdata.ipynb#W0sZmlsZQ%3D%3D?line=3'>4</a>\u001b[0m \u001b[39mimport\u001b[39;00m \u001b[39malphaVantage\u001b[39;00m \u001b[39mas\u001b[39;00m \u001b[39mav\u001b[39;00m\n\u001b[1;32m      <a href='vscode-notebook-cell:/Users/sebastiencaron/Desktop/TradingClubHFT/Codes/Cointegration/bookPairs/getdata.ipynb#W0sZmlsZQ%3D%3D?line=4'>5</a>\u001b[0m reload(av)\n",
      "\u001b[0;31mModuleNotFoundError\u001b[0m: No module named 'alphaVantage'"
     ]
    }
   ],
   "source": [
    "import sys\n",
    "from importlib import reload\n",
    "sys.path.append('/Users/sebastiencaron/Desktop/TradingClubHFT/Codes/AlphaVantage')\n",
    "import alphaVantage as av\n",
    "reload(av)"
   ]
  }
 ],
 "metadata": {
  "kernelspec": {
   "display_name": "Python 3",
   "language": "python",
   "name": "python3"
  },
  "language_info": {
   "codemirror_mode": {
    "name": "ipython",
    "version": 3
   },
   "file_extension": ".py",
   "mimetype": "text/x-python",
   "name": "python",
   "nbconvert_exporter": "python",
   "pygments_lexer": "ipython3",
   "version": "3.10.5"
  },
  "orig_nbformat": 4
 },
 "nbformat": 4,
 "nbformat_minor": 2
}
