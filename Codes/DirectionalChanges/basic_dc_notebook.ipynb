{
 "cells": [
  {
   "cell_type": "code",
   "execution_count": 11,
   "id": "initial_id",
   "metadata": {
    "collapsed": true,
    "ExecuteTime": {
     "end_time": "2023-09-13T19:06:04.074236Z",
     "start_time": "2023-09-13T19:06:03.946941Z"
    }
   },
   "outputs": [],
   "source": [
    "import basic_dc as bdc\n",
    "import pandas as pd"
   ]
  },
  {
   "cell_type": "code",
   "execution_count": 12,
   "outputs": [],
   "source": [
    "path = \"../../Data/DC_data/Index_daily_close_2019_2023.xlsx\""
   ],
   "metadata": {
    "collapsed": false,
    "ExecuteTime": {
     "end_time": "2023-09-13T19:06:04.076630Z",
     "start_time": "2023-09-13T19:06:03.952312Z"
    }
   },
   "id": "39158cbc5361b605"
  },
  {
   "cell_type": "code",
   "execution_count": 13,
   "outputs": [
    {
     "data": {
      "text/plain": "          Index          Country\n1         AEX25  The Netherlands\n2        ASX200        Australia\n3         CAC40           France\n4      CHINAA50            China\n5         DAX30          Germany\n6           DJI     US Dow Jones\n7     EuroStoxx             Euro\n8       FTSE100               UK\n9           HSI     HK Hang Seng\n10       IBEX35            Spain\n11        JP225            Japan\n12    NASDAQ100        US Nasdaq\n13  Russell2000       US Russell\n14       S&P500       US S&P 500\n15        SMI20            Swiss\n16        SSGF3        Singapore",
      "text/html": "<div>\n<style scoped>\n    .dataframe tbody tr th:only-of-type {\n        vertical-align: middle;\n    }\n\n    .dataframe tbody tr th {\n        vertical-align: top;\n    }\n\n    .dataframe thead th {\n        text-align: right;\n    }\n</style>\n<table border=\"1\" class=\"dataframe\">\n  <thead>\n    <tr style=\"text-align: right;\">\n      <th></th>\n      <th>Index</th>\n      <th>Country</th>\n    </tr>\n  </thead>\n  <tbody>\n    <tr>\n      <th>1</th>\n      <td>AEX25</td>\n      <td>The Netherlands</td>\n    </tr>\n    <tr>\n      <th>2</th>\n      <td>ASX200</td>\n      <td>Australia</td>\n    </tr>\n    <tr>\n      <th>3</th>\n      <td>CAC40</td>\n      <td>France</td>\n    </tr>\n    <tr>\n      <th>4</th>\n      <td>CHINAA50</td>\n      <td>China</td>\n    </tr>\n    <tr>\n      <th>5</th>\n      <td>DAX30</td>\n      <td>Germany</td>\n    </tr>\n    <tr>\n      <th>6</th>\n      <td>DJI</td>\n      <td>US Dow Jones</td>\n    </tr>\n    <tr>\n      <th>7</th>\n      <td>EuroStoxx</td>\n      <td>Euro</td>\n    </tr>\n    <tr>\n      <th>8</th>\n      <td>FTSE100</td>\n      <td>UK</td>\n    </tr>\n    <tr>\n      <th>9</th>\n      <td>HSI</td>\n      <td>HK Hang Seng</td>\n    </tr>\n    <tr>\n      <th>10</th>\n      <td>IBEX35</td>\n      <td>Spain</td>\n    </tr>\n    <tr>\n      <th>11</th>\n      <td>JP225</td>\n      <td>Japan</td>\n    </tr>\n    <tr>\n      <th>12</th>\n      <td>NASDAQ100</td>\n      <td>US Nasdaq</td>\n    </tr>\n    <tr>\n      <th>13</th>\n      <td>Russell2000</td>\n      <td>US Russell</td>\n    </tr>\n    <tr>\n      <th>14</th>\n      <td>S&amp;P500</td>\n      <td>US S&amp;P 500</td>\n    </tr>\n    <tr>\n      <th>15</th>\n      <td>SMI20</td>\n      <td>Swiss</td>\n    </tr>\n    <tr>\n      <th>16</th>\n      <td>SSGF3</td>\n      <td>Singapore</td>\n    </tr>\n  </tbody>\n</table>\n</div>"
     },
     "execution_count": 13,
     "metadata": {},
     "output_type": "execute_result"
    }
   ],
   "source": [
    "df_idx = pd.read_excel(path, sheet_name=\"Indices\", index_col=0)\n",
    "df_idx"
   ],
   "metadata": {
    "collapsed": false,
    "ExecuteTime": {
     "end_time": "2023-09-13T19:06:04.134563Z",
     "start_time": "2023-09-13T19:06:03.957519Z"
    }
   },
   "id": "757446fccfd74d9a"
  },
  {
   "cell_type": "code",
   "execution_count": 15,
   "outputs": [],
   "source": [
    "data_dict = dict()\n",
    "\n",
    "for idx in df_idx[\"Index\"]:\n",
    "    data_dict[idx] = pd.read_excel(path, sheet_name=idx, index_col=0)\n",
    "    data_dict[idx].index = pd.to_datetime(data_dict[idx].index, format=\"%Y%m%d\")"
   ],
   "metadata": {
    "collapsed": false,
    "ExecuteTime": {
     "end_time": "2023-09-13T19:06:15.315273Z",
     "start_time": "2023-09-13T19:06:12.673483Z"
    }
   },
   "id": "886f2fadd137ff0b"
  },
  {
   "cell_type": "code",
   "execution_count": 16,
   "outputs": [
    {
     "data": {
      "text/plain": "DatetimeIndex(['2019-01-02', '2019-01-03', '2019-01-04', '2019-01-07',\n               '2019-01-08', '2019-01-09', '2019-01-10', '2019-01-11',\n               '2019-01-14', '2019-01-15',\n               ...\n               '2021-12-20', '2021-12-21', '2021-12-22', '2021-12-23',\n               '2021-12-24', '2021-12-27', '2021-12-28', '2021-12-29',\n               '2021-12-30', '2021-12-31'],\n              dtype='datetime64[ns]', name='Date', length=769, freq=None)"
     },
     "execution_count": 16,
     "metadata": {},
     "output_type": "execute_result"
    }
   ],
   "source": [
    "data_dict['AEX25'].index"
   ],
   "metadata": {
    "collapsed": false,
    "ExecuteTime": {
     "end_time": "2023-09-13T19:06:15.886255Z",
     "start_time": "2023-09-13T19:06:15.861147Z"
    }
   },
   "id": "9e9e49c91d6b2216"
  },
  {
   "cell_type": "code",
   "execution_count": 21,
   "outputs": [
    {
     "data": {
      "text/plain": "              Close\nDate               \n2019-01-02  488.547\n2019-01-03  480.578\n2019-01-04  493.448\n2019-01-07  492.298\n2019-01-08  494.967\n...             ...\n2021-12-27  800.071\n2021-12-28  800.318\n2021-12-29  796.780\n2021-12-30  798.562\n2021-12-31  800.656\n\n[769 rows x 1 columns]",
      "text/html": "<div>\n<style scoped>\n    .dataframe tbody tr th:only-of-type {\n        vertical-align: middle;\n    }\n\n    .dataframe tbody tr th {\n        vertical-align: top;\n    }\n\n    .dataframe thead th {\n        text-align: right;\n    }\n</style>\n<table border=\"1\" class=\"dataframe\">\n  <thead>\n    <tr style=\"text-align: right;\">\n      <th></th>\n      <th>Close</th>\n    </tr>\n    <tr>\n      <th>Date</th>\n      <th></th>\n    </tr>\n  </thead>\n  <tbody>\n    <tr>\n      <th>2019-01-02</th>\n      <td>488.547</td>\n    </tr>\n    <tr>\n      <th>2019-01-03</th>\n      <td>480.578</td>\n    </tr>\n    <tr>\n      <th>2019-01-04</th>\n      <td>493.448</td>\n    </tr>\n    <tr>\n      <th>2019-01-07</th>\n      <td>492.298</td>\n    </tr>\n    <tr>\n      <th>2019-01-08</th>\n      <td>494.967</td>\n    </tr>\n    <tr>\n      <th>...</th>\n      <td>...</td>\n    </tr>\n    <tr>\n      <th>2021-12-27</th>\n      <td>800.071</td>\n    </tr>\n    <tr>\n      <th>2021-12-28</th>\n      <td>800.318</td>\n    </tr>\n    <tr>\n      <th>2021-12-29</th>\n      <td>796.780</td>\n    </tr>\n    <tr>\n      <th>2021-12-30</th>\n      <td>798.562</td>\n    </tr>\n    <tr>\n      <th>2021-12-31</th>\n      <td>800.656</td>\n    </tr>\n  </tbody>\n</table>\n<p>769 rows × 1 columns</p>\n</div>"
     },
     "execution_count": 21,
     "metadata": {},
     "output_type": "execute_result"
    }
   ],
   "source": [
    "df = data_dict['AEX25'][[\"Close\"]]\n",
    "df"
   ],
   "metadata": {
    "collapsed": false,
    "ExecuteTime": {
     "end_time": "2023-09-13T19:11:05.542626Z",
     "start_time": "2023-09-13T19:11:05.461323Z"
    }
   },
   "id": "d22307c18fa0fc1f"
  },
  {
   "cell_type": "code",
   "execution_count": 33,
   "outputs": [],
   "source": [
    "# initialization \n",
    "event_dict = [True]\n",
    "state_dict = ['up_OS']\n",
    "past_high = df['Close'].iloc[0]\n",
    "past_high_idx = 0\n",
    "past_low = df['Close'].iloc[0]\n",
    "past_low_idx = 0\n",
    "\n",
    "threshold = 0.05"
   ],
   "metadata": {
    "collapsed": false,
    "ExecuteTime": {
     "end_time": "2023-09-13T21:29:01.808283Z",
     "start_time": "2023-09-13T21:29:01.792790Z"
    }
   },
   "id": "4631534621c9e152"
  },
  {
   "cell_type": "code",
   "execution_count": 36,
   "outputs": [],
   "source": [
    "for idx in range(1, len(df)):\n",
    "    # Si le event_dict est True ainsi que le prix le plus récent est inférieur au prix threshold du past_high i.e (past_high * (1 - treshold)), l'uptrend est confirmé!\n",
    "    if event_dict[-1]:\n",
    "        if df['Close'].iloc[idx] <= (past_high * (1-threshold)):\n",
    "            if state_dict[-1] != 'up_DC':\n",
    "                for i in range(past_high_idx + 1, len(event_dict)):\n",
    "                    event_dict[i] = False\n",
    "                    state_dict[i] = 'down_DC'\n",
    "                    \n",
    "            state_dict.append('down_DC')\n",
    "            event_dict.append(False)\n",
    "            \n",
    "            past_low = df['Close'].iloc[idx]\n",
    "            past_low_idx = idx\n",
    "            \n",
    "        else:\n",
    "            pass\n",
    "                    \n",
    "\n",
    "        "
   ],
   "metadata": {
    "collapsed": false,
    "ExecuteTime": {
     "end_time": "2023-09-13T21:29:48.278582Z",
     "start_time": "2023-09-13T21:29:48.272212Z"
    }
   },
   "id": "cfb5cd395d96b544"
  },
  {
   "cell_type": "code",
   "execution_count": 30,
   "outputs": [
    {
     "name": "stdout",
     "output_type": "stream",
     "text": [
      "464.11965\n"
     ]
    }
   ],
   "source": [
    "print(past_high * (1-threshold))"
   ],
   "metadata": {
    "collapsed": false,
    "ExecuteTime": {
     "end_time": "2023-09-13T21:19:12.653813Z",
     "start_time": "2023-09-13T21:19:12.634242Z"
    }
   },
   "id": "a038ca99ff398839"
  },
  {
   "cell_type": "code",
   "execution_count": null,
   "outputs": [],
   "source": [],
   "metadata": {
    "collapsed": false,
    "ExecuteTime": {
     "start_time": "2023-09-13T19:06:04.483780Z"
    }
   },
   "id": "702f3239b3e2a03e"
  },
  {
   "cell_type": "code",
   "execution_count": null,
   "outputs": [],
   "source": [],
   "metadata": {
    "collapsed": false,
    "ExecuteTime": {
     "start_time": "2023-09-13T19:06:04.492600Z"
    }
   },
   "id": "e2da9f7cc998933a"
  },
  {
   "cell_type": "code",
   "execution_count": null,
   "outputs": [],
   "source": [],
   "metadata": {
    "collapsed": false,
    "ExecuteTime": {
     "start_time": "2023-09-13T19:06:04.499552Z"
    }
   },
   "id": "a7cf45383e9a8bb6"
  },
  {
   "cell_type": "code",
   "execution_count": null,
   "outputs": [],
   "source": [],
   "metadata": {
    "collapsed": false,
    "ExecuteTime": {
     "start_time": "2023-09-13T19:06:04.506408Z"
    }
   },
   "id": "a83601ac0c67245a"
  },
  {
   "cell_type": "code",
   "execution_count": null,
   "outputs": [],
   "source": [],
   "metadata": {
    "collapsed": false,
    "ExecuteTime": {
     "start_time": "2023-09-13T19:06:04.512781Z"
    }
   },
   "id": "b6eef935a6cb6bce"
  }
 ],
 "metadata": {
  "kernelspec": {
   "display_name": "Python 3",
   "language": "python",
   "name": "python3"
  },
  "language_info": {
   "codemirror_mode": {
    "name": "ipython",
    "version": 2
   },
   "file_extension": ".py",
   "mimetype": "text/x-python",
   "name": "python",
   "nbconvert_exporter": "python",
   "pygments_lexer": "ipython2",
   "version": "2.7.6"
  }
 },
 "nbformat": 4,
 "nbformat_minor": 5
}
