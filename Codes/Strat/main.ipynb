{
 "cells": [
  {
   "cell_type": "markdown",
   "metadata": {},
   "source": [
    "Create metrics for which stock will be used in the portfolio"
   ]
  },
  {
   "cell_type": "code",
   "execution_count": 2,
   "metadata": {},
   "outputs": [
    {
     "name": "stdout",
     "output_type": "stream",
     "text": [
      "Loaded file close_fixed.csv from folder /Users/ced/Documents/PolyHacks/Data/base data.\n"
     ]
    },
    {
     "ename": "PermissionError",
     "evalue": "[Errno 1] Operation not permitted: '/Users/ced/Pictures/Photos Library.photoslibrary'",
     "output_type": "error",
     "traceback": [
      "\u001b[0;31m---------------------------------------------------------------------------\u001b[0m",
      "\u001b[0;31mPermissionError\u001b[0m                           Traceback (most recent call last)",
      "\u001b[1;32m/Users/ced/Documents/PolyHacks/Codes/Strat/main.ipynb Cell 2\u001b[0m line \u001b[0;36m6\n\u001b[1;32m      <a href='vscode-notebook-cell:/Users/ced/Documents/PolyHacks/Codes/Strat/main.ipynb#W4sZmlsZQ%3D%3D?line=3'>4</a>\u001b[0m os_helper \u001b[39m=\u001b[39m OsHelper()\n\u001b[1;32m      <a href='vscode-notebook-cell:/Users/ced/Documents/PolyHacks/Codes/Strat/main.ipynb#W4sZmlsZQ%3D%3D?line=4'>5</a>\u001b[0m price_data \u001b[39m=\u001b[39m os_helper\u001b[39m.\u001b[39mread_data(directory_name\u001b[39m=\u001b[39m\u001b[39m\"\u001b[39m\u001b[39mbase data\u001b[39m\u001b[39m\"\u001b[39m, file_name\u001b[39m=\u001b[39m\u001b[39m\"\u001b[39m\u001b[39mclose_fixed.csv\u001b[39m\u001b[39m\"\u001b[39m, index_col\u001b[39m=\u001b[39m\u001b[39m0\u001b[39m, low_memory\u001b[39m=\u001b[39m\u001b[39mFalse\u001b[39;00m)\n\u001b[0;32m----> <a href='vscode-notebook-cell:/Users/ced/Documents/PolyHacks/Codes/Strat/main.ipynb#W4sZmlsZQ%3D%3D?line=5'>6</a>\u001b[0m trade_volume \u001b[39m=\u001b[39m os_helper\u001b[39m.\u001b[39;49mread_data(directory_name\u001b[39m=\u001b[39;49m\u001b[39m\"\u001b[39;49m\u001b[39mbase filtered_data\u001b[39;49m\u001b[39m\"\u001b[39;49m, file_name\u001b[39m=\u001b[39;49m\u001b[39m\"\u001b[39;49m\u001b[39mprevious_volume.csv\u001b[39;49m\u001b[39m\"\u001b[39;49m, index_col\u001b[39m=\u001b[39;49m\u001b[39m0\u001b[39;49m, low_memory\u001b[39m=\u001b[39;49m\u001b[39mFalse\u001b[39;49;00m)\n\u001b[1;32m      <a href='vscode-notebook-cell:/Users/ced/Documents/PolyHacks/Codes/Strat/main.ipynb#W4sZmlsZQ%3D%3D?line=7'>8</a>\u001b[0m rolling_window_years \u001b[39m=\u001b[39m [\u001b[39m1\u001b[39m, \u001b[39m3\u001b[39m]\n\u001b[1;32m      <a href='vscode-notebook-cell:/Users/ced/Documents/PolyHacks/Codes/Strat/main.ipynb#W4sZmlsZQ%3D%3D?line=8'>9</a>\u001b[0m metrics_calculator \u001b[39m=\u001b[39m ComputeMetrics(price_data\u001b[39m=\u001b[39mprice_data, trade_volume\u001b[39m=\u001b[39mtrade_volume, rolling_window_years\u001b[39m=\u001b[39mrolling_window_years,\n\u001b[1;32m     <a href='vscode-notebook-cell:/Users/ced/Documents/PolyHacks/Codes/Strat/main.ipynb#W4sZmlsZQ%3D%3D?line=9'>10</a>\u001b[0m                                         reference_index\u001b[39m=\u001b[39m\u001b[39m\"\u001b[39m\u001b[39mAAPL US Equity\u001b[39m\u001b[39m\"\u001b[39m)\n",
      "File \u001b[0;32m~/Documents/PolyHacks/Codes/Strat/os_helper.py:42\u001b[0m, in \u001b[0;36mOsHelper.read_data\u001b[0;34m(self, directory_name, file_name, **kwargs)\u001b[0m\n\u001b[1;32m     40\u001b[0m \u001b[39mdef\u001b[39;00m \u001b[39mread_data\u001b[39m(\u001b[39mself\u001b[39m, directory_name: \u001b[39mstr\u001b[39m, file_name: \u001b[39mstr\u001b[39m, \u001b[39m*\u001b[39m\u001b[39m*\u001b[39mkwargs) \u001b[39m-\u001b[39m\u001b[39m>\u001b[39m pd\u001b[39m.\u001b[39mDataFrame:\n\u001b[1;32m     41\u001b[0m     starting_path \u001b[39m=\u001b[39m os\u001b[39m.\u001b[39mgetcwd()\n\u001b[0;32m---> 42\u001b[0m     directory_path \u001b[39m=\u001b[39m \u001b[39mself\u001b[39;49m\u001b[39m.\u001b[39;49mfind_folder_path(target_name\u001b[39m=\u001b[39;49mdirectory_name, search_path\u001b[39m=\u001b[39;49mstarting_path)\n\u001b[1;32m     43\u001b[0m     \u001b[39mif\u001b[39;00m directory_path \u001b[39mis\u001b[39;00m \u001b[39mNone\u001b[39;00m:\n\u001b[1;32m     44\u001b[0m         \u001b[39mraise\u001b[39;00m \u001b[39mFileNotFoundError\u001b[39;00m(\u001b[39mf\u001b[39m\u001b[39m\"\u001b[39m\u001b[39mFolder \u001b[39m\u001b[39m{\u001b[39;00mdirectory_name\u001b[39m}\u001b[39;00m\u001b[39m not found.\u001b[39m\u001b[39m\"\u001b[39m)\n",
      "File \u001b[0;32m~/Documents/PolyHacks/Codes/Strat/os_helper.py:38\u001b[0m, in \u001b[0;36mOsHelper.find_folder_path\u001b[0;34m(self, target_name, search_path)\u001b[0m\n\u001b[1;32m     37\u001b[0m \u001b[39mdef\u001b[39;00m \u001b[39mfind_folder_path\u001b[39m(\u001b[39mself\u001b[39m, target_name: \u001b[39mstr\u001b[39m, search_path: \u001b[39mstr\u001b[39m) \u001b[39m-\u001b[39m\u001b[39m>\u001b[39m \u001b[39mstr\u001b[39m:\n\u001b[0;32m---> 38\u001b[0m     \u001b[39mreturn\u001b[39;00m \u001b[39mself\u001b[39;49m\u001b[39m.\u001b[39;49m_recursive_search(search_path, target_name, \u001b[39mset\u001b[39;49m())\n",
      "File \u001b[0;32m~/Documents/PolyHacks/Codes/Strat/os_helper.py:33\u001b[0m, in \u001b[0;36mOsHelper._recursive_search\u001b[0;34m(self, current_path, target_name, explored_paths)\u001b[0m\n\u001b[1;32m     31\u001b[0m parent_path \u001b[39m=\u001b[39m os\u001b[39m.\u001b[39mpath\u001b[39m.\u001b[39mdirname(current_path)\n\u001b[1;32m     32\u001b[0m \u001b[39mif\u001b[39;00m parent_path \u001b[39m!=\u001b[39m current_path \u001b[39mand\u001b[39;00m \u001b[39mself\u001b[39m\u001b[39m.\u001b[39m_is_valid_path(parent_path, explored_paths):\n\u001b[0;32m---> 33\u001b[0m     \u001b[39mreturn\u001b[39;00m \u001b[39mself\u001b[39;49m\u001b[39m.\u001b[39;49m_recursive_search(parent_path, target_name, explored_paths)\n\u001b[1;32m     35\u001b[0m \u001b[39mreturn\u001b[39;00m \u001b[39mNone\u001b[39;00m\n",
      "File \u001b[0;32m~/Documents/PolyHacks/Codes/Strat/os_helper.py:33\u001b[0m, in \u001b[0;36mOsHelper._recursive_search\u001b[0;34m(self, current_path, target_name, explored_paths)\u001b[0m\n\u001b[1;32m     31\u001b[0m parent_path \u001b[39m=\u001b[39m os\u001b[39m.\u001b[39mpath\u001b[39m.\u001b[39mdirname(current_path)\n\u001b[1;32m     32\u001b[0m \u001b[39mif\u001b[39;00m parent_path \u001b[39m!=\u001b[39m current_path \u001b[39mand\u001b[39;00m \u001b[39mself\u001b[39m\u001b[39m.\u001b[39m_is_valid_path(parent_path, explored_paths):\n\u001b[0;32m---> 33\u001b[0m     \u001b[39mreturn\u001b[39;00m \u001b[39mself\u001b[39;49m\u001b[39m.\u001b[39;49m_recursive_search(parent_path, target_name, explored_paths)\n\u001b[1;32m     35\u001b[0m \u001b[39mreturn\u001b[39;00m \u001b[39mNone\u001b[39;00m\n",
      "    \u001b[0;31m[... skipping similar frames: OsHelper._recursive_search at line 33 (1 times)]\u001b[0m\n",
      "File \u001b[0;32m~/Documents/PolyHacks/Codes/Strat/os_helper.py:33\u001b[0m, in \u001b[0;36mOsHelper._recursive_search\u001b[0;34m(self, current_path, target_name, explored_paths)\u001b[0m\n\u001b[1;32m     31\u001b[0m parent_path \u001b[39m=\u001b[39m os\u001b[39m.\u001b[39mpath\u001b[39m.\u001b[39mdirname(current_path)\n\u001b[1;32m     32\u001b[0m \u001b[39mif\u001b[39;00m parent_path \u001b[39m!=\u001b[39m current_path \u001b[39mand\u001b[39;00m \u001b[39mself\u001b[39m\u001b[39m.\u001b[39m_is_valid_path(parent_path, explored_paths):\n\u001b[0;32m---> 33\u001b[0m     \u001b[39mreturn\u001b[39;00m \u001b[39mself\u001b[39;49m\u001b[39m.\u001b[39;49m_recursive_search(parent_path, target_name, explored_paths)\n\u001b[1;32m     35\u001b[0m \u001b[39mreturn\u001b[39;00m \u001b[39mNone\u001b[39;00m\n",
      "File \u001b[0;32m~/Documents/PolyHacks/Codes/Strat/os_helper.py:27\u001b[0m, in \u001b[0;36mOsHelper._recursive_search\u001b[0;34m(self, current_path, target_name, explored_paths)\u001b[0m\n\u001b[1;32m     25\u001b[0m new_path \u001b[39m=\u001b[39m os\u001b[39m.\u001b[39mpath\u001b[39m.\u001b[39mjoin(current_path, name)\n\u001b[1;32m     26\u001b[0m \u001b[39mif\u001b[39;00m os\u001b[39m.\u001b[39mpath\u001b[39m.\u001b[39misdir(new_path) \u001b[39mand\u001b[39;00m \u001b[39mself\u001b[39m\u001b[39m.\u001b[39m_is_valid_path(new_path, explored_paths):\n\u001b[0;32m---> 27\u001b[0m     result \u001b[39m=\u001b[39m \u001b[39mself\u001b[39;49m\u001b[39m.\u001b[39;49m_recursive_search(new_path, target_name, explored_paths)\n\u001b[1;32m     28\u001b[0m     \u001b[39mif\u001b[39;00m result:\n\u001b[1;32m     29\u001b[0m         \u001b[39mreturn\u001b[39;00m result\n",
      "File \u001b[0;32m~/Documents/PolyHacks/Codes/Strat/os_helper.py:27\u001b[0m, in \u001b[0;36mOsHelper._recursive_search\u001b[0;34m(self, current_path, target_name, explored_paths)\u001b[0m\n\u001b[1;32m     25\u001b[0m new_path \u001b[39m=\u001b[39m os\u001b[39m.\u001b[39mpath\u001b[39m.\u001b[39mjoin(current_path, name)\n\u001b[1;32m     26\u001b[0m \u001b[39mif\u001b[39;00m os\u001b[39m.\u001b[39mpath\u001b[39m.\u001b[39misdir(new_path) \u001b[39mand\u001b[39;00m \u001b[39mself\u001b[39m\u001b[39m.\u001b[39m_is_valid_path(new_path, explored_paths):\n\u001b[0;32m---> 27\u001b[0m     result \u001b[39m=\u001b[39m \u001b[39mself\u001b[39;49m\u001b[39m.\u001b[39;49m_recursive_search(new_path, target_name, explored_paths)\n\u001b[1;32m     28\u001b[0m     \u001b[39mif\u001b[39;00m result:\n\u001b[1;32m     29\u001b[0m         \u001b[39mreturn\u001b[39;00m result\n",
      "File \u001b[0;32m~/Documents/PolyHacks/Codes/Strat/os_helper.py:17\u001b[0m, in \u001b[0;36mOsHelper._recursive_search\u001b[0;34m(self, current_path, target_name, explored_paths)\u001b[0m\n\u001b[1;32m     14\u001b[0m \u001b[39mdef\u001b[39;00m \u001b[39m_recursive_search\u001b[39m(\u001b[39mself\u001b[39m, current_path: \u001b[39mstr\u001b[39m, target_name: \u001b[39mstr\u001b[39m, explored_paths: \u001b[39mset\u001b[39m) \u001b[39m-\u001b[39m\u001b[39m>\u001b[39m \u001b[39mstr\u001b[39m:\n\u001b[1;32m     15\u001b[0m     explored_paths\u001b[39m.\u001b[39madd(current_path)\n\u001b[0;32m---> 17\u001b[0m     available_names \u001b[39m=\u001b[39m os\u001b[39m.\u001b[39;49mlistdir(current_path)\n\u001b[1;32m     19\u001b[0m     \u001b[39mif\u001b[39;00m target_name \u001b[39min\u001b[39;00m available_names:\n\u001b[1;32m     20\u001b[0m         full_path \u001b[39m=\u001b[39m os\u001b[39m.\u001b[39mpath\u001b[39m.\u001b[39mjoin(current_path, target_name)\n",
      "\u001b[0;31mPermissionError\u001b[0m: [Errno 1] Operation not permitted: '/Users/ced/Pictures/Photos Library.photoslibrary'"
     ]
    }
   ],
   "source": [
    "from compute_metrics import ComputeMetrics\n",
    "from os_helper import OsHelper\n",
    "\n",
    "os_helper = OsHelper()\n",
    "price_data = os_helper.read_data(directory_name=\"/Users/ced/Documents/PolyHacks/Data/base data\", file_name=\"close_fixed.csv\", index_col=0, low_memory=False)\n",
    "trade_volume = os_helper.read_data(directory_name=\"base filtered_data\", file_name=\"previous_volume.csv\", index_col=0, low_memory=False)\n",
    "\n",
    "rolling_window_years = [1, 3]\n",
    "metrics_calculator = ComputeMetrics(price_data=price_data, trade_volume=trade_volume, rolling_window_years=rolling_window_years,\n",
    "                                        reference_index=\"AAPL US Equity\")\n",
    "metrics_df = metrics_calculator.compute_metrics()"
   ]
  }
 ],
 "metadata": {
  "kernelspec": {
   "display_name": "poly",
   "language": "python",
   "name": "python3"
  },
  "language_info": {
   "codemirror_mode": {
    "name": "ipython",
    "version": 3
   },
   "file_extension": ".py",
   "mimetype": "text/x-python",
   "name": "python",
   "nbconvert_exporter": "python",
   "pygments_lexer": "ipython3",
   "version": "3.9.16"
  }
 },
 "nbformat": 4,
 "nbformat_minor": 2
}
