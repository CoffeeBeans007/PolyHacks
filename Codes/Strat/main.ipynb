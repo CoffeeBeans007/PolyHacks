{
 "cells": [
  {
   "cell_type": "markdown",
   "metadata": {},
   "source": [
    "Create metrics for which stock will be used in the portfolio"
   ]
  },
  {
   "cell_type": "code",
   "execution_count": null,
   "metadata": {},
   "outputs": [],
   "source": [
    "from compute_metrics import ComputeMetrics\n",
    "from os_helper import OsHelper\n",
    "\n",
    "os_helper = OsHelper()\n",
    "price_data = os_helper.read_data(directory_name=\"base filtered_data\", file_name=\"previous_close.csv\", index_col=0, low_memory=False)\n",
    "trade_volume = os_helper.read_data(directory_name=\"base filtered_data\", file_name=\"previous_volume.csv\", index_col=0, low_memory=False)\n",
    "\n",
    "rolling_window_years = [1, 3]\n",
    "metrics_calculator = ComputeMetrics(price_data=price_data, trade_volume=trade_volume, rolling_window_years=rolling_window_years,\n",
    "                                        reference_index=\"AAPL US Equity\")\n",
    "metrics_df = metrics_calculator.compute_metrics()"
   ]
  }
 ],
 "metadata": {
  "language_info": {
   "name": "python"
  }
 },
 "nbformat": 4,
 "nbformat_minor": 2
}
