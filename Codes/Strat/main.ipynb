{
 "cells": [
  {
   "cell_type": "code",
   "execution_count": null,
   "metadata": {},
   "outputs": [],
   "source": [
    "from compute_metrics import ComputeMetrics\n",
    "from os_helper import OsHelper\n",
    "price_data = os_helper.read_data(directory_name=\"base filtered_data\", file_name=\"previous_close.csv\", index_col=0, low_memory=False)\n",
    "trade_volume = os_helper.read_data(directory_name=\"base filtered_data\", file_name=\"previous_volume.csv\", index_col=0, low_memory=False)\n"
   ]
  },
  {
   "cell_type": "markdown",
   "metadata": {},
   "source": []
  }
 ],
 "metadata": {
  "language_info": {
   "name": "python"
  }
 },
 "nbformat": 4,
 "nbformat_minor": 2
}
