{
 "cells": [
  {
   "cell_type": "code",
   "execution_count": 2,
   "id": "initial_id",
   "metadata": {
    "collapsed": true,
    "ExecuteTime": {
     "end_time": "2023-11-06T12:10:27.842046Z",
     "start_time": "2023-11-06T12:10:27.837751Z"
    }
   },
   "outputs": [],
   "source": [
    "from os_helper import OsHelper\n",
    "import pandas as pd"
   ]
  },
  {
   "cell_type": "code",
   "execution_count": null,
   "outputs": [
    {
     "name": "stdout",
     "output_type": "stream",
     "text": [
      "Loaded file close_fixed.csv from folder /Users/thomasvaudescal/Documents/Mes_documents/30_TradingClub/PolyFinance/PolyHacks/Data/base data.\n",
      "Loaded file volume_fixed.csv from folder /Users/thomasvaudescal/Documents/Mes_documents/30_TradingClub/PolyFinance/PolyHacks/Data/base data.\n",
      "Loaded file SPY (1).csv from folder /Users/thomasvaudescal/Documents/Mes_documents/30_TradingClub/PolyFinance/PolyHacks/Data/benchmark.\n",
      "                  Open        High         Low       Close   Adj Close     Volume\n",
      "Date                                                                             \n",
      "1995-01-03   45.703125   45.843750   45.687500   45.781250   27.352005     324300\n",
      "1995-01-04   45.984375   46.000000   45.750000   46.000000   27.482687     351800\n",
      "1995-01-05   46.031250   46.109375   45.953125   46.000000   27.482687      89800\n",
      "1995-01-06   46.093750   46.250000   45.906250   46.046875   27.510689     448400\n",
      "1995-01-09   46.031250   46.093750   46.000000   46.093750   27.538696      36800\n",
      "...                ...         ...         ...         ...         ...        ...\n",
      "2023-10-30  413.559998  416.679993  412.220001  415.589996  415.589996   86562700\n",
      "2023-10-31  416.179993  418.529999  414.209991  418.200012  418.200012   79665200\n",
      "2023-11-01  419.200012  423.500000  418.649994  422.660004  422.660004   98068100\n",
      "2023-11-02  426.579987  430.920013  426.559998  430.760010  430.760010   94938900\n",
      "2023-11-03  433.140015  436.290009  433.010010  434.690002  434.690002  100110800\n",
      "\n",
      "[7262 rows x 6 columns]\n",
      "Dropped columns: {'Unnamed: 304', 'HWM US Equity'}\n",
      "Number of columns before: 304\n",
      "Number of columns after: 302\n",
      "Dropped columns: {'HWM US Equity'}\n",
      "Number of columns before: 303\n",
      "Number of columns after: 302\n",
      "all metrics calculation started 2023-11-06 07:11:17\n",
      "Metrics for 1 year(s) window calculated\n",
      "Metrics for 2 year(s) window calculated\n"
     ]
    }
   ],
   "source": [
    "from compute_metrics import ComputeMetrics\n",
    "\n",
    "os_helper = OsHelper()\n",
    "\n",
    "price_data = os_helper.read_data(directory_name=\"base data\", file_name=\"close_fixed.csv\", index_col=0, low_memory=False)\n",
    "trade_volume = os_helper.read_data(directory_name=\"base data\", file_name=\"volume_fixed.csv\", index_col=0, low_memory=False)\n",
    "spy = os_helper.read_data(directory_name=\"benchmark\", file_name=\"SPY (1).csv\", index_col=0, low_memory=False)\n",
    "\n",
    "print(spy)\n",
    "\n",
    "rolling_window_years = [1, 2, 3]\n",
    "\n",
    "# Compute all risk metrics needed for the strategy and the filter\n",
    "metrics_calculator = ComputeMetrics(price_data=price_data, trade_volume=trade_volume, rolling_window_years=rolling_window_years,\n",
    "                                    benchmark_series=spy['Adj Close'])\n",
    "\n",
    "final_df = metrics_calculator.compile_all_metrics()\n",
    "\n",
    "os_helper.write_data(directory_name=\"transform data\", file_name=\"all_metrics.csv\", data_frame=final_df)"
   ],
   "metadata": {
    "collapsed": false,
    "is_executing": true,
    "ExecuteTime": {
     "start_time": "2023-11-06T12:11:15.106219Z"
    }
   },
   "id": "967ae450e23a7c09"
  },
  {
   "cell_type": "code",
   "execution_count": null,
   "outputs": [],
   "source": [
    "from get_rebal_dates import GetRebalDates, filter_by_rebalance_dates\n",
    "\n",
    "all_metrics = os_helper.read_data(directory_name=\"transform data\", file_name=\"all_metrics.csv\", index_col=0, header=[0, 1])\n",
    "print(all_metrics.head())\n",
    "\n",
    "termination_date = '2015-12-31' # Last day of the backtest\n",
    "initial_year = 2000 # First year of the backtest\n",
    "reb_month = 1\n",
    "reb_week = 2\n",
    "reb_weekday = 'FRI'\n",
    "reb_frequency = 'Q' # Q for quarterly, M for monthly, A for annual, S for semi-annual\n",
    "\n",
    "# Get the rebalance dates of the strategy\n",
    "get_reb_dates = GetRebalDates(termination_date=termination_date, initial_year=initial_year, reb_month=reb_month,\n",
    "                              reb_week=reb_week, reb_weekday=reb_weekday, reb_frequency=reb_frequency)\n",
    "rebalance_dates = get_reb_dates.reb_dates\n",
    "\n",
    "print(\"Dates de rebalancement :\")\n",
    "for date in rebalance_dates:\n",
    "    print(date)\n",
    "\n",
    "reb_metrics = filter_by_rebalance_dates(get_reb_dates=get_reb_dates, data=all_metrics)\n",
    "print(reb_metrics.head())\n",
    "\n",
    "os_helper.write_data(directory_name=\"transform data\", file_name=f\"rebalance_metrics.csv\", data_frame=reb_metrics)"
   ],
   "metadata": {
    "collapsed": false
   },
   "id": "ca86fbff70a8caab"
  },
  {
   "cell_type": "code",
   "execution_count": null,
   "outputs": [],
   "source": [
    "from filter import Filter\n",
    "\n",
    "data = os_helper.read_data(directory_name=\"transform data\", file_name=\"rebalance_metrics.csv\", index_col=0)\n",
    "print(data)\n",
    "risk_filter = Filter(data=data)\n",
    "\n",
    "risk_top_n = 120\n",
    "liquidity_top_n = 200\n",
    "\n",
    "filtered_data = risk_filter.apply_filters(liquidity_top_n=liquidity_top_n, risk_top_n=risk_top_n)\n",
    "print(filtered_data.head())\n",
    "\n",
    "os_helper.write_data(directory_name=\"transform data\", file_name=\"filtered_data.csv\", data_frame=filtered_data)"
   ],
   "metadata": {
    "collapsed": false
   },
   "id": "f092ec4279757cf7"
  },
  {
   "cell_type": "code",
   "execution_count": null,
   "outputs": [],
   "source": [
    "from weighting import InverseMetricsWeighting\n",
    "\n",
    "filtered_data = os_helper.read_data(directory_name=\"transform data\", file_name=\"filtered_data.csv\", index_col=0)\n",
    "print(filtered_data)\n",
    "\n",
    "years_to_inverse = [1, 3]\n",
    "metric_to_inverse = \"beta\"\n",
    "weighting_list = [0.5, 0.5]\n",
    "min_weight = 0.00001\n",
    "max_weight = 0.05\n",
    "\n",
    "inverse_metrics_weighting = InverseMetricsWeighting(filtered_data=filtered_data, years_list=years_to_inverse,\n",
    "                                                    target_metric=metric_to_inverse, weight_list=weighting_list,\n",
    "                                                    min_limit=min_weight, max_limit=max_weight)\n",
    "inverse_metrics_weighting_df = inverse_metrics_weighting.compute_inverse_weighted_metrics()\n",
    "print(inverse_metrics_weighting_df)\n",
    "\n",
    "os_helper.write_data(directory_name=\"transform data\", file_name=\"inverse_metrics_weighting.csv\", data_frame=inverse_metrics_weighting_df)"
   ],
   "metadata": {
    "collapsed": false
   },
   "id": "26b98628bc0fe230"
  },
  {
   "cell_type": "code",
   "execution_count": null,
   "outputs": [],
   "source": [
    "from portfolio_returns import PortfolioReturns\n",
    "\n",
    "prices = os_helper.read_data(directory_name=\"base data\", file_name=\"tot_retl.csv\", index_col=0, sep=',')\n",
    "print(prices.head())\n",
    "weighting_df = os_helper.read_data(directory_name=\"transform data\", file_name=\"inverse_metrics_weighting.csv\", index_col=0)\n",
    "print(weighting_df.head())\n",
    "\n",
    "rebalance_lag = 7 # delay between weight computation and implementation\n",
    "transaction_fee = 0.001 # 0.1% transaction fee\n",
    "\n",
    "pf_returns = PortfolioReturns(prices=prices, weighting_data=weighting_df, rebalance_lag=rebalance_lag, transaction_fee=transaction_fee)\n",
    "drifted_weights = pf_returns.drifted_weights\n",
    "print(drifted_weights.head())\n",
    "portfolio_returns = pf_returns.portfolio_returns\n",
    "print(portfolio_returns.head())\n",
    "\n",
    "os_helper.write_data(directory_name=\"final data\", file_name=\"portfolio_returns.csv\", data_frame=portfolio_returns)\n",
    "os_helper.write_data(directory_name=\"final data\", file_name=\"drifted_weights.csv\", data_frame=drifted_weights)"
   ],
   "metadata": {
    "collapsed": false
   },
   "id": "a5048b3608d70b53"
  },
  {
   "cell_type": "code",
   "execution_count": null,
   "outputs": [],
   "source": [
    "from perf_report import PerfReport\n",
    "\n",
    "benchmark_prices = os_helper.read_data(directory_name=\"benchmark\", file_name=\"SPY (1).csv\", index_col=0)\n",
    "benchmark_prices.sort_index(inplace=True)\n",
    "benchmark_prices.index.name = None\n",
    "benchmark_prices = benchmark_prices[[\"Adj Close\"]]\n",
    "benchmark_prices.columns = [\"SPY\"]\n",
    "\n",
    "print(benchmark_prices.head())\n",
    "\n",
    "strategy_returns = os_helper.read_data(directory_name=\"final data\", file_name=\"portfolio_returns.csv\", index_col=0)\n",
    "print(strategy_returns.head())\n",
    "strategy_returns.columns = [\"Portfolio_Returns\"]\n",
    "\n",
    "perf_report = PerfReport(port_returns=strategy_returns, bench_returns=benchmark_prices, strat_name=\"InverseMetrics\")\n",
    "print(perf_report.get_performance_indicators(rf=0.01, periods_per_year=252))\n",
    "perf_report.generate_html_report(rf=0.01, periods_per_year=252)"
   ],
   "metadata": {
    "collapsed": false
   },
   "id": "d9a9984082d44fab"
  },
  {
   "cell_type": "code",
   "execution_count": null,
   "outputs": [],
   "source": [],
   "metadata": {
    "collapsed": false
   },
   "id": "cb93879a661c649d"
  },
  {
   "cell_type": "code",
   "execution_count": null,
   "outputs": [],
   "source": [],
   "metadata": {
    "collapsed": false
   },
   "id": "7dafe34bde0f0497"
  },
  {
   "cell_type": "code",
   "execution_count": null,
   "outputs": [],
   "source": [],
   "metadata": {
    "collapsed": false
   },
   "id": "a8b095b24ea14bde"
  },
  {
   "cell_type": "code",
   "execution_count": null,
   "outputs": [],
   "source": [],
   "metadata": {
    "collapsed": false
   },
   "id": "e6008cb2a161d244"
  },
  {
   "cell_type": "code",
   "execution_count": null,
   "outputs": [],
   "source": [],
   "metadata": {
    "collapsed": false
   },
   "id": "5a5ce704ab05df2b"
  },
  {
   "cell_type": "code",
   "execution_count": null,
   "outputs": [],
   "source": [],
   "metadata": {
    "collapsed": false
   },
   "id": "ecb0d0ed1f09b4c2"
  },
  {
   "cell_type": "code",
   "execution_count": null,
   "outputs": [],
   "source": [],
   "metadata": {
    "collapsed": false
   },
   "id": "ec7dcc45ac15791d"
  },
  {
   "cell_type": "code",
   "execution_count": null,
   "outputs": [],
   "source": [],
   "metadata": {
    "collapsed": false
   },
   "id": "130668094d130be3"
  },
  {
   "cell_type": "code",
   "execution_count": null,
   "outputs": [],
   "source": [],
   "metadata": {
    "collapsed": false
   },
   "id": "7d12b953fff1a818"
  },
  {
   "cell_type": "code",
   "execution_count": null,
   "outputs": [],
   "source": [],
   "metadata": {
    "collapsed": false
   },
   "id": "7566fd87aadc1e0f"
  },
  {
   "cell_type": "code",
   "execution_count": null,
   "outputs": [],
   "source": [],
   "metadata": {
    "collapsed": false
   },
   "id": "a0e8c21d2f34f04"
  },
  {
   "cell_type": "code",
   "execution_count": null,
   "outputs": [],
   "source": [],
   "metadata": {
    "collapsed": false
   },
   "id": "58fae8da3c30da79"
  },
  {
   "cell_type": "code",
   "execution_count": null,
   "outputs": [],
   "source": [],
   "metadata": {
    "collapsed": false
   },
   "id": "ea762028243a8e43"
  }
 ],
 "metadata": {
  "kernelspec": {
   "display_name": "Python 3",
   "language": "python",
   "name": "python3"
  },
  "language_info": {
   "codemirror_mode": {
    "name": "ipython",
    "version": 2
   },
   "file_extension": ".py",
   "mimetype": "text/x-python",
   "name": "python",
   "nbconvert_exporter": "python",
   "pygments_lexer": "ipython2",
   "version": "2.7.6"
  }
 },
 "nbformat": 4,
 "nbformat_minor": 5
}
