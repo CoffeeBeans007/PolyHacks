{
 "cells": [
  {
   "cell_type": "code",
   "execution_count": 11,
   "id": "initial_id",
   "metadata": {
    "collapsed": true,
    "ExecuteTime": {
     "end_time": "2023-11-06T13:21:46.209380Z",
     "start_time": "2023-11-06T13:21:46.049883Z"
    }
   },
   "outputs": [],
   "source": [
    "from os_helper import OsHelper\n",
    "os_helper = OsHelper()"
   ]
  },
  {
   "cell_type": "code",
   "execution_count": 12,
   "outputs": [
    {
     "name": "stdout",
     "output_type": "stream",
     "text": [
      "Loaded file close_fixed.csv from folder /Users/thomasvaudescal/Documents/Mes_documents/30_TradingClub/PolyFinance/PolyHacks/Data/base data.\n",
      "Loaded file volume_fixed.csv from folder /Users/thomasvaudescal/Documents/Mes_documents/30_TradingClub/PolyFinance/PolyHacks/Data/base data.\n",
      "Loaded file SPY (1).csv from folder /Users/thomasvaudescal/Documents/Mes_documents/30_TradingClub/PolyFinance/PolyHacks/Data/benchmark.\n",
      "            CSCO US Equity  ISRG US Equity  TPR US Equity  DVN US Equity  MRO US Equity  BA US Equity  GILD US Equity  MDT US Equity  V US Equity  A US Equity  MO US Equity  CTRA US Equity  MCHP US Equity  EIX US Equity  BBY US Equity  GEN US Equity  WBA US Equity  DTE US Equity  C US Equity  T US Equity  ...  RHI US Equity  EFX US Equity  NUE US Equity  CTSH US Equity  SWK US Equity  MU US Equity  TRV US Equity  L US Equity  AEP US Equity  CI US Equity  BALL US Equity  JNJ US Equity  DOV US Equity  CRM US Equity  PGR US Equity  WAT US Equity  BWA US Equity  BLK US Equity  PPL US Equity  Unnamed: 304\n",
      "Unnamed: 0                                                                                                                                                                                                                                                                                                         ...                                                                                                                                                                                                                                                                                                         \n",
      "1995-01-03          1.8958             NaN            NaN         8.8125       4.958406        23.375             NaN         6.7031          NaN          NaN        4.4459          1.2188          2.5988         14.750         3.4722         2.1250         5.5938        22.2284      50.9620      15.3314  ...         3.8750          6.825        13.6875             NaN         18.000       10.9375         22.125        7.323         32.875        7.0417          2.0156        13.6250         8.8301            NaN         2.9063            NaN         2.7763            NaN         9.0474           NaN\n",
      "1995-01-04          1.9097             NaN            NaN         8.9375       4.958406        23.313             NaN         6.6875          NaN          NaN        4.5424          1.2292          2.5309         14.750         3.6389         2.1563         5.5938        22.4411      51.5411      15.0955  ...         3.8542          6.727        13.9375             NaN         17.938       11.0000         22.125        7.458         33.250        7.0000          2.0625        13.7500         8.8720            NaN         2.9167            NaN         2.8037            NaN         9.1054           NaN\n",
      "1995-01-05          1.8958             NaN            NaN         9.0000       4.995688        23.375             NaN         6.6875          NaN          NaN        4.4363          1.2083          2.4444         14.750         3.6250         2.0156         5.5938        22.3348      51.7342      15.3314  ...         3.8125          6.825        13.7500             NaN         18.063       10.9063         22.000        7.479         33.250        6.9861          2.0625        13.6875         8.8720            NaN         2.9167            NaN         2.7900            NaN         9.1634           NaN\n",
      "1995-01-06          1.8958             NaN            NaN         9.0000       4.958406        23.813           0.293         6.7188          NaN          NaN        4.4363          1.1979          2.5679         14.875         3.6250         2.2031         5.5938        22.7602      53.2785      15.3314  ...         3.6875          6.891        14.3750             NaN         18.313       10.8438         21.813        7.427         33.500        7.0000          2.0469        13.5938         9.2067            NaN         3.0000            NaN         2.8312            NaN         9.1054           NaN\n",
      "1995-01-09          1.9375             NaN            NaN         8.8125       4.921125        23.813           0.293         6.7656          NaN          NaN        4.4170          1.1667          2.7160         15.125         3.5833         2.1719         5.6250        22.5475      53.0854      15.2842  ...         3.6042          6.661        14.1250             NaN         18.125       10.7500         22.063        7.448         33.375        7.0000          2.0000        13.4375         9.2904            NaN         3.0417            NaN         2.8587            NaN         9.1634           NaN\n",
      "\n",
      "[5 rows x 304 columns]\n",
      "            CSCO US Equity  ISRG US Equity  TPR US Equity  DVN US Equity  MRO US Equity  BA US Equity  GILD US Equity  MDT US Equity  V US Equity  A US Equity  MO US Equity  CTRA US Equity  MCHP US Equity  EIX US Equity  BBY US Equity  GEN US Equity  WBA US Equity  DTE US Equity  C US Equity  T US Equity  ...  WYNN US Equity  RHI US Equity  EFX US Equity  NUE US Equity  CTSH US Equity  SWK US Equity  MU US Equity  TRV US Equity  L US Equity  AEP US Equity  CI US Equity  BALL US Equity  JNJ US Equity  DOV US Equity  CRM US Equity  PGR US Equity  WAT US Equity  BWA US Equity  BLK US Equity  PPL US Equity\n",
      "timestamp                                                                                                                                                                                                                                                                                                          ...                                                                                                                                                                                                                                                                                                           \n",
      "1995-01-03      42233400.0             NaN            NaN            NaN       999800.0     1223200.0             NaN      1860800.0          NaN          NaN     3731400.0        501600.0          687488       544200.0      3071700.0        1831200      4164000.0       297900.0     299880.0     947000.0  ...             NaN       257400.0       108200.0      1010400.0             NaN       131200.0     5118800.0       176000.0     602400.0       137600.0     1995300.0       2025600.0      3628400.0       236000.0            NaN       513600.0            NaN       448800.0            NaN       185800.0\n",
      "1995-01-04      55045800.0             NaN            NaN        16600.0       637800.0     1228400.0             NaN      3384800.0          NaN          NaN     7878600.0        469200.0         4659525       629300.0      6396300.0         504800      2776000.0       248400.0     512100.0    1477000.0  ...             NaN       156000.0       299400.0      1000800.0             NaN       221600.0     4718800.0       257000.0     841200.0       102100.0      707400.0       2060800.0      4161600.0       504800.0            NaN      1683600.0            NaN       499200.0            NaN       416400.0\n",
      "1995-01-05      47185200.0             NaN            NaN         7200.0       755800.0     1744400.0       2972800.0      2468000.0          NaN          NaN     9942300.0        504000.0         3692588       254800.0     10911600.0        2183200      2261600.0        74800.0     618120.0    1823800.0  ...             NaN       358200.0       206400.0       878000.0             NaN       178800.0     4341200.0       138800.0     711600.0       144500.0     2385900.0       6443200.0      3174400.0       728800.0            NaN      1407600.0            NaN        16000.0            NaN       169800.0\n",
      "1995-01-06      36313200.0             NaN            NaN        17800.0       765200.0     2084400.0        313600.0      3023200.0          NaN          NaN     5515800.0        360000.0         5421938       424100.0      6405300.0        8204800      2896000.0       109600.0    1033019.0    1496400.0  ...             NaN       625800.0       412400.0      1340400.0             NaN       191400.0     6192400.0       281800.0     802800.0       209900.0     1277100.0       4371200.0      2118800.0       546400.0            NaN       436800.0            NaN       670400.0            NaN       163400.0\n",
      "1995-01-09      63637200.0             NaN            NaN        62000.0       491600.0     1179400.0      15376000.0      1280000.0          NaN          NaN     2875800.0        762000.0         3007125       680200.0      5468400.0        2508000      1812800.0        88800.0     450960.0     903400.0  ...             NaN       115200.0       266400.0       597200.0             NaN        68200.0     6716000.0       220800.0     919200.0       120900.0      940500.0       1825600.0      4509600.0       256000.0            NaN      1171200.0            NaN        31200.0            NaN       144800.0\n",
      "\n",
      "[5 rows x 303 columns]\n",
      "                 Open       High        Low      Close  Adj Close  Volume\n",
      "Date                                                                     \n",
      "1995-01-03  45.703125  45.843750  45.687500  45.781250  27.352005  324300\n",
      "1995-01-04  45.984375  46.000000  45.750000  46.000000  27.482687  351800\n",
      "1995-01-05  46.031250  46.109375  45.953125  46.000000  27.482687   89800\n",
      "1995-01-06  46.093750  46.250000  45.906250  46.046875  27.510689  448400\n",
      "1995-01-09  46.031250  46.093750  46.000000  46.093750  27.538696   36800\n",
      "Dropped columns: {'HWM US Equity', 'Unnamed: 304'}\n",
      "Number of columns before: 304\n",
      "Number of columns after: 302\n",
      "Dropped columns: {'HWM US Equity'}\n",
      "Number of columns before: 303\n",
      "Number of columns after: 302\n",
      "all metrics calculation started 2023-11-06 08:21:49\n",
      "Metrics for 1 year(s) window calculated\n",
      "Metrics for 2 year(s) window calculated\n",
      "Metrics for 3 year(s) window calculated\n",
      "all metrics calculation ended 2023-11-06 08:31:26\n",
      "duration for all metrics calculation 9.6252 minutes\n",
      "Saved file all_metrics.csv to folder /Users/thomasvaudescal/Documents/Mes_documents/30_TradingClub/PolyFinance/PolyHacks/Data/transform data.\n"
     ]
    }
   ],
   "source": [
    "from compute_metrics import ComputeMetrics\n",
    "\n",
    "price_data = os_helper.read_data(directory_name=\"base data\", file_name=\"close_fixed.csv\", index_col=0, low_memory=False)\n",
    "trade_volume = os_helper.read_data(directory_name=\"base data\", file_name=\"volume_fixed.csv\", index_col=0, low_memory=False)\n",
    "spy = os_helper.read_data(directory_name=\"benchmark\", file_name=\"SPY (1).csv\", index_col=0, low_memory=False)\n",
    "\n",
    "print(price_data.head())\n",
    "print(trade_volume.head())\n",
    "print(spy.head())\n",
    "\n",
    "rolling_window_years = [1, 2, 3]\n",
    "\n",
    "# Compute all risk metrics needed for the strategy and the filter\n",
    "metrics_calculator = ComputeMetrics(price_data=price_data, trade_volume=trade_volume, rolling_window_years=rolling_window_years,\n",
    "                                    benchmark_series=spy['Adj Close'])\n",
    "\n",
    "final_df = metrics_calculator.compile_all_metrics()\n",
    "\n",
    "os_helper.write_data(directory_name=\"transform data\", file_name=\"all_metrics.csv\", data_frame=final_df)"
   ],
   "metadata": {
    "collapsed": false,
    "ExecuteTime": {
     "end_time": "2023-11-06T13:32:02.763339Z",
     "start_time": "2023-11-06T13:21:46.062946Z"
    }
   },
   "id": "967ae450e23a7c09"
  },
  {
   "cell_type": "code",
   "execution_count": 13,
   "outputs": [
    {
     "name": "stdout",
     "output_type": "stream",
     "text": [
      "Loaded file all_metrics.csv from folder /Users/thomasvaudescal/Documents/Mes_documents/30_TradingClub/PolyFinance/PolyHacks/Data/transform data.\n",
      "                   A US Equity                                                                                                                AAPL US Equity                                                                                                                 ABT US Equity                      ... YUM US Equity                     ZBH US Equity                                                                                                                ZION US Equity                                                                                                          \n",
      "           average_turnover_1Y average_turnover_2Y average_turnover_3Y beta_1Y beta_2Y beta_3Y volatility_1Y volatility_2Y volatility_3Y average_turnover_1Y average_turnover_2Y average_turnover_3Y beta_1Y beta_2Y beta_3Y volatility_1Y volatility_2Y volatility_3Y average_turnover_1Y average_turnover_2Y  ... volatility_2Y volatility_3Y average_turnover_1Y average_turnover_2Y average_turnover_3Y beta_1Y beta_2Y beta_3Y volatility_1Y volatility_2Y volatility_3Y average_turnover_1Y average_turnover_2Y average_turnover_3Y beta_1Y beta_2Y beta_3Y volatility_1Y volatility_2Y volatility_3Y\n",
      "1995-01-03                                                                                                                                                                                                                                                                                                      ...                                                                                                                                                                                                                                                                                        \n",
      "1995-01-04                 NaN                 NaN                 NaN     NaN     NaN     NaN           NaN           NaN           NaN                 NaN                 NaN                 NaN     NaN     NaN     NaN           NaN           NaN           NaN                 NaN                 NaN  ...           NaN           NaN                 NaN                 NaN                 NaN     NaN     NaN     NaN           NaN           NaN           NaN                 NaN                 NaN                 NaN     NaN     NaN     NaN           NaN           NaN           NaN\n",
      "1995-01-05                 NaN                 NaN                 NaN     NaN     NaN     NaN           NaN           NaN           NaN                 NaN                 NaN                 NaN     NaN     NaN     NaN           NaN           NaN           NaN                 NaN                 NaN  ...           NaN           NaN                 NaN                 NaN                 NaN     NaN     NaN     NaN           NaN           NaN           NaN                 NaN                 NaN                 NaN     NaN     NaN     NaN           NaN           NaN           NaN\n",
      "1995-01-06                 NaN                 NaN                 NaN     NaN     NaN     NaN           NaN           NaN           NaN                 NaN                 NaN                 NaN     NaN     NaN     NaN           NaN           NaN           NaN                 NaN                 NaN  ...           NaN           NaN                 NaN                 NaN                 NaN     NaN     NaN     NaN           NaN           NaN           NaN                 NaN                 NaN                 NaN     NaN     NaN     NaN           NaN           NaN           NaN\n",
      "1995-01-09                 NaN                 NaN                 NaN     NaN     NaN     NaN           NaN           NaN           NaN                 NaN                 NaN                 NaN     NaN     NaN     NaN           NaN           NaN           NaN                 NaN                 NaN  ...           NaN           NaN                 NaN                 NaN                 NaN     NaN     NaN     NaN           NaN           NaN           NaN                 NaN                 NaN                 NaN     NaN     NaN     NaN           NaN           NaN           NaN\n",
      "1995-01-10                 NaN                 NaN                 NaN     NaN     NaN     NaN           NaN           NaN           NaN                 NaN                 NaN                 NaN     NaN     NaN     NaN           NaN           NaN           NaN                 NaN                 NaN  ...           NaN           NaN                 NaN                 NaN                 NaN     NaN     NaN     NaN           NaN           NaN           NaN                 NaN                 NaN                 NaN     NaN     NaN     NaN           NaN           NaN           NaN\n",
      "\n",
      "[5 rows x 2718 columns]\n",
      "Dates de rebalancement :\n",
      "2000-01-07 00:00:00\n",
      "2000-07-07 00:00:00\n",
      "2001-01-12 00:00:00\n",
      "2001-07-06 00:00:00\n",
      "2002-01-11 00:00:00\n",
      "2002-07-12 00:00:00\n",
      "2003-01-10 00:00:00\n",
      "2003-07-11 00:00:00\n",
      "2004-01-09 00:00:00\n",
      "2004-07-09 00:00:00\n",
      "2005-01-07 00:00:00\n",
      "2005-07-08 00:00:00\n",
      "2006-01-06 00:00:00\n",
      "2006-07-07 00:00:00\n",
      "2007-01-12 00:00:00\n",
      "2007-07-06 00:00:00\n",
      "2008-01-11 00:00:00\n",
      "2008-07-11 00:00:00\n",
      "2009-01-09 00:00:00\n",
      "2009-07-10 00:00:00\n",
      "2010-01-08 00:00:00\n",
      "2010-07-09 00:00:00\n",
      "2011-01-07 00:00:00\n",
      "2011-07-08 00:00:00\n",
      "2012-01-06 00:00:00\n",
      "2012-07-06 00:00:00\n",
      "2013-01-11 00:00:00\n",
      "2013-07-12 00:00:00\n",
      "2014-01-10 00:00:00\n",
      "2014-07-11 00:00:00\n",
      "        Date          Ticker  average_turnover_1Y  average_turnover_2Y  average_turnover_3Y   beta_1Y   beta_2Y   beta_3Y  volatility_1Y  volatility_2Y  volatility_3Y\n",
      "0 2000-01-07  AAPL US Equity         2.822167e+08         2.080641e+08         1.553083e+08  1.351092  1.165324  0.983969       0.602578       0.574981       0.618927\n",
      "1 2000-01-07   ABT US Equity         6.775778e+07         5.411452e+07         4.707382e+07  0.932067  0.841249  0.866634       0.361892       0.323613       0.305512\n",
      "2 2000-01-07  ADBE US Equity         8.940289e+07         6.678857e+07         6.509780e+07  0.966219  0.927739  0.872973       0.496930       0.521665       0.515052\n",
      "3 2000-01-07   ADI US Equity         6.310535e+07         4.873519e+07         4.258878e+07  1.244670  1.140282  1.220119       0.604444       0.623926       0.602759\n",
      "4 2000-01-07   ADM US Equity         1.685440e+07         1.982424e+07         2.319849e+07  0.376382  0.464531  0.516650       0.321483       0.331964       0.319116\n",
      "Saved file rebalance_metrics.csv to folder /Users/thomasvaudescal/Documents/Mes_documents/30_TradingClub/PolyFinance/PolyHacks/Data/transform data.\n"
     ]
    }
   ],
   "source": [
    "from get_rebal_dates import GetRebalDates, filter_by_rebalance_dates\n",
    "\n",
    "all_metrics = os_helper.read_data(directory_name=\"transform data\", file_name=\"all_metrics.csv\", index_col=0, header=[0, 1])\n",
    "print(all_metrics.head())\n",
    "\n",
    "termination_date = '2014-12-31' # Last day of backtest\n",
    "initial_year = 2000 # First year of the backtest\n",
    "reb_month = 1\n",
    "reb_week = 2\n",
    "reb_weekday = 'FRI'\n",
    "reb_frequency = 'S' # Q for quarterly, M for monthly, A for annual, S for semi-annual\n",
    "\n",
    "# Get the rebalance dates of the strategy\n",
    "get_reb_dates = GetRebalDates(termination_date=termination_date, initial_year=initial_year, reb_month=reb_month,\n",
    "                              reb_week=reb_week, reb_weekday=reb_weekday, reb_frequency=reb_frequency)\n",
    "rebalance_dates = get_reb_dates.reb_dates\n",
    "\n",
    "print(\"Dates de rebalancement :\")\n",
    "for date in rebalance_dates:\n",
    "    print(date)\n",
    "\n",
    "reb_metrics = filter_by_rebalance_dates(get_reb_dates=get_reb_dates, data=all_metrics)\n",
    "print(reb_metrics.head())\n",
    "\n",
    "os_helper.write_data(directory_name=\"transform data\", file_name=f\"rebalance_metrics.csv\", data_frame=reb_metrics)"
   ],
   "metadata": {
    "collapsed": false,
    "ExecuteTime": {
     "end_time": "2023-11-06T13:32:08.876267Z",
     "start_time": "2023-11-06T13:32:02.752066Z"
    }
   },
   "id": "ca86fbff70a8caab"
  },
  {
   "cell_type": "code",
   "execution_count": 14,
   "outputs": [
    {
     "name": "stdout",
     "output_type": "stream",
     "text": [
      "Loaded file rebalance_metrics.csv from folder /Users/thomasvaudescal/Documents/Mes_documents/30_TradingClub/PolyFinance/PolyHacks/Data/transform data.\n",
      "            Date          Ticker  average_turnover_1Y  average_turnover_2Y  average_turnover_3Y   beta_1Y   beta_2Y   beta_3Y  volatility_1Y  volatility_2Y  volatility_3Y\n",
      "0     2000-01-07  AAPL US Equity         2.822167e+08         2.080641e+08         1.553083e+08  1.351092  1.165324  0.983969       0.602578       0.574981       0.618927\n",
      "1     2000-01-07   ABT US Equity         6.775778e+07         5.411452e+07         4.707382e+07  0.932067  0.841249  0.866634       0.361892       0.323613       0.305512\n",
      "2     2000-01-07  ADBE US Equity         8.940289e+07         6.678857e+07         6.509780e+07  0.966219  0.927739  0.872973       0.496930       0.521665       0.515052\n",
      "3     2000-01-07   ADI US Equity         6.310535e+07         4.873519e+07         4.258878e+07  1.244670  1.140282  1.220119       0.604444       0.623926       0.602759\n",
      "4     2000-01-07   ADM US Equity         1.685440e+07         1.982424e+07         2.319849e+07  0.376382  0.464531  0.516650       0.321483       0.331964       0.319116\n",
      "...          ...             ...                  ...                  ...                  ...       ...       ...       ...            ...            ...            ...\n",
      "8651  2014-07-11  XRAY US Equity         3.977405e+07         3.562216e+07         3.820912e+07  0.891840  1.026022  1.138882       0.134543       0.163914       0.225478\n",
      "8652  2014-07-11   XYL US Equity         4.391306e+07         3.450245e+07                  NaN -0.100421  0.061258       NaN       0.281123       0.250281            NaN\n",
      "8653  2014-07-11   YUM US Equity         1.552962e+08         1.766891e+08         1.759006e+08  0.015684 -0.051730 -0.096975       0.203171       0.228587       0.244025\n",
      "8654  2014-07-11   ZBH US Equity         1.104578e+08         9.420062e+07         9.811339e+07  0.094784  0.037244 -0.025547       0.198220       0.186783       0.221385\n",
      "8655  2014-07-11  ZION US Equity         6.311126e+07         5.759659e+07         6.050508e+07  1.386033  1.306816  1.583933       0.233943       0.233478       0.336631\n",
      "\n",
      "[8656 rows x 11 columns]\n",
      "         Date         Ticker  average_turnover_1Y  average_turnover_2Y  average_turnover_3Y   beta_1Y   beta_2Y   beta_3Y  volatility_1Y  volatility_2Y  volatility_3Y\n",
      "0  2000-01-07  ADM US Equity         1.685440e+07         1.982424e+07         2.319849e+07  0.376382  0.464531  0.516650       0.321483       0.331964       0.319116\n",
      "1  2000-01-07  ADP US Equity         4.139615e+07         3.827311e+07         3.374083e+07  0.744642  0.792819  0.766803       0.296544       0.293345       0.284797\n",
      "2  2000-01-07  AEP US Equity         1.684560e+07         1.810501e+07         1.777850e+07  0.275702  0.248073  0.278439       0.209497       0.197221       0.180720\n",
      "3  2000-01-07  AES US Equity         4.062485e+07         3.431749e+07         2.833713e+07  0.460641  0.691590  0.636934       0.396610       0.464803       0.439248\n",
      "4  2000-01-07  APA US Equity         3.053278e+07         2.260925e+07         2.102268e+07  0.266976  0.549218  0.480619       0.511574       0.476057       0.426099\n",
      "Saved file filtered_data.csv to folder /Users/thomasvaudescal/Documents/Mes_documents/30_TradingClub/PolyFinance/PolyHacks/Data/transform data.\n"
     ]
    }
   ],
   "source": [
    "from filter import Filter\n",
    "\n",
    "data = os_helper.read_data(directory_name=\"transform data\", file_name=\"rebalance_metrics.csv\", index_col=0)\n",
    "print(data)\n",
    "risk_filter = Filter(data=data)\n",
    "\n",
    "risk_top_n = 140\n",
    "liquidity_top_n = 200\n",
    "\n",
    "filtered_data = risk_filter.apply_filters(liquidity_top_n=liquidity_top_n, risk_top_n=risk_top_n)\n",
    "print(filtered_data.head())\n",
    "\n",
    "os_helper.write_data(directory_name=\"transform data\", file_name=\"filtered_data.csv\", data_frame=filtered_data)"
   ],
   "metadata": {
    "collapsed": false,
    "ExecuteTime": {
     "end_time": "2023-11-06T13:32:09.249453Z",
     "start_time": "2023-11-06T13:32:08.867701Z"
    }
   },
   "id": "f092ec4279757cf7"
  },
  {
   "cell_type": "code",
   "execution_count": 15,
   "outputs": [
    {
     "name": "stdout",
     "output_type": "stream",
     "text": [
      "Loaded file filtered_data.csv from folder /Users/thomasvaudescal/Documents/Mes_documents/30_TradingClub/PolyFinance/PolyHacks/Data/transform data.\n",
      "            Date          Ticker  average_turnover_1Y  average_turnover_2Y  average_turnover_3Y   beta_1Y   beta_2Y   beta_3Y  volatility_1Y  volatility_2Y  volatility_3Y\n",
      "0     2000-01-07   ADM US Equity         1.685440e+07         1.982424e+07         2.319849e+07  0.376382  0.464531  0.516650       0.321483       0.331964       0.319116\n",
      "1     2000-01-07   ADP US Equity         4.139615e+07         3.827311e+07         3.374083e+07  0.744642  0.792819  0.766803       0.296544       0.293345       0.284797\n",
      "2     2000-01-07   AEP US Equity         1.684560e+07         1.810501e+07         1.777850e+07  0.275702  0.248073  0.278439       0.209497       0.197221       0.180720\n",
      "3     2000-01-07   AES US Equity         4.062485e+07         3.431749e+07         2.833713e+07  0.460641  0.691590  0.636934       0.396610       0.464803       0.439248\n",
      "4     2000-01-07   APA US Equity         3.053278e+07         2.260925e+07         2.102268e+07  0.266976  0.549218  0.480619       0.511574       0.476057       0.426099\n",
      "...          ...             ...                  ...                  ...                  ...       ...       ...       ...            ...            ...            ...\n",
      "4195  2014-07-11  WELL US Equity         1.167328e+08         1.260232e+08         1.204965e+08  0.461136  0.570642  0.852421       0.177774       0.176133       0.220640\n",
      "4196  2014-07-11   XEL US Equity         8.794070e+07         8.213639e+07         8.052998e+07  0.535207  0.595079  0.552316       0.133080       0.134079       0.148878\n",
      "4197  2014-07-11  XRAY US Equity         3.977405e+07         3.562216e+07         3.820912e+07  0.891840  1.026022  1.138882       0.134543       0.163914       0.225478\n",
      "4198  2014-07-11   YUM US Equity         1.552962e+08         1.766891e+08         1.759006e+08  0.015684 -0.051730 -0.096975       0.203171       0.228587       0.244025\n",
      "4199  2014-07-11   ZBH US Equity         1.104578e+08         9.420062e+07         9.811339e+07  0.094784  0.037244 -0.025547       0.198220       0.186783       0.221385\n",
      "\n",
      "[4200 rows x 11 columns]\n",
      "All weights sum to 1 for each date.\n",
      "           Date          Ticker    Weight\n",
      "0    2000-01-07   ADM US Equity  0.003869\n",
      "1    2000-01-07   ADP US Equity  0.003701\n",
      "2    2000-01-07   AEP US Equity  0.004188\n",
      "3    2000-01-07   AES US Equity  0.003772\n",
      "4    2000-01-07   APA US Equity  0.003910\n",
      "...         ...             ...       ...\n",
      "4195 2014-07-11  WELL US Equity  0.000062\n",
      "4196 2014-07-11   XEL US Equity  0.000061\n",
      "4197 2014-07-11  XRAY US Equity  0.000035\n",
      "4198 2014-07-11   YUM US Equity  0.020790\n",
      "4199 2014-07-11   ZBH US Equity  0.007182\n",
      "\n",
      "[4200 rows x 3 columns]\n",
      "Saved file inverse_metrics_weighting.csv to folder /Users/thomasvaudescal/Documents/Mes_documents/30_TradingClub/PolyFinance/PolyHacks/Data/transform data.\n"
     ]
    }
   ],
   "source": [
    "from weighting import InverseMetricsWeighting\n",
    "\n",
    "filtered_data = os_helper.read_data(directory_name=\"transform data\", file_name=\"filtered_data.csv\", index_col=0)\n",
    "print(filtered_data)\n",
    "\n",
    "years_to_inverse = [1, 2, 3]\n",
    "metric_to_inverse = \"beta\"\n",
    "weighting_list = [] # Equal weighting of betas\n",
    "min_weight = 0.00001\n",
    "max_weight = 0.05\n",
    "\n",
    "inverse_metrics_weighting = InverseMetricsWeighting(filtered_data=filtered_data, years_list=years_to_inverse,\n",
    "                                                    target_metric=metric_to_inverse, weight_list=weighting_list,\n",
    "                                                    min_limit=min_weight, max_limit=max_weight)\n",
    "inverse_metrics_weighting_df = inverse_metrics_weighting.compute_inverse_weighted_metrics()\n",
    "print(inverse_metrics_weighting_df)\n",
    "\n",
    "os_helper.write_data(directory_name=\"transform data\", file_name=\"inverse_metrics_weighting.csv\", data_frame=inverse_metrics_weighting_df)"
   ],
   "metadata": {
    "collapsed": false,
    "ExecuteTime": {
     "end_time": "2023-11-06T13:32:09.966109Z",
     "start_time": "2023-11-06T13:32:09.244568Z"
    }
   },
   "id": "26b98628bc0fe230"
  },
  {
   "cell_type": "code",
   "execution_count": 16,
   "outputs": [
    {
     "name": "stdout",
     "output_type": "stream",
     "text": [
      "Loaded file tot_ret_fixed.csv from folder /Users/thomasvaudescal/Documents/Mes_documents/30_TradingClub/PolyFinance/PolyHacks/Data/base data.\n",
      "            CSCO US Equity  ISRG US Equity  TPR US Equity  DVN US Equity  MRO US Equity  BA US Equity  GILD US Equity  MDT US Equity  V US Equity  A US Equity  MO US Equity  CTRA US Equity  MCHP US Equity  EIX US Equity  BBY US Equity  GEN US Equity  WBA US Equity  DTE US Equity  C US Equity  T US Equity  ...  WYNN US Equity  RHI US Equity  EFX US Equity  NUE US Equity  CTSH US Equity  SWK US Equity  MU US Equity  TRV US Equity  L US Equity  AEP US Equity  CI US Equity  BALL US Equity  JNJ US Equity  DOV US Equity  CRM US Equity  PGR US Equity  WAT US Equity  BWA US Equity  BLK US Equity  PPL US Equity\n",
      "Date                                                                                                                                                                                                                                                                                                               ...                                                                                                                                                                                                                                                                                                           \n",
      "1995-01-03          1.8958             NaN            NaN            NaN         5.0462        23.375             NaN         6.7031      11.0000          NaN        4.4459          1.2188          2.5988         14.750         3.4722         2.1250         5.5938        22.2284      50.9620      15.3314  ...             NaN         3.8750          6.825        13.6875             NaN         18.000       10.9375         22.125        7.323         32.875        7.0417          2.0156        13.6250         8.8301            NaN         2.9063            NaN         2.7763            NaN         9.0474\n",
      "1995-01-04          1.9097             NaN            NaN         8.9375         5.0462        23.313             NaN         6.6875      14.1250          NaN        4.5424          1.2292          2.5309         14.750         3.6389         2.1563         5.5938        22.4411      51.5411      15.2446  ...             NaN         3.8542          6.727        13.9375             NaN         17.938       11.0000         22.125        7.458         33.250        7.0000          2.0625        13.7500         8.8720            NaN         2.9167            NaN         2.8037            NaN         9.1054\n",
      "1995-01-05          1.8958             NaN            NaN         9.0000         5.0841        23.375             NaN         6.6875      16.0875          NaN        4.4363          1.2083          2.4444         14.750         3.6250         2.0156         5.5938        22.3348      51.7342      15.4828  ...             NaN         3.8125          6.825        13.7500             NaN         18.063       10.9063         22.000        7.479         33.250        6.9861          2.0625        13.6875         8.8720            NaN         2.9167            NaN         2.7900            NaN         9.1634\n",
      "1995-01-06          1.8958             NaN            NaN         9.0000         5.0462        23.813             NaN         6.7188      14.9325          NaN        4.4363          1.1979          2.5679         14.875         3.6250         2.2031         5.5938        22.7602      53.2785      15.4828  ...             NaN         3.6875          6.891        14.3750             NaN         18.313       10.8438         21.813        7.427         33.500        7.0000          2.0469        13.5938         9.2067            NaN         3.0000            NaN         2.8312            NaN         9.1054\n",
      "1995-01-09          1.9375             NaN            NaN         8.8125         5.0083        23.813          0.3438         6.7656      15.8125          NaN        4.4170          1.1667          2.7160         15.125         3.5833         2.1719         5.6250        22.5475      53.0854      15.4351  ...             NaN         3.6042          6.661        14.1250             NaN         18.125       10.7500         22.063        7.448         33.375        7.0000          2.0000        13.4375         9.2904            NaN         3.0417            NaN         2.8587            NaN         9.1634\n",
      "\n",
      "[5 rows x 303 columns]\n",
      "Loaded file inverse_metrics_weighting.csv from folder /Users/thomasvaudescal/Documents/Mes_documents/30_TradingClub/PolyFinance/PolyHacks/Data/transform data.\n",
      "         Date         Ticker    Weight\n",
      "0  2000-01-07  ADM US Equity  0.003869\n",
      "1  2000-01-07  ADP US Equity  0.003701\n",
      "2  2000-01-07  AEP US Equity  0.004188\n",
      "3  2000-01-07  AES US Equity  0.003772\n",
      "4  2000-01-07  APA US Equity  0.003910\n",
      "           A US Equity ABT US Equity ACN US Equity ADI US Equity ADM US Equity ADP US Equity AEE US Equity AEP US Equity AES US Equity AFL US Equity AIZ US Equity AKAM US Equity ALL US Equity AMP US Equity AMT US Equity AON US Equity APA US Equity APD US Equity APH US Equity AVB US Equity  ... TXT US Equity UNH US Equity UNP US Equity VFC US Equity VLO US Equity VMC US Equity VRSN US Equity VTR US Equity VTRS US Equity WAT US Equity WBA US Equity WEC US Equity WELL US Equity WMB US Equity WYNN US Equity XEL US Equity XRAY US Equity YUM US Equity ZBH US Equity ZION US Equity\n",
      "2000-01-14         0.0           0.0           0.0           0.0      0.003869      0.003701           0.0      0.004188      0.003772           0.0           0.0            0.0           0.0           0.0           0.0           0.0       0.00391      0.003788           0.0      0.006842  ...      0.003729      0.003791      0.003934      0.003805           0.0      0.004021            0.0      0.042888       0.003765      0.004862           0.0      0.004445       0.004754      0.003772            0.0       0.00412       0.004014           0.0           0.0       0.003747\n",
      "2000-01-18         0.0           0.0           0.0           0.0      0.004012      0.003462           0.0      0.004057      0.003505           0.0           0.0            0.0           0.0           0.0           0.0           0.0      0.004242      0.003578           0.0      0.007024  ...      0.003607      0.003602      0.003762      0.003777           0.0      0.004101            0.0      0.043228       0.003788      0.004983           0.0      0.004328       0.004593      0.003917            0.0      0.003963       0.003903           0.0           0.0       0.003531\n",
      "2000-01-19         0.0           0.0           0.0           0.0      0.004112      0.003804           0.0      0.004115      0.003528           0.0           0.0            0.0           0.0           0.0           0.0           0.0      0.004219      0.003589           0.0      0.006958  ...      0.003402      0.003637      0.003702      0.003862           0.0      0.004099            0.0      0.043273       0.003826      0.005268           0.0      0.004444       0.004758      0.003841            0.0      0.003968       0.003887           0.0           0.0       0.003572\n",
      "2000-01-20         0.0           0.0           0.0           0.0      0.004042      0.003599           0.0      0.004095       0.00352           0.0           0.0            0.0           0.0           0.0           0.0           0.0      0.004274      0.003495           0.0      0.007015  ...      0.003134      0.003752      0.003587      0.003863           0.0      0.004073            0.0      0.042884       0.003816      0.005234           0.0      0.004445       0.004897      0.004102            0.0      0.003956         0.0038           0.0           0.0       0.003532\n",
      "2000-01-21         0.0           0.0           0.0           0.0      0.004061      0.003615           0.0       0.00425      0.003659           0.0           0.0            0.0           0.0           0.0           0.0           0.0      0.004467      0.003417           0.0      0.007081  ...        0.0033      0.003625      0.003772      0.003916           0.0      0.004035            0.0       0.04261       0.003722      0.005288           0.0      0.004585       0.005033       0.00427            0.0      0.004018       0.003931           0.0           0.0       0.003595\n",
      "\n",
      "[5 rows x 239 columns]\n",
      "            Portfolio_Returns\n",
      "2000-01-14           0.000000\n",
      "2000-01-18           0.007622\n",
      "2000-01-19          -0.001033\n",
      "2000-01-20          -0.006445\n",
      "2000-01-21          -0.009305\n",
      "Saved file portfolio_returns.csv to folder /Users/thomasvaudescal/Documents/Mes_documents/30_TradingClub/PolyFinance/PolyHacks/Data/final data.\n",
      "Saved file drifted_weights.csv to folder /Users/thomasvaudescal/Documents/Mes_documents/30_TradingClub/PolyFinance/PolyHacks/Data/final data.\n"
     ]
    }
   ],
   "source": [
    "from portfolio_returns import PortfolioReturns\n",
    "\n",
    "prices = os_helper.read_data(directory_name=\"base data\", file_name=\"tot_ret_fixed.csv\", index_col=0, sep=',')\n",
    "print(prices.head())\n",
    "weighting_df = os_helper.read_data(directory_name=\"transform data\", file_name=\"inverse_metrics_weighting.csv\", index_col=0)\n",
    "print(weighting_df.head())\n",
    "\n",
    "rebalance_lag = 7 # delay between weight computation and implementation\n",
    "transaction_fee = 0.001 # 0.1% transaction fee\n",
    "\n",
    "pf_returns = PortfolioReturns(prices=prices, weighting_data=weighting_df, rebalance_lag=rebalance_lag, transaction_fee=transaction_fee)\n",
    "drifted_weights = pf_returns.drifted_weights\n",
    "print(drifted_weights.head())\n",
    "portfolio_returns = pf_returns.portfolio_returns\n",
    "print(portfolio_returns.head())\n",
    "\n",
    "os_helper.write_data(directory_name=\"final data\", file_name=\"portfolio_returns.csv\", data_frame=portfolio_returns)\n",
    "os_helper.write_data(directory_name=\"final data\", file_name=\"drifted_weights.csv\", data_frame=drifted_weights)"
   ],
   "metadata": {
    "collapsed": false,
    "ExecuteTime": {
     "end_time": "2023-11-06T13:32:24.901626Z",
     "start_time": "2023-11-06T13:32:09.956223Z"
    }
   },
   "id": "a5048b3608d70b53"
  },
  {
   "cell_type": "code",
   "execution_count": 17,
   "outputs": [
    {
     "name": "stdout",
     "output_type": "stream",
     "text": [
      "Loaded file F-F_Research_Data_5_Factors_2x3_daily.csv from folder /Users/thomasvaudescal/Documents/Mes_documents/30_TradingClub/PolyFinance/PolyHacks/Data/benchmark.\n",
      "Loaded file portfolio_returns.csv from folder /Users/thomasvaudescal/Documents/Mes_documents/30_TradingClub/PolyFinance/PolyHacks/Data/final data.\n",
      "   Unnamed: 0  Mkt-RF   SMB   HML   RMW   CMA     RF\n",
      "0    19630701   -0.67  0.02 -0.35  0.03  0.13  0.012\n",
      "1    19630702    0.79 -0.28  0.28 -0.08 -0.21  0.012\n",
      "2    19630703    0.63 -0.18 -0.10  0.13 -0.25  0.012\n",
      "3    19630705    0.40  0.09 -0.28  0.07 -0.30  0.012\n",
      "4    19630708   -0.63  0.07 -0.20 -0.27  0.06  0.012\n",
      "   Unnamed: 0  Portfolio_Returns\n",
      "0  2000-01-14           0.000000\n",
      "1  2000-01-18           0.007622\n",
      "2  2000-01-19          -0.001033\n",
      "3  2000-01-20          -0.006445\n",
      "4  2000-01-21          -0.009305\n",
      "                                 OLS Regression Results                                \n",
      "=======================================================================================\n",
      "Dep. Variable:          Excess_Return   R-squared (uncentered):                   0.030\n",
      "Model:                            OLS   Adj. R-squared (uncentered):              0.028\n",
      "Method:                 Least Squares   F-statistic:                              24.46\n",
      "Date:                Mon, 06 Nov 2023   Prob (F-statistic):                    2.46e-24\n",
      "Time:                        08:32:25   Log-Likelihood:                          15490.\n",
      "No. Observations:                4016   AIC:                                 -3.097e+04\n",
      "Df Residuals:                    4011   BIC:                                 -3.094e+04\n",
      "Df Model:                           5                                                  \n",
      "Covariance Type:            nonrobust                                                  \n",
      "==============================================================================\n",
      "                 coef    std err          t      P>|t|      [0.025      0.975]\n",
      "------------------------------------------------------------------------------\n",
      "Mkt-RF         0.0630      0.007      8.579      0.000       0.049       0.077\n",
      "SMB           -0.0808      0.014     -5.754      0.000      -0.108      -0.053\n",
      "HML           -0.0769      0.013     -5.773      0.000      -0.103      -0.051\n",
      "RMW            0.0036      0.017      0.204      0.838      -0.031       0.038\n",
      "CMA            0.1159      0.023      5.101      0.000       0.071       0.160\n",
      "==============================================================================\n",
      "Omnibus:                      320.429   Durbin-Watson:                   2.048\n",
      "Prob(Omnibus):                  0.000   Jarque-Bera (JB):             1187.511\n",
      "Skew:                          -0.338   Prob(JB):                    1.37e-258\n",
      "Kurtosis:                       5.577   Cond. No.                         3.97\n",
      "==============================================================================\n",
      "\n",
      "Notes:\n",
      "[1] R² is computed without centering (uncentered) since the model does not contain a constant.\n",
      "[2] Standard Errors assume that the covariance matrix of the errors is correctly specified.\n",
      "              Mkt-RF       SMB       HML       RMW       CMA\n",
      "Date                                                        \n",
      "2001-01-12  0.370616 -0.142982  0.036921 -0.045446  0.446338\n",
      "2001-01-16  0.367954 -0.147992  0.040199 -0.050555  0.443461\n",
      "2001-01-17  0.370183 -0.157194  0.034824 -0.047129  0.450694\n",
      "2001-01-18  0.371288 -0.156882  0.036439 -0.050559  0.455624\n",
      "2001-01-19  0.368958 -0.158849  0.036327 -0.052335  0.453735\n",
      "...              ...       ...       ...       ...       ...\n",
      "2015-12-24  0.031743  0.101488  0.033796  0.234125  0.080823\n",
      "2015-12-28  0.031479  0.099667  0.032622  0.233619  0.081985\n",
      "2015-12-29  0.031842  0.099781  0.032511  0.234138   0.08029\n",
      "2015-12-30  0.030885  0.097385  0.028125  0.232656  0.088745\n",
      "2015-12-31  0.041482  0.115699  0.018402  0.263401  0.088468\n",
      "\n",
      "[3765 rows x 5 columns]\n"
     ]
    }
   ],
   "source": [
    "from fama_regress import FamaFrenchRegression\n",
    "\n",
    "ff_factors = os_helper.read_data(directory_name='benchmark', file_name='F-F_Research_Data_5_Factors_2x3_daily.csv')\n",
    "portfolio_returns = os_helper.read_data(directory_name='final data', file_name='portfolio_returns.csv')\n",
    "\n",
    "print(ff_factors.head())\n",
    "print(portfolio_returns.head())\n",
    "\n",
    "# Instantiate the FamaFrenchRegression class\n",
    "ff_regression = FamaFrenchRegression(ff_factors, portfolio_returns)\n",
    "\n",
    "# Run the regression\n",
    "ff_regression.run_regression()\n",
    "\n",
    "# Retrieve and display the regression results\n",
    "regression_results = ff_regression.get_regression_results()\n",
    "print(regression_results)\n",
    "\n",
    " # Run the rolling regression\n",
    "rolling_results = ff_regression.run_rolling_regression(window_size=252)\n",
    "\n",
    "# Print or use the rolling regression results\n",
    "print(rolling_results)\n"
   ],
   "metadata": {
    "collapsed": false,
    "ExecuteTime": {
     "end_time": "2023-11-06T13:32:34.637244Z",
     "start_time": "2023-11-06T13:32:24.911743Z"
    }
   },
   "id": "f56b83f2f81ed2c1"
  },
  {
   "cell_type": "code",
   "execution_count": 18,
   "outputs": [
    {
     "name": "stdout",
     "output_type": "stream",
     "text": [
      "Loaded file SPY (1).csv from folder /Users/thomasvaudescal/Documents/Mes_documents/30_TradingClub/PolyFinance/PolyHacks/Data/benchmark.\n",
      "                  SPY\n",
      "1995-01-03  27.352005\n",
      "1995-01-04  27.482687\n",
      "1995-01-05  27.482687\n",
      "1995-01-06  27.510689\n",
      "1995-01-09  27.538696\n",
      "Loaded file portfolio_returns.csv from folder /Users/thomasvaudescal/Documents/Mes_documents/30_TradingClub/PolyFinance/PolyHacks/Data/final data.\n",
      "            Portfolio_Returns\n",
      "2000-01-14           0.000000\n",
      "2000-01-18           0.007622\n",
      "2000-01-19          -0.001033\n",
      "2000-01-20          -0.006445\n",
      "2000-01-21          -0.009305\n",
      "{'Cumulative Returns': 8.626309625980245, 'CAGR': 0.15231620683851443, 'Sharpe': 1.652652410736296, 'Sortino': 2.4436995649045157, 'Calmar': 1.6734970349078595, 'Max Drawdown': -0.09101671748519158, 'Average Return': 0.0005775231060992804, 'Volatility': 0.0820190958210068, 'Tail Ratio': 1.073163657650231, 'Gain to Pain Ratio': 0.35138239262976195, 'Value at Risk (VaR)': -0.00792111453472652, 'Conditional Value at Risk (CVaR)': -0.01182389986936317, 'Kelly Criterion': 0.14661979652553178, 'Risk of Ruin': 0.0, 'Win Rate': 0.5638854296388544}\n"
     ]
    },
    {
     "name": "stderr",
     "output_type": "stream",
     "text": [
      "/Users/thomasvaudescal/.virtualenvs/PolyHacks/lib/python3.11/site-packages/quantstats/stats.py:968: FutureWarning: In a future version of pandas all arguments of DataFrame.pivot will be keyword-only.\n",
      "  returns = returns.pivot('Year', 'Month', 'Returns').fillna(0)\n"
     ]
    },
    {
     "name": "stdout",
     "output_type": "stream",
     "text": [
      "Moved file InverseMetrics_backtesting_report.html to folder /Users/thomasvaudescal/Documents/Mes_documents/30_TradingClub/PolyFinance/PolyHacks/Codes/reports.\n"
     ]
    }
   ],
   "source": [
    "from perf_report import PerfReport\n",
    "\n",
    "benchmark_prices = os_helper.read_data(directory_name=\"benchmark\", file_name=\"SPY (1).csv\", index_col=0)\n",
    "benchmark_prices.sort_index(inplace=True)\n",
    "benchmark_prices.index.name = None\n",
    "benchmark_prices = benchmark_prices[[\"Adj Close\"]]\n",
    "benchmark_prices.columns = [\"SPY\"]\n",
    "\n",
    "print(benchmark_prices.head())\n",
    "\n",
    "strategy_returns = os_helper.read_data(directory_name=\"final data\", file_name=\"portfolio_returns.csv\", index_col=0)\n",
    "print(strategy_returns.head())\n",
    "strategy_returns.columns = [\"Portfolio_Returns\"]\n",
    "\n",
    "perf_report = PerfReport(port_returns=strategy_returns, bench_returns=benchmark_prices, strat_name=\"InverseMetrics\")\n",
    "print(perf_report.get_performance_indicators(rf=0.01, periods_per_year=252))\n",
    "perf_report.generate_html_report(rf=0.01, periods_per_year=252)"
   ],
   "metadata": {
    "collapsed": false,
    "ExecuteTime": {
     "end_time": "2023-11-06T13:32:46.798251Z",
     "start_time": "2023-11-06T13:32:34.633416Z"
    }
   },
   "id": "d9a9984082d44fab"
  },
  {
   "cell_type": "code",
   "execution_count": 19,
   "outputs": [
    {
     "name": "stdout",
     "output_type": "stream",
     "text": [
      "Loaded file drifted_weights.csv from folder /Users/thomasvaudescal/Documents/Mes_documents/30_TradingClub/PolyFinance/PolyHacks/Data/final data.\n",
      "            A US Equity  ABT US Equity  ACN US Equity  ADI US Equity  ADM US Equity  ADP US Equity  AEE US Equity  AEP US Equity  AES US Equity  AFL US Equity  AIZ US Equity  AKAM US Equity  ALL US Equity  AMP US Equity  AMT US Equity  AON US Equity  APA US Equity  APD US Equity  APH US Equity  AVB US Equity  ...  TXT US Equity  UNH US Equity  UNP US Equity  VFC US Equity  VLO US Equity  VMC US Equity  VRSN US Equity  VTR US Equity  VTRS US Equity  WAT US Equity  WBA US Equity  WEC US Equity  WELL US Equity  WMB US Equity  WYNN US Equity  XEL US Equity  XRAY US Equity  YUM US Equity  ZBH US Equity  ZION US Equity\n",
      "2000-01-14          0.0            0.0            0.0            0.0       0.003869       0.003701            0.0       0.004188       0.003772            0.0            0.0             0.0            0.0            0.0            0.0            0.0       0.003910       0.003788            0.0       0.006842  ...       0.003729       0.003791       0.003934       0.003805            0.0       0.004021             0.0       0.042888        0.003765       0.004862            0.0       0.004445        0.004754       0.003772             0.0       0.004120        0.004014            0.0            0.0        0.003747\n",
      "2000-01-18          0.0            0.0            0.0            0.0       0.004012       0.003462            0.0       0.004057       0.003505            0.0            0.0             0.0            0.0            0.0            0.0            0.0       0.004242       0.003578            0.0       0.007024  ...       0.003607       0.003602       0.003762       0.003777            0.0       0.004101             0.0       0.043228        0.003788       0.004983            0.0       0.004328        0.004593       0.003917             0.0       0.003963        0.003903            0.0            0.0        0.003531\n",
      "2000-01-19          0.0            0.0            0.0            0.0       0.004112       0.003804            0.0       0.004115       0.003528            0.0            0.0             0.0            0.0            0.0            0.0            0.0       0.004219       0.003589            0.0       0.006958  ...       0.003402       0.003637       0.003702       0.003862            0.0       0.004099             0.0       0.043273        0.003826       0.005268            0.0       0.004444        0.004758       0.003841             0.0       0.003968        0.003887            0.0            0.0        0.003572\n",
      "2000-01-20          0.0            0.0            0.0            0.0       0.004042       0.003599            0.0       0.004095       0.003520            0.0            0.0             0.0            0.0            0.0            0.0            0.0       0.004274       0.003495            0.0       0.007015  ...       0.003134       0.003752       0.003587       0.003863            0.0       0.004073             0.0       0.042884        0.003816       0.005234            0.0       0.004445        0.004897       0.004102             0.0       0.003956        0.003800            0.0            0.0        0.003532\n",
      "2000-01-21          0.0            0.0            0.0            0.0       0.004061       0.003615            0.0       0.004250       0.003659            0.0            0.0             0.0            0.0            0.0            0.0            0.0       0.004467       0.003417            0.0       0.007081  ...       0.003300       0.003625       0.003772       0.003916            0.0       0.004035             0.0       0.042610        0.003722       0.005288            0.0       0.004585        0.005033       0.004270             0.0       0.004018        0.003931            0.0            0.0        0.003595\n",
      "\n",
      "[5 rows x 239 columns]\n",
      "          date  weight_A  weight_ABT  weight_ACN  weight_ADI  weight_ADM  weight_ADP  weight_AEE  weight_AEP  weight_AES  weight_AFL  weight_AIZ  weight_AKAM  weight_ALL  weight_AMP  weight_AMT  weight_AON  weight_APA  weight_APD  weight_APH  ...  weight_TXT  weight_UNH  weight_UNP  weight_VFC  weight_VLO  weight_VMC  weight_VRSN  weight_VTR  weight_VTRS  weight_WAT  weight_WBA  weight_WEC  weight_WELL  weight_WMB  weight_WYNN  weight_XEL  weight_XRAY  weight_YUM  weight_ZBH  weight_ZION\n",
      "id                                                                                                                                                                                                                                                 ...                                                                                                                                                                                                                                                      \n",
      "0   2000-01-14       0.0         0.0         0.0         0.0    0.003869    0.003701         0.0    0.004188    0.003772         0.0         0.0          0.0         0.0         0.0         0.0         0.0    0.003910    0.003788         0.0  ...    0.003729    0.003791    0.003934    0.003805         0.0    0.004021          0.0    0.042888     0.003765    0.004862         0.0    0.004445     0.004754    0.003772          0.0    0.004120     0.004014         0.0         0.0     0.003747\n",
      "1   2000-01-18       0.0         0.0         0.0         0.0    0.004012    0.003462         0.0    0.004057    0.003505         0.0         0.0          0.0         0.0         0.0         0.0         0.0    0.004242    0.003578         0.0  ...    0.003607    0.003602    0.003762    0.003777         0.0    0.004101          0.0    0.043228     0.003788    0.004983         0.0    0.004328     0.004593    0.003917          0.0    0.003963     0.003903         0.0         0.0     0.003531\n",
      "2   2000-01-19       0.0         0.0         0.0         0.0    0.004112    0.003804         0.0    0.004115    0.003528         0.0         0.0          0.0         0.0         0.0         0.0         0.0    0.004219    0.003589         0.0  ...    0.003402    0.003637    0.003702    0.003862         0.0    0.004099          0.0    0.043273     0.003826    0.005268         0.0    0.004444     0.004758    0.003841          0.0    0.003968     0.003887         0.0         0.0     0.003572\n",
      "3   2000-01-20       0.0         0.0         0.0         0.0    0.004042    0.003599         0.0    0.004095    0.003520         0.0         0.0          0.0         0.0         0.0         0.0         0.0    0.004274    0.003495         0.0  ...    0.003134    0.003752    0.003587    0.003863         0.0    0.004073          0.0    0.042884     0.003816    0.005234         0.0    0.004445     0.004897    0.004102          0.0    0.003956     0.003800         0.0         0.0     0.003532\n",
      "4   2000-01-21       0.0         0.0         0.0         0.0    0.004061    0.003615         0.0    0.004250    0.003659         0.0         0.0          0.0         0.0         0.0         0.0         0.0    0.004467    0.003417         0.0  ...    0.003300    0.003625    0.003772    0.003916         0.0    0.004035          0.0    0.042610     0.003722    0.005288         0.0    0.004585     0.005033    0.004270          0.0    0.004018     0.003931         0.0         0.0     0.003595\n",
      "\n",
      "[5 rows x 240 columns]\n",
      "Saved file submission_weights.csv to folder /Users/thomasvaudescal/Documents/Mes_documents/30_TradingClub/PolyFinance/PolyHacks/Data/final data.\n"
     ]
    }
   ],
   "source": [
    "from stickyRebalance import prepare_drifted_weights_format_submission\n",
    "\n",
    "drifted_weights = os_helper.read_data(directory_name='final data', file_name='drifted_weights.csv', index_col=0)\n",
    "print(drifted_weights.head())\n",
    "\n",
    "submission_weights = prepare_drifted_weights_format_submission(drifted_weights=drifted_weights)\n",
    "\n",
    "print(submission_weights.head())\n",
    "\n",
    "os_helper.write_data(directory_name='final data', file_name='submission_weights.csv', data_frame=submission_weights)"
   ],
   "metadata": {
    "collapsed": false,
    "ExecuteTime": {
     "end_time": "2023-11-06T13:32:48.697807Z",
     "start_time": "2023-11-06T13:32:46.791379Z"
    }
   },
   "id": "cb93879a661c649d"
  },
  {
   "cell_type": "code",
   "execution_count": 19,
   "outputs": [],
   "source": [],
   "metadata": {
    "collapsed": false,
    "ExecuteTime": {
     "end_time": "2023-11-06T13:32:48.698305Z",
     "start_time": "2023-11-06T13:32:48.692425Z"
    }
   },
   "id": "7dafe34bde0f0497"
  },
  {
   "cell_type": "code",
   "execution_count": 19,
   "outputs": [],
   "source": [],
   "metadata": {
    "collapsed": false,
    "ExecuteTime": {
     "end_time": "2023-11-06T13:32:48.702483Z",
     "start_time": "2023-11-06T13:32:48.697226Z"
    }
   },
   "id": "a8b095b24ea14bde"
  },
  {
   "cell_type": "code",
   "execution_count": 19,
   "outputs": [],
   "source": [],
   "metadata": {
    "collapsed": false,
    "ExecuteTime": {
     "end_time": "2023-11-06T13:32:48.717483Z",
     "start_time": "2023-11-06T13:32:48.703004Z"
    }
   },
   "id": "e6008cb2a161d244"
  },
  {
   "cell_type": "code",
   "execution_count": 19,
   "outputs": [],
   "source": [],
   "metadata": {
    "collapsed": false,
    "ExecuteTime": {
     "end_time": "2023-11-06T13:32:48.743377Z",
     "start_time": "2023-11-06T13:32:48.709003Z"
    }
   },
   "id": "5a5ce704ab05df2b"
  },
  {
   "cell_type": "code",
   "execution_count": 19,
   "outputs": [],
   "source": [],
   "metadata": {
    "collapsed": false,
    "ExecuteTime": {
     "end_time": "2023-11-06T13:32:48.746787Z",
     "start_time": "2023-11-06T13:32:48.723419Z"
    }
   },
   "id": "ecb0d0ed1f09b4c2"
  },
  {
   "cell_type": "code",
   "execution_count": 19,
   "outputs": [],
   "source": [],
   "metadata": {
    "collapsed": false,
    "ExecuteTime": {
     "end_time": "2023-11-06T13:32:48.747276Z",
     "start_time": "2023-11-06T13:32:48.732Z"
    }
   },
   "id": "ec7dcc45ac15791d"
  },
  {
   "cell_type": "code",
   "execution_count": 19,
   "outputs": [],
   "source": [],
   "metadata": {
    "collapsed": false,
    "ExecuteTime": {
     "end_time": "2023-11-06T13:32:48.769827Z",
     "start_time": "2023-11-06T13:32:48.739237Z"
    }
   },
   "id": "130668094d130be3"
  },
  {
   "cell_type": "code",
   "execution_count": 19,
   "outputs": [],
   "source": [],
   "metadata": {
    "collapsed": false,
    "ExecuteTime": {
     "end_time": "2023-11-06T13:32:48.774957Z",
     "start_time": "2023-11-06T13:32:48.745693Z"
    }
   },
   "id": "7d12b953fff1a818"
  },
  {
   "cell_type": "code",
   "execution_count": 19,
   "outputs": [],
   "source": [],
   "metadata": {
    "collapsed": false,
    "ExecuteTime": {
     "end_time": "2023-11-06T13:32:48.791769Z",
     "start_time": "2023-11-06T13:32:48.752368Z"
    }
   },
   "id": "7566fd87aadc1e0f"
  },
  {
   "cell_type": "code",
   "execution_count": 19,
   "outputs": [],
   "source": [],
   "metadata": {
    "collapsed": false,
    "ExecuteTime": {
     "end_time": "2023-11-06T13:32:48.818425Z",
     "start_time": "2023-11-06T13:32:48.761307Z"
    }
   },
   "id": "a0e8c21d2f34f04"
  },
  {
   "cell_type": "code",
   "execution_count": 19,
   "outputs": [],
   "source": [],
   "metadata": {
    "collapsed": false,
    "ExecuteTime": {
     "end_time": "2023-11-06T13:32:48.820199Z",
     "start_time": "2023-11-06T13:32:48.769407Z"
    }
   },
   "id": "58fae8da3c30da79"
  },
  {
   "cell_type": "code",
   "execution_count": 19,
   "outputs": [],
   "source": [],
   "metadata": {
    "collapsed": false,
    "ExecuteTime": {
     "end_time": "2023-11-06T13:32:48.821466Z",
     "start_time": "2023-11-06T13:32:48.775341Z"
    }
   },
   "id": "ea762028243a8e43"
  }
 ],
 "metadata": {
  "kernelspec": {
   "display_name": "Python 3",
   "language": "python",
   "name": "python3"
  },
  "language_info": {
   "codemirror_mode": {
    "name": "ipython",
    "version": 2
   },
   "file_extension": ".py",
   "mimetype": "text/x-python",
   "name": "python",
   "nbconvert_exporter": "python",
   "pygments_lexer": "ipython2",
   "version": "2.7.6"
  }
 },
 "nbformat": 4,
 "nbformat_minor": 5
}
