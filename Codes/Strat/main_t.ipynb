{
 "cells": [
  {
   "cell_type": "code",
   "execution_count": 65,
   "id": "initial_id",
   "metadata": {
    "collapsed": true,
    "ExecuteTime": {
     "end_time": "2023-11-06T16:22:57.922487Z",
     "start_time": "2023-11-06T16:22:57.915055Z"
    }
   },
   "outputs": [],
   "source": [
    "from os_helper import OsHelper\n",
    "os_helper = OsHelper()"
   ]
  },
  {
   "cell_type": "code",
   "execution_count": 66,
   "outputs": [],
   "source": [
    "import pandas as pd\n",
    "def use_base_data_instead_of_bloomberg(data: pd.DataFrame, name: str, max_year: int = 2019) -> pd.DataFrame:\n",
    "    \"\"\"\n",
    "    This function formats the data from the base data folder to the same format as the Bloomberg data\n",
    "    and filters out data beyond the year 2018, then converts the index back to a string format.\n",
    "\n",
    "    Args:\n",
    "        data (pd.DataFrame): Data to format correctly.\n",
    "        name (str): Name of the column to be used as prefix for the ticker names.\n",
    "\n",
    "    Returns:\n",
    "        pd.DataFrame: DataFrame containing well formatted data up to the year 2018.\n",
    "    \"\"\"\n",
    "\n",
    "    # Enlever le préfixe \"{name}_\" des noms des colonnes\n",
    "    data.columns = data.columns.str.replace(f'{name}_', '')\n",
    "    # Ajouter la chaîne \" US Equity\" à chaque nom de ticker restant\n",
    "    data.columns = [f\"{ticker} US Equity\" for ticker in data.columns]\n",
    "    # Changer le nom de la colonne 'date' en index et supprimer le nom de l'index\n",
    "    data.index.rename(None, inplace=True)\n",
    "    # Trier l'index dans l'ordre croissant\n",
    "    data.sort_index(inplace=True)\n",
    "    # Convertir l'index en DateTimeIndex pour faciliter le filtrage par année\n",
    "    data.index = pd.to_datetime(data.index)\n",
    "    # Conserver uniquement les données jusqu'à la fin max_year\n",
    "    data = data[data.index.year <= max_year]\n",
    "    # Convertir l'index de DateTimeIndex en chaîne de caractères au format 'YYYY-MM-DD'\n",
    "    data.index = data.index.strftime('%Y-%m-%d')\n",
    "    \n",
    "    return data\n"
   ],
   "metadata": {
    "collapsed": false,
    "ExecuteTime": {
     "end_time": "2023-11-06T16:22:57.932706Z",
     "start_time": "2023-11-06T16:22:57.921446Z"
    }
   },
   "id": "5f14d5e563da03ed"
  },
  {
   "cell_type": "code",
   "execution_count": 67,
   "outputs": [
    {
     "name": "stdout",
     "output_type": "stream",
     "text": [
      "Loaded file close.csv from folder /Users/thomasvaudescal/Documents/Mes_documents/30_TradingClub/PolyFinance/PolyHacks/Data/base data.\n",
      "Loaded file volume.csv from folder /Users/thomasvaudescal/Documents/Mes_documents/30_TradingClub/PolyFinance/PolyHacks/Data/base data.\n",
      "Loaded file adjusted_close.csv from folder /Users/thomasvaudescal/Documents/Mes_documents/30_TradingClub/PolyFinance/PolyHacks/Data/base data.\n",
      "            close_CSCO  close_ISRG  close_TPR  close_DVN  close_MRO  close_BA  close_GILD  close_MDT  close_V  close_A  close_MO  close_CTRA  close_MCHP  close_EIX  close_BBY  close_GEN  close_WBA  close_DTE  close_C  close_T  ...  close_WYNN  close_RHI  close_EFX  close_NUE  close_CTSH  close_SWK  close_MU  close_TRV  close_L  close_AEP  close_CI  close_BALL  close_JNJ  close_DOV  close_CRM  close_PGR  close_WAT  close_BWA  close_BLK  close_PPL\n",
      "timestamp                                                                                                                                                                                                                          ...                                                                                                                                                                                                                           \n",
      "2023-10-06       53.45      295.68      28.19      43.70      24.59    187.38       74.74      76.12   235.04   110.64     42.07       26.80       79.54      62.06      68.76      17.35      21.81      95.16    40.57    14.45  ...       92.41      74.70     182.22     157.23       67.84      78.18     69.96     162.95    63.27      72.19    288.23       46.13     157.64     138.89     207.36     142.86     267.40      39.88     648.26      23.44\n",
      "2023-10-05       53.07      290.09      27.58      42.85      24.24    186.29       74.70      76.15   233.48   110.35     41.99       26.11       77.35      60.69      67.63      16.99      22.18      94.20    39.88    14.83  ...       89.49      73.77     180.77     156.43       67.70      77.48     69.05     163.88    62.82      71.33    285.35       47.72     157.14     138.31     202.01     142.50     265.99      38.66     640.30      22.96\n",
      "2023-10-04       53.45      290.28      27.84      43.35      24.40    186.73       74.74      76.27   231.22   111.67     41.65       25.83       77.77      61.23      68.56      17.14      22.29      97.11    39.81    14.65  ...       88.21      73.59     180.01     156.93       67.54      78.62     68.11     162.50    62.56      73.29    285.08       49.27     155.52     137.92     201.87     142.16     267.76      39.22     636.53      22.91\n",
      "2023-10-03       53.65      288.04      27.95      45.75      25.68    188.92       73.27      76.54   228.81   110.26     41.13       26.34       76.75      61.23      67.61      17.36      22.55      97.36    39.86    14.78  ...       90.23      73.82     178.63     155.97       67.30      78.41     67.83     160.92    61.82      72.81    284.41       48.73     155.34     137.78     199.83     139.40     265.01      38.87     625.47      22.98\n",
      "2023-10-02       54.39      294.98      28.58      45.65      25.59    187.83       74.10      77.77   231.27   110.90     41.58       26.32       78.37      61.04      69.09      17.53      22.42      95.49    40.50    14.67  ...       92.63      72.03     178.93     154.78       67.76      80.72     67.96     162.27    62.30      71.84    287.54       49.26     155.15     137.68     203.71     138.97     270.52      39.86     643.04      22.55\n",
      "\n",
      "[5 rows x 303 columns]\n",
      "Saved file new_close.csv to folder /Users/thomasvaudescal/Documents/Mes_documents/30_TradingClub/PolyFinance/PolyHacks/Data/base data.\n",
      "Saved file new_volume.csv to folder /Users/thomasvaudescal/Documents/Mes_documents/30_TradingClub/PolyFinance/PolyHacks/Data/base data.\n",
      "Saved file new_tot_ret.csv to folder /Users/thomasvaudescal/Documents/Mes_documents/30_TradingClub/PolyFinance/PolyHacks/Data/base data.\n"
     ]
    }
   ],
   "source": [
    "close_data = os_helper.read_data(directory_name=\"base data\", file_name=\"close.csv\", index_col=0, low_memory=False)\n",
    "volume_data = os_helper.read_data(directory_name=\"base data\", file_name=\"volume.csv\", index_col=0, low_memory=False)\n",
    "adjusted_close_data = os_helper.read_data(directory_name=\"base data\", file_name=\"adjusted_close.csv\", index_col=0, low_memory=False)\n",
    "print(close_data.head())\n",
    "close = use_base_data_instead_of_bloomberg(data=close_data, name=\"close\")\n",
    "volume = use_base_data_instead_of_bloomberg(data=volume_data, name=\"volume\")\n",
    "adj_close = use_base_data_instead_of_bloomberg(data=adjusted_close_data, name=\"adjusted_close\")\n",
    "\n",
    "# save data\n",
    "os_helper.write_data(directory_name=\"base data\", file_name=\"new_close.csv\", data_frame=close)\n",
    "os_helper.write_data(directory_name=\"base data\", file_name=\"new_volume.csv\", data_frame=volume)\n",
    "os_helper.write_data(directory_name=\"base data\", file_name=\"new_tot_ret.csv\", data_frame=adj_close)"
   ],
   "metadata": {
    "collapsed": false,
    "ExecuteTime": {
     "end_time": "2023-11-06T16:23:05.177876Z",
     "start_time": "2023-11-06T16:22:57.938793Z"
    }
   },
   "id": "b9358a00d866be62"
  },
  {
   "cell_type": "code",
   "execution_count": 68,
   "outputs": [
    {
     "name": "stdout",
     "output_type": "stream",
     "text": [
      "Loaded file new_close.csv from folder /Users/thomasvaudescal/Documents/Mes_documents/30_TradingClub/PolyFinance/PolyHacks/Data/base data.\n",
      "Loaded file new_volume.csv from folder /Users/thomasvaudescal/Documents/Mes_documents/30_TradingClub/PolyFinance/PolyHacks/Data/base data.\n",
      "Loaded file SPY (1).csv from folder /Users/thomasvaudescal/Documents/Mes_documents/30_TradingClub/PolyFinance/PolyHacks/Data/benchmark.\n",
      "            CSCO US Equity  ISRG US Equity  TPR US Equity  DVN US Equity  MRO US Equity  BA US Equity  GILD US Equity  MDT US Equity  V US Equity  A US Equity  MO US Equity  CTRA US Equity  MCHP US Equity  EIX US Equity  BBY US Equity  GEN US Equity  WBA US Equity  DTE US Equity  C US Equity  T US Equity  ...  WYNN US Equity  RHI US Equity  EFX US Equity  NUE US Equity  CTSH US Equity  SWK US Equity  MU US Equity  TRV US Equity  L US Equity  AEP US Equity  CI US Equity  BALL US Equity  JNJ US Equity  DOV US Equity  CRM US Equity  PGR US Equity  WAT US Equity  BWA US Equity  BLK US Equity  PPL US Equity\n",
      "1999-11-01           72.88             NaN            NaN          38.88          29.31         44.63           63.25          35.63          NaN          NaN         23.69           16.69           64.88          28.94          51.56          47.88          24.94          33.81        53.38        53.00  ...             NaN          27.50          27.35          50.50           50.88          27.50         72.63          31.63        67.00          34.75         73.38           40.06          105.1          42.00            NaN          92.25          50.56          39.88          14.75          27.06\n",
      "1999-11-02           73.50             NaN            NaN          38.88          28.62         43.38           49.00          36.25          NaN          NaN         24.00           17.00           63.75          28.94          50.88          47.00          25.19          34.81        53.69        50.75  ...             NaN          26.81          27.47          52.06           53.75          27.00         75.25          32.69        66.13          35.13         78.63           39.75          102.5          43.06            NaN          92.94          46.81          40.31          14.75          27.00\n",
      "1999-11-03           71.50             NaN            NaN          38.69          27.75         43.25           49.88          37.69          NaN          NaN         27.00           17.63           68.00          28.50          51.63          48.38          25.38          34.81        53.00        50.56  ...             NaN          27.81          27.41          51.25           52.50          27.19         74.94          32.00        67.50          35.00         78.69           40.13          104.3          43.50            NaN          92.38          46.50          40.44          14.75          26.88\n",
      "1999-11-04           70.00             NaN            NaN          38.94          27.72         43.38           46.88          37.69          NaN          NaN         26.06           17.81           68.81          28.75          52.00          50.13          25.19          34.13        54.75        49.81  ...             NaN          29.44          27.10          50.81           52.25          27.25         76.00          33.06        67.00          34.75         80.00           39.44          105.3          43.38            NaN          93.19          46.69          40.44          14.94          26.63\n",
      "1999-11-05           73.44             NaN            NaN          38.19          27.37         44.31           46.69          37.88          NaN          NaN         25.44           17.13           69.00          28.81          50.63          49.88          25.69          34.81        54.38        51.25  ...             NaN          29.94          27.35          51.94           54.75          27.50         76.88          36.06        67.88          35.19         82.63           39.56          105.5          43.88            NaN          95.06          45.19          40.50          15.75          26.63\n",
      "\n",
      "[5 rows x 303 columns]\n",
      "            CSCO US Equity  ISRG US Equity  TPR US Equity  DVN US Equity  MRO US Equity  BA US Equity  GILD US Equity  MDT US Equity  V US Equity  A US Equity  MO US Equity  CTRA US Equity  MCHP US Equity  EIX US Equity  BBY US Equity  GEN US Equity  WBA US Equity  DTE US Equity  C US Equity  T US Equity  ...  WYNN US Equity  RHI US Equity  EFX US Equity  NUE US Equity  CTSH US Equity  SWK US Equity  MU US Equity  TRV US Equity  L US Equity  AEP US Equity  CI US Equity  BALL US Equity  JNJ US Equity  DOV US Equity  CRM US Equity  PGR US Equity  WAT US Equity  BWA US Equity  BLK US Equity  PPL US Equity\n",
      "1999-11-01        15705700             NaN            NaN         393300         705400       6052600               0        4935500          NaN          NaN      15004800           99467          411644        1368700        2910267        1180400        2509400         473100     11062500      5985500  ...             NaN       215000.0         530700         338800          331300         317400       5175400         968200       306300         338400        810900           90200        2852100         500400            NaN         944100         381400          76300          41800         168000\n",
      "1999-11-02        16635100             NaN            NaN         537700        1050750       6561200        14230500        6979500          NaN          NaN      13668400          122400          558667         925500        4395600        2001800        2967700        1033700     11400000      7057100  ...             NaN       166800.0         664900         542200          285400         316500       6003600         883800       212000         557700       1714800          167900        3691300         428600            NaN         678300        1676500         132000          66600         283600\n",
      "1999-11-03        23859900             NaN            NaN         412700        1323850       5700800         1603900        5394000          NaN          NaN      21765700          111200          802044         899900        2474978         767700        2116600         526300     12225750      7647100  ...             NaN       261800.0         344300         481600           78700         321200       4698400         976200       592100         637600       1087500           81400        2498800         671700            NaN         741900         543800         114900          18500         287400\n",
      "1999-11-04        31889000             NaN            NaN         128200        2948700       2729000         1081200        4346600          NaN          NaN      12231000           54467          590430         998000        2052444        1310400        2959100         427200     53848500      5442700  ...             NaN       478000.0         255200         329200           48100         136700       5065400         821200       274200         344300       1209700          102600        3183100         405700            NaN         517200         547800          80500          72100         374600\n",
      "1999-11-05        21946500             NaN            NaN         716800        2700050       3640900          672300        4330500          NaN          NaN       9619100           44067          725452         853400        3824000         866300        3995200         465700     13857000      4816700  ...             NaN       251800.0         215900         385600          100200         188000       5218100        2723000       363500        1661000       1032000          148100        3442600         349400            NaN         624300        2268900          80800         122900         114400\n",
      "\n",
      "[5 rows x 303 columns]\n",
      "                 Open       High        Low      Close  Adj Close  Volume\n",
      "Date                                                                     \n",
      "1995-01-03  45.703125  45.843750  45.687500  45.781250  27.352005  324300\n",
      "1995-01-04  45.984375  46.000000  45.750000  46.000000  27.482687  351800\n",
      "1995-01-05  46.031250  46.109375  45.953125  46.000000  27.482687   89800\n",
      "1995-01-06  46.093750  46.250000  45.906250  46.046875  27.510689  448400\n",
      "1995-01-09  46.031250  46.093750  46.000000  46.093750  27.538696   36800\n",
      "Dropped columns: set()\n",
      "Number of columns before: 303\n",
      "Number of columns after: 303\n",
      "Dropped columns: set()\n",
      "Number of columns before: 303\n",
      "Number of columns after: 303\n",
      "all metrics calculation started 2023-11-06 11:23:06\n",
      "Metrics for 1 year(s) window calculated\n",
      "Metrics for 2 year(s) window calculated\n",
      "Metrics for 3 year(s) window calculated\n",
      "all metrics calculation ended 2023-11-06 11:34:28\n",
      "duration for all metrics calculation 11.3575 minutes\n",
      "Saved file all_metrics.csv to folder /Users/thomasvaudescal/Documents/Mes_documents/30_TradingClub/PolyFinance/PolyHacks/Data/transform data.\n"
     ]
    }
   ],
   "source": [
    "from compute_metrics import ComputeMetrics\n",
    "\n",
    "price_data = os_helper.read_data(directory_name=\"base data\", file_name=\"new_close.csv\", index_col=0, low_memory=False)\n",
    "trade_volume = os_helper.read_data(directory_name=\"base data\", file_name=\"new_volume.csv\", index_col=0, low_memory=False)\n",
    "spy = os_helper.read_data(directory_name=\"benchmark\", file_name=\"SPY (1).csv\", index_col=0, low_memory=False)\n",
    "\n",
    "print(price_data.head())\n",
    "print(trade_volume.head())\n",
    "print(spy.head())\n",
    "\n",
    "rolling_window_years = [1, 2, 3]\n",
    "\n",
    "# Compute all risk metrics needed for the strategy and the filter\n",
    "metrics_calculator = ComputeMetrics(price_data=price_data, trade_volume=trade_volume, rolling_window_years=rolling_window_years,\n",
    "                                    benchmark_series=spy['Adj Close'])\n",
    "\n",
    "final_df = metrics_calculator.compile_all_metrics()\n",
    "\n",
    "os_helper.write_data(directory_name=\"transform data\", file_name=\"all_metrics.csv\", data_frame=final_df)"
   ],
   "metadata": {
    "collapsed": false,
    "ExecuteTime": {
     "end_time": "2023-11-06T16:35:00.833900Z",
     "start_time": "2023-11-06T16:23:05.184342Z"
    }
   },
   "id": "967ae450e23a7c09"
  },
  {
   "cell_type": "code",
   "execution_count": 69,
   "outputs": [
    {
     "name": "stdout",
     "output_type": "stream",
     "text": [
      "Loaded file all_metrics.csv from folder /Users/thomasvaudescal/Documents/Mes_documents/30_TradingClub/PolyFinance/PolyHacks/Data/transform data.\n",
      "                   A US Equity                                                                                                                AAPL US Equity                                                                                                                 ABT US Equity                      ... YUM US Equity                     ZBH US Equity                                                                                                                ZION US Equity                                                                                                          \n",
      "           average_turnover_1Y average_turnover_2Y average_turnover_3Y beta_1Y beta_2Y beta_3Y volatility_1Y volatility_2Y volatility_3Y average_turnover_1Y average_turnover_2Y average_turnover_3Y beta_1Y beta_2Y beta_3Y volatility_1Y volatility_2Y volatility_3Y average_turnover_1Y average_turnover_2Y  ... volatility_2Y volatility_3Y average_turnover_1Y average_turnover_2Y average_turnover_3Y beta_1Y beta_2Y beta_3Y volatility_1Y volatility_2Y volatility_3Y average_turnover_1Y average_turnover_2Y average_turnover_3Y beta_1Y beta_2Y beta_3Y volatility_1Y volatility_2Y volatility_3Y\n",
      "1999-11-01                                                                                                                                                                                                                                                                                                      ...                                                                                                                                                                                                                                                                                        \n",
      "1999-11-02                 NaN                 NaN                 NaN     NaN     NaN     NaN           NaN           NaN           NaN                 NaN                 NaN                 NaN     NaN     NaN     NaN           NaN           NaN           NaN                 NaN                 NaN  ...           NaN           NaN                 NaN                 NaN                 NaN     NaN     NaN     NaN           NaN           NaN           NaN                 NaN                 NaN                 NaN     NaN     NaN     NaN           NaN           NaN           NaN\n",
      "1999-11-03                 NaN                 NaN                 NaN     NaN     NaN     NaN           NaN           NaN           NaN                 NaN                 NaN                 NaN     NaN     NaN     NaN           NaN           NaN           NaN                 NaN                 NaN  ...           NaN           NaN                 NaN                 NaN                 NaN     NaN     NaN     NaN           NaN           NaN           NaN                 NaN                 NaN                 NaN     NaN     NaN     NaN           NaN           NaN           NaN\n",
      "1999-11-04                 NaN                 NaN                 NaN     NaN     NaN     NaN           NaN           NaN           NaN                 NaN                 NaN                 NaN     NaN     NaN     NaN           NaN           NaN           NaN                 NaN                 NaN  ...           NaN           NaN                 NaN                 NaN                 NaN     NaN     NaN     NaN           NaN           NaN           NaN                 NaN                 NaN                 NaN     NaN     NaN     NaN           NaN           NaN           NaN\n",
      "1999-11-05                 NaN                 NaN                 NaN     NaN     NaN     NaN           NaN           NaN           NaN                 NaN                 NaN                 NaN     NaN     NaN     NaN           NaN           NaN           NaN                 NaN                 NaN  ...           NaN           NaN                 NaN                 NaN                 NaN     NaN     NaN     NaN           NaN           NaN           NaN                 NaN                 NaN                 NaN     NaN     NaN     NaN           NaN           NaN           NaN\n",
      "1999-11-08                 NaN                 NaN                 NaN     NaN     NaN     NaN           NaN           NaN           NaN                 NaN                 NaN                 NaN     NaN     NaN     NaN           NaN           NaN           NaN                 NaN                 NaN  ...           NaN           NaN                 NaN                 NaN                 NaN     NaN     NaN     NaN           NaN           NaN           NaN                 NaN                 NaN                 NaN     NaN     NaN     NaN           NaN           NaN           NaN\n",
      "\n",
      "[5 rows x 2727 columns]\n",
      "Dates de rebalancement :\n",
      "1999-12-17 00:00:00\n",
      "2000-06-16 00:00:00\n",
      "2000-12-15 00:00:00\n",
      "2001-06-15 00:00:00\n",
      "2001-12-14 00:00:00\n",
      "2002-06-14 00:00:00\n",
      "2002-12-13 00:00:00\n",
      "2003-06-13 00:00:00\n",
      "2003-12-19 00:00:00\n",
      "2004-06-18 00:00:00\n",
      "2004-12-17 00:00:00\n",
      "2005-06-17 00:00:00\n",
      "2005-12-16 00:00:00\n",
      "2006-06-16 00:00:00\n",
      "2006-12-15 00:00:00\n",
      "2007-06-15 00:00:00\n",
      "2007-12-14 00:00:00\n",
      "2008-06-13 00:00:00\n",
      "2008-12-19 00:00:00\n",
      "2009-06-19 00:00:00\n",
      "2009-12-18 00:00:00\n",
      "2010-06-18 00:00:00\n",
      "2010-12-17 00:00:00\n",
      "2011-06-17 00:00:00\n",
      "2011-12-16 00:00:00\n",
      "2012-06-15 00:00:00\n",
      "2012-12-14 00:00:00\n",
      "2013-06-14 00:00:00\n",
      "2013-12-13 00:00:00\n",
      "2014-06-13 00:00:00\n",
      "2014-12-19 00:00:00\n",
      "2015-06-19 00:00:00\n",
      "2015-12-18 00:00:00\n",
      "2016-06-17 00:00:00\n",
      "2016-12-16 00:00:00\n",
      "2017-06-16 00:00:00\n",
      "2017-12-15 00:00:00\n",
      "2018-06-15 00:00:00\n",
      "2018-12-14 00:00:00\n",
      "2019-06-14 00:00:00\n",
      "        Date          Ticker  average_turnover_1Y  average_turnover_2Y  average_turnover_3Y   beta_1Y  beta_2Y  beta_3Y  volatility_1Y  volatility_2Y  volatility_3Y\n",
      "0 2000-12-15     A US Equity         2.000540e+08                  NaN                  NaN  1.285401      NaN      NaN       1.082652            NaN            NaN\n",
      "1 2000-12-15  AAPL US Equity         3.560394e+08                  NaN                  NaN  1.581072      NaN      NaN       0.977798            NaN            NaN\n",
      "2 2000-12-15   ABT US Equity         3.427124e+08                  NaN                  NaN  0.173058      NaN      NaN       0.368400            NaN            NaN\n",
      "3 2000-12-15  ADBE US Equity         2.422944e+08                  NaN                  NaN  2.246442      NaN      NaN       1.003055            NaN            NaN\n",
      "4 2000-12-15   ADI US Equity         2.387479e+08                  NaN                  NaN  1.476985      NaN      NaN       1.000345            NaN            NaN\n",
      "Saved file rebalance_metrics.csv to folder /Users/thomasvaudescal/Documents/Mes_documents/30_TradingClub/PolyFinance/PolyHacks/Data/transform data.\n"
     ]
    }
   ],
   "source": [
    "from get_rebal_dates import GetRebalDates, filter_by_rebalance_dates\n",
    "\n",
    "all_metrics = os_helper.read_data(directory_name=\"transform data\", file_name=\"all_metrics.csv\", index_col=0, header=[0, 1])\n",
    "print(all_metrics.head())\n",
    "\n",
    "termination_date = '2019-06-30' # Last day of backtest\n",
    "initial_year = 1999 # First year of the backtest\n",
    "reb_month = 12\n",
    "reb_week = 3\n",
    "reb_weekday = 'FRI'\n",
    "reb_frequency = 'S' # Q for quarterly, M for monthly, A for annual, S for semi-annual\n",
    "\n",
    "# Get the rebalance dates of the strategy\n",
    "get_reb_dates = GetRebalDates(termination_date=termination_date, initial_year=initial_year, reb_month=reb_month,\n",
    "                              reb_week=reb_week, reb_weekday=reb_weekday, reb_frequency=reb_frequency)\n",
    "rebalance_dates = get_reb_dates.reb_dates\n",
    "\n",
    "print(\"Dates de rebalancement :\")\n",
    "for date in rebalance_dates:\n",
    "    print(date)\n",
    "\n",
    "reb_metrics = filter_by_rebalance_dates(get_reb_dates=get_reb_dates, data=all_metrics)\n",
    "print(reb_metrics.head())\n",
    "\n",
    "os_helper.write_data(directory_name=\"transform data\", file_name=f\"rebalance_metrics.csv\", data_frame=reb_metrics)"
   ],
   "metadata": {
    "collapsed": false,
    "ExecuteTime": {
     "end_time": "2023-11-06T16:35:05.420323Z",
     "start_time": "2023-11-06T16:35:00.768729Z"
    }
   },
   "id": "ca86fbff70a8caab"
  },
  {
   "cell_type": "code",
   "execution_count": 70,
   "outputs": [
    {
     "name": "stdout",
     "output_type": "stream",
     "text": [
      "Loaded file rebalance_metrics.csv from folder /Users/thomasvaudescal/Documents/Mes_documents/30_TradingClub/PolyFinance/PolyHacks/Data/transform data.\n",
      "             Date          Ticker  average_turnover_1Y  average_turnover_2Y  average_turnover_3Y   beta_1Y   beta_2Y   beta_3Y  volatility_1Y  volatility_2Y  volatility_3Y\n",
      "0      2000-12-15     A US Equity         2.000540e+08                  NaN                  NaN  1.285401       NaN       NaN       1.082652            NaN            NaN\n",
      "1      2000-12-15  AAPL US Equity         3.560394e+08                  NaN                  NaN  1.581072       NaN       NaN       0.977798            NaN            NaN\n",
      "2      2000-12-15   ABT US Equity         3.427124e+08                  NaN                  NaN  0.173058       NaN       NaN       0.368400            NaN            NaN\n",
      "3      2000-12-15  ADBE US Equity         2.422944e+08                  NaN                  NaN  2.246442       NaN       NaN       1.003055            NaN            NaN\n",
      "4      2000-12-15   ADI US Equity         2.387479e+08                  NaN                  NaN  1.476985       NaN       NaN       1.000345            NaN            NaN\n",
      "...           ...             ...                  ...                  ...                  ...       ...       ...       ...            ...            ...            ...\n",
      "11055  2019-06-14  XRAY US Equity         1.019435e+08         1.093910e+08         1.028281e+08  0.694835  0.680961  0.739633       0.335167       0.295825       0.261745\n",
      "11056  2019-06-14   XYL US Equity         7.320532e+07         7.029127e+07         6.886460e+07  1.115765  1.020261  1.072129       0.258941       0.224111       0.214536\n",
      "11057  2019-06-14   YUM US Equity         1.716823e+08         1.650256e+08         1.846350e+08  0.637408  0.698604  0.799600       0.161479       0.171471       0.238341\n",
      "11058  2019-06-14   ZBH US Equity         1.397502e+08         1.465674e+08         1.558455e+08  0.935545  0.929359  0.965364       0.234598       0.221752       0.229157\n",
      "11059  2019-06-14  ZION US Equity         1.156920e+08         1.127687e+08         1.112146e+08  0.874290  0.974955  1.157377       0.239313       0.236770       0.256560\n",
      "\n",
      "[11060 rows x 11 columns]\n",
      "         Date         Ticker  average_turnover_1Y  average_turnover_2Y  average_turnover_3Y   beta_1Y   beta_2Y   beta_3Y  volatility_1Y  volatility_2Y  volatility_3Y\n",
      "0  2002-12-13  ADM US Equity         1.928895e+07         2.096770e+07         1.995469e+07  0.354951  0.380743  0.367312       0.265237       0.308633       0.330793\n",
      "1  2002-12-13  ADP US Equity         1.290485e+08         1.229771e+08         1.184466e+08  0.988513  0.885232  0.765565       0.421196       0.375484       0.377369\n",
      "2  2002-12-13  AEE US Equity         2.740266e+07         2.205358e+07         1.965659e+07  0.486260  0.314623  0.289219       0.247957       0.233742       0.238914\n",
      "3  2002-12-13  AEP US Equity         7.461715e+07         5.969405e+07         4.843943e+07  1.021821  0.639904  0.500216       0.573373       0.443004       0.404878\n",
      "4  2002-12-13  AFL US Equity         5.547038e+07         5.562969e+07         5.162119e+07  0.915179  0.701994  0.658632       0.376064       0.517227       0.486583\n",
      "Saved file filtered_data.csv to folder /Users/thomasvaudescal/Documents/Mes_documents/30_TradingClub/PolyFinance/PolyHacks/Data/transform data.\n"
     ]
    }
   ],
   "source": [
    "from filter import Filter\n",
    "\n",
    "data = os_helper.read_data(directory_name=\"transform data\", file_name=\"rebalance_metrics.csv\", index_col=0)\n",
    "print(data)\n",
    "risk_filter = Filter(data=data)\n",
    "\n",
    "risk_top_n = 140\n",
    "liquidity_top_n = 200\n",
    "\n",
    "filtered_data = risk_filter.apply_filters(liquidity_top_n=liquidity_top_n, risk_top_n=risk_top_n)\n",
    "print(filtered_data.head())\n",
    "\n",
    "os_helper.write_data(directory_name=\"transform data\", file_name=\"filtered_data.csv\", data_frame=filtered_data)"
   ],
   "metadata": {
    "collapsed": false,
    "ExecuteTime": {
     "end_time": "2023-11-06T16:35:05.644256Z",
     "start_time": "2023-11-06T16:35:05.345088Z"
    }
   },
   "id": "f092ec4279757cf7"
  },
  {
   "cell_type": "code",
   "execution_count": 71,
   "outputs": [
    {
     "name": "stdout",
     "output_type": "stream",
     "text": [
      "Loaded file filtered_data.csv from folder /Users/thomasvaudescal/Documents/Mes_documents/30_TradingClub/PolyFinance/PolyHacks/Data/transform data.\n",
      "            Date          Ticker  average_turnover_1Y  average_turnover_2Y  average_turnover_3Y   beta_1Y   beta_2Y   beta_3Y  volatility_1Y  volatility_2Y  volatility_3Y\n",
      "0     2002-12-13   ADM US Equity         1.928895e+07         2.096770e+07         1.995469e+07  0.354951  0.380743  0.367312       0.265237       0.308633       0.330793\n",
      "1     2002-12-13   ADP US Equity         1.290485e+08         1.229771e+08         1.184466e+08  0.988513  0.885232  0.765565       0.421196       0.375484       0.377369\n",
      "2     2002-12-13   AEE US Equity         2.740266e+07         2.205358e+07         1.965659e+07  0.486260  0.314623  0.289219       0.247957       0.233742       0.238914\n",
      "3     2002-12-13   AEP US Equity         7.461715e+07         5.969405e+07         4.843943e+07  1.021821  0.639904  0.500216       0.573373       0.443004       0.404878\n",
      "4     2002-12-13   AFL US Equity         5.547038e+07         5.562969e+07         5.162119e+07  0.915179  0.701994  0.658632       0.376064       0.517227       0.486583\n",
      "...          ...             ...                  ...                  ...                  ...       ...       ...       ...            ...            ...            ...\n",
      "4755  2019-06-14  XRAY US Equity         1.019435e+08         1.093910e+08         1.028281e+08  0.694835  0.680961  0.739633       0.335167       0.295825       0.261745\n",
      "4756  2019-06-14   XYL US Equity         7.320532e+07         7.029127e+07         6.886460e+07  1.115765  1.020261  1.072129       0.258941       0.224111       0.214536\n",
      "4757  2019-06-14   YUM US Equity         1.716823e+08         1.650256e+08         1.846350e+08  0.637408  0.698604  0.799600       0.161479       0.171471       0.238341\n",
      "4758  2019-06-14   ZBH US Equity         1.397502e+08         1.465674e+08         1.558455e+08  0.935545  0.929359  0.965364       0.234598       0.221752       0.229157\n",
      "4759  2019-06-14  ZION US Equity         1.156920e+08         1.127687e+08         1.112146e+08  0.874290  0.974955  1.157377       0.239313       0.236770       0.256560\n",
      "\n",
      "[4760 rows x 11 columns]\n",
      "All weights sum to 1 for each date.\n",
      "           Date          Ticker    Weight\n",
      "0    2002-12-13   ADM US Equity  0.007307\n",
      "1    2002-12-13   ADP US Equity  0.006088\n",
      "2    2002-12-13   AEE US Equity  0.007432\n",
      "3    2002-12-13   AEP US Equity  0.006365\n",
      "4    2002-12-13   AFL US Equity  0.006239\n",
      "...         ...             ...       ...\n",
      "4755 2019-06-14  XRAY US Equity  0.005294\n",
      "4756 2019-06-14   XYL US Equity  0.004056\n",
      "4757 2019-06-14   YUM US Equity  0.005152\n",
      "4758 2019-06-14   ZBH US Equity  0.004342\n",
      "4759 2019-06-14  ZION US Equity  0.004081\n",
      "\n",
      "[4760 rows x 3 columns]\n",
      "Saved file inverse_metrics_weighting.csv to folder /Users/thomasvaudescal/Documents/Mes_documents/30_TradingClub/PolyFinance/PolyHacks/Data/transform data.\n"
     ]
    }
   ],
   "source": [
    "from weighting import InverseMetricsWeighting\n",
    "\n",
    "filtered_data = os_helper.read_data(directory_name=\"transform data\", file_name=\"filtered_data.csv\", index_col=0)\n",
    "print(filtered_data)\n",
    "\n",
    "years_to_inverse = [1, 2, 3]\n",
    "metric_to_inverse = \"beta\"\n",
    "weighting_list = [] # Equal weighting of betas\n",
    "min_weight = 0.00001\n",
    "max_weight = 0.05\n",
    "\n",
    "inverse_metrics_weighting = InverseMetricsWeighting(filtered_data=filtered_data, years_list=years_to_inverse,\n",
    "                                                    target_metric=metric_to_inverse, weight_list=weighting_list,\n",
    "                                                    min_limit=min_weight, max_limit=max_weight)\n",
    "inverse_metrics_weighting_df = inverse_metrics_weighting.compute_inverse_weighted_metrics()\n",
    "print(inverse_metrics_weighting_df)\n",
    "\n",
    "os_helper.write_data(directory_name=\"transform data\", file_name=\"inverse_metrics_weighting.csv\", data_frame=inverse_metrics_weighting_df)"
   ],
   "metadata": {
    "collapsed": false,
    "ExecuteTime": {
     "end_time": "2023-11-06T16:35:06.213500Z",
     "start_time": "2023-11-06T16:35:05.625732Z"
    }
   },
   "id": "26b98628bc0fe230"
  },
  {
   "cell_type": "code",
   "execution_count": 72,
   "outputs": [
    {
     "name": "stdout",
     "output_type": "stream",
     "text": [
      "Loaded file new_tot_ret.csv from folder /Users/thomasvaudescal/Documents/Mes_documents/30_TradingClub/PolyFinance/PolyHacks/Data/base data.\n",
      "            CSCO US Equity  ISRG US Equity  TPR US Equity  DVN US Equity  MRO US Equity  BA US Equity  GILD US Equity  MDT US Equity  V US Equity  A US Equity  MO US Equity  CTRA US Equity  MCHP US Equity  EIX US Equity  BBY US Equity  GEN US Equity  WBA US Equity  DTE US Equity  C US Equity  T US Equity  ...  WYNN US Equity  RHI US Equity  EFX US Equity  NUE US Equity  CTSH US Equity  SWK US Equity  MU US Equity  TRV US Equity  L US Equity  AEP US Equity  CI US Equity  BALL US Equity  JNJ US Equity  DOV US Equity  CRM US Equity  PGR US Equity  WAT US Equity  BWA US Equity  BLK US Equity  PPL US Equity\n",
      "1999-11-01       25.121693             NaN            NaN      12.686863       5.197426     28.661792        1.482176      23.654637          NaN          NaN      1.371226        1.034941        5.547514      14.141193      14.044962       2.290155      15.437675      10.324907   226.504871    10.430705  ...             NaN       9.701043      12.903192       6.583697        0.974197      15.022216     35.746562      17.154760     9.224934      12.087694     21.179877        1.984462      28.614041      18.025328            NaN       4.407378         25.280       3.387052       9.219344       4.489261\n",
      "1999-11-02       25.335406             NaN            NaN      12.686863       5.075071     27.859031        1.148247      24.066253          NaN          NaN      1.389169        1.054164        5.450895      14.141193      13.859730       2.248064      15.592423      10.630287   227.820280     9.987892  ...             NaN       9.457635      12.959805       6.787075        1.029149      14.749085     37.036057      17.729658     9.105148      12.219876     22.695200        1.969106      27.906177      18.480253            NaN       4.440344         23.405       3.423573       9.219344       4.479307\n",
      "1999-11-03       24.646007             NaN            NaN      12.624865       4.920797     27.775543        1.168869      25.022264          NaN          NaN      1.562815        1.093230        5.814288      13.926192      14.064030       2.314071      15.710032      10.630287   224.892435     9.950499  ...             NaN       9.810400      12.931498       6.681475        1.005215      14.852875     36.883483      17.355432     9.293777      12.174656     22.712518        1.987930      28.396237      18.669090            NaN       4.413589         23.250       3.434614       9.219344       4.459399\n",
      "1999-11-04       24.128958             NaN            NaN      12.706442       4.915478     27.859031        1.098568      25.022264          NaN          NaN      1.508406        1.104392        5.883546      14.048352      14.164818       2.397775      15.592423      10.422628   232.318129     9.802894  ...             NaN      10.385408      12.785247       6.624112        1.000429      14.885650     37.405187      17.930330     9.224934      12.087694     23.090627        1.953749      28.668492      18.617589            NaN       4.452288         23.345       3.434614       9.338102       4.417924\n",
      "1999-11-05       25.314724             NaN            NaN      12.461711       4.853413     28.456285        1.094115      25.148404          NaN          NaN      1.472519        1.062225        5.899792      14.077670      13.791630       2.385817      15.901919      10.630287   230.748125    10.086295  ...             NaN      10.561790      12.903192       6.771430        1.048296      15.022216     37.838300      19.557402     9.346098      12.240747     23.849731        1.959694      28.722943      18.832176            NaN       4.541630         22.595       3.439710       9.844385       4.417924\n",
      "\n",
      "[5 rows x 303 columns]\n",
      "Loaded file inverse_metrics_weighting.csv from folder /Users/thomasvaudescal/Documents/Mes_documents/30_TradingClub/PolyFinance/PolyHacks/Data/transform data.\n",
      "         Date         Ticker    Weight\n",
      "0  2002-12-13  ADM US Equity  0.007307\n",
      "1  2002-12-13  ADP US Equity  0.006088\n",
      "2  2002-12-13  AEE US Equity  0.007432\n",
      "3  2002-12-13  AEP US Equity  0.006365\n",
      "4  2002-12-13  AFL US Equity  0.006239\n",
      "Unable to calculate transaction costs for 2004-12-24 00:00:00 (Holiday).\n",
      "Unable to calculate transaction costs for 2009-12-25 00:00:00 (Holiday).\n",
      "Unable to calculate transaction costs for 2010-12-24 00:00:00 (Holiday).\n",
      "Unable to calculate transaction costs for 2015-12-25 00:00:00 (Holiday).\n",
      "           A US Equity ACN US Equity ADBE US Equity ADI US Equity ADM US Equity ADP US Equity ADSK US Equity AEE US Equity AEP US Equity AES US Equity AFL US Equity AIZ US Equity AKAM US Equity ALL US Equity AMAT US Equity AMT US Equity AON US Equity APA US Equity APD US Equity APH US Equity  ... TXT US Equity UNP US Equity UPS US Equity VFC US Equity VLO US Equity VMC US Equity VRSN US Equity VTR US Equity WAT US Equity WBA US Equity WDC US Equity WEC US Equity WELL US Equity WMB US Equity XEL US Equity XRAY US Equity XYL US Equity YUM US Equity ZBH US Equity ZION US Equity\n",
      "2002-12-20         0.0           0.0            0.0           0.0      0.007307      0.006088            0.0      0.007432      0.006365           0.0      0.006239           0.0            0.0      0.006611            0.0           0.0      0.006259      0.006791      0.006126           0.0  ...           0.0      0.006502      0.007099      0.006345      0.006446      0.006268            0.0      0.009679           0.0      0.006717           0.0      0.007597            0.0           0.0      0.006472       0.006975           0.0      0.007032           0.0       0.006282\n",
      "2002-12-23         0.0           0.0            0.0           0.0      0.007186      0.006043            0.0      0.007284      0.006223           0.0      0.006436           0.0            0.0      0.006561            0.0           0.0      0.006241      0.006858      0.006056           0.0  ...           0.0      0.006372       0.00709      0.006134      0.006369       0.00626            0.0      0.009582           0.0      0.006587           0.0      0.007606            0.0           0.0      0.006501       0.007046           0.0      0.006879           0.0       0.006352\n",
      "2002-12-24         0.0           0.0            0.0           0.0       0.00722      0.006053            0.0      0.007311      0.006248           0.0       0.00644           0.0            0.0      0.006573            0.0           0.0      0.006175      0.006886      0.006041           0.0  ...           0.0      0.006387      0.007092      0.006077      0.006376      0.006255            0.0      0.009438           0.0      0.006577           0.0      0.007646            0.0           0.0      0.006379       0.007048           0.0      0.006989           0.0       0.006338\n",
      "2002-12-26         0.0           0.0            0.0           0.0      0.007201      0.006013            0.0      0.007376      0.006386           0.0      0.006453           0.0            0.0      0.006566            0.0           0.0      0.006155      0.006802      0.006038           0.0  ...           0.0      0.006382      0.007052      0.006159       0.00634      0.006177            0.0      0.009536           0.0      0.006515           0.0      0.007728            0.0           0.0      0.006516       0.006965           0.0      0.007056           0.0       0.006328\n",
      "2002-12-27         0.0           0.0            0.0           0.0      0.007241      0.006025            0.0      0.007452      0.006331           0.0      0.006421           0.0            0.0      0.006587            0.0           0.0        0.0061      0.006794      0.005988           0.0  ...           0.0      0.006432       0.00707      0.006131      0.006259       0.00615            0.0      0.009696           0.0      0.006566           0.0      0.007815            0.0           0.0      0.006453       0.006854           0.0      0.007148           0.0       0.006243\n",
      "\n",
      "[5 rows x 241 columns]\n",
      "            Portfolio_Returns\n",
      "2002-12-20           0.000000\n",
      "2002-12-23           0.002887\n",
      "2002-12-24          -0.003936\n",
      "2002-12-26           0.004266\n",
      "2002-12-27          -0.011185\n",
      "Saved file portfolio_returns.csv to folder /Users/thomasvaudescal/Documents/Mes_documents/30_TradingClub/PolyFinance/PolyHacks/Data/final data.\n",
      "Saved file drifted_weights.csv to folder /Users/thomasvaudescal/Documents/Mes_documents/30_TradingClub/PolyFinance/PolyHacks/Data/final data.\n"
     ]
    }
   ],
   "source": [
    "from portfolio_returns import PortfolioReturns\n",
    "\n",
    "prices = os_helper.read_data(directory_name=\"base data\", file_name=\"new_tot_ret.csv\", index_col=0, sep=',')\n",
    "print(prices.head())\n",
    "weighting_df = os_helper.read_data(directory_name=\"transform data\", file_name=\"inverse_metrics_weighting.csv\", index_col=0)\n",
    "print(weighting_df.head())\n",
    "\n",
    "rebalance_lag = 7 # delay between weight computation and implementation\n",
    "transaction_fee = 0.001 # 0.1% transaction fee\n",
    "\n",
    "pf_returns = PortfolioReturns(prices=prices, weighting_data=weighting_df, rebalance_lag=rebalance_lag, transaction_fee=transaction_fee)\n",
    "drifted_weights = pf_returns.drifted_weights\n",
    "print(drifted_weights.head())\n",
    "portfolio_returns = pf_returns.portfolio_returns\n",
    "print(portfolio_returns.head())\n",
    "\n",
    "os_helper.write_data(directory_name=\"final data\", file_name=\"portfolio_returns.csv\", data_frame=portfolio_returns)\n",
    "os_helper.write_data(directory_name=\"final data\", file_name=\"drifted_weights.csv\", data_frame=drifted_weights)"
   ],
   "metadata": {
    "collapsed": false,
    "ExecuteTime": {
     "end_time": "2023-11-06T16:35:18.690686Z",
     "start_time": "2023-11-06T16:35:06.212079Z"
    }
   },
   "id": "a5048b3608d70b53"
  },
  {
   "cell_type": "code",
   "execution_count": 73,
   "outputs": [
    {
     "name": "stdout",
     "output_type": "stream",
     "text": [
      "Loaded file F-F_Research_Data_5_Factors_2x3_daily.csv from folder /Users/thomasvaudescal/Documents/Mes_documents/30_TradingClub/PolyFinance/PolyHacks/Data/benchmark.\n",
      "Loaded file portfolio_returns.csv from folder /Users/thomasvaudescal/Documents/Mes_documents/30_TradingClub/PolyFinance/PolyHacks/Data/final data.\n",
      "   Unnamed: 0  Mkt-RF   SMB   HML   RMW   CMA     RF\n",
      "0    19630701   -0.67  0.02 -0.35  0.03  0.13  0.012\n",
      "1    19630702    0.79 -0.28  0.28 -0.08 -0.21  0.012\n",
      "2    19630703    0.63 -0.18 -0.10  0.13 -0.25  0.012\n",
      "3    19630705    0.40  0.09 -0.28  0.07 -0.30  0.012\n",
      "4    19630708   -0.63  0.07 -0.20 -0.27  0.06  0.012\n",
      "   Unnamed: 0  Portfolio_Returns\n",
      "0  2002-12-20           0.000000\n",
      "1  2002-12-23           0.002887\n",
      "2  2002-12-24          -0.003936\n",
      "3  2002-12-26           0.004266\n",
      "4  2002-12-27          -0.011185\n",
      "                                 OLS Regression Results                                \n",
      "=======================================================================================\n",
      "Dep. Variable:          Excess_Return   R-squared (uncentered):                   0.900\n",
      "Model:                            OLS   Adj. R-squared (uncentered):              0.900\n",
      "Method:                 Least Squares   F-statistic:                              7701.\n",
      "Date:                Mon, 06 Nov 2023   Prob (F-statistic):                        0.00\n",
      "Time:                        11:35:18   Log-Likelihood:                          18850.\n",
      "No. Observations:                4286   AIC:                                 -3.769e+04\n",
      "Df Residuals:                    4281   BIC:                                 -3.766e+04\n",
      "Df Model:                           5                                                  \n",
      "Covariance Type:            nonrobust                                                  \n",
      "==============================================================================\n",
      "                 coef    std err          t      P>|t|      [0.025      0.975]\n",
      "------------------------------------------------------------------------------\n",
      "Mkt-RF         0.8282      0.005    180.441      0.000       0.819       0.837\n",
      "SMB           -0.0196      0.009     -2.253      0.024      -0.037      -0.003\n",
      "HML           -0.0459      0.008     -5.580      0.000      -0.062      -0.030\n",
      "RMW            0.2663      0.014     19.682      0.000       0.240       0.293\n",
      "CMA            0.3531      0.016     21.425      0.000       0.321       0.385\n",
      "==============================================================================\n",
      "Omnibus:                      306.623   Durbin-Watson:                   1.993\n",
      "Prob(Omnibus):                  0.000   Jarque-Bera (JB):             1493.393\n",
      "Skew:                          -0.128   Prob(JB):                         0.00\n",
      "Kurtosis:                       5.881   Cond. No.                         4.39\n",
      "==============================================================================\n",
      "\n",
      "Notes:\n",
      "[1] R² is computed without centering (uncentered) since the model does not contain a constant.\n",
      "[2] Standard Errors assume that the covariance matrix of the errors is correctly specified.\n",
      "              Mkt-RF       SMB       HML       RMW       CMA\n",
      "Date                                                        \n",
      "2003-12-19  0.795901  0.145062  0.216671  0.299627  0.077624\n",
      "2003-12-22  0.803764  0.145343  0.206952  0.318578  0.091494\n",
      "2003-12-23  0.804009  0.143258  0.207006  0.322548  0.094544\n",
      "2003-12-24  0.803323  0.142308  0.207285  0.321312  0.094505\n",
      "2003-12-26  0.803171  0.139507  0.207967  0.318139  0.089332\n",
      "...              ...       ...       ...       ...       ...\n",
      "2019-12-24  0.593409 -0.196282 -0.318304 -0.026914  0.864819\n",
      "2019-12-26  0.590193 -0.193725  -0.31894 -0.026948  0.867704\n",
      "2019-12-27  0.589236 -0.192278 -0.319158 -0.025529  0.866005\n",
      "2019-12-30  0.589302 -0.193107 -0.319492 -0.023273  0.869625\n",
      "2019-12-31  0.590068 -0.193464 -0.320018 -0.023753  0.870982\n",
      "\n",
      "[4035 rows x 5 columns]\n"
     ]
    }
   ],
   "source": [
    "from fama_regress import FamaFrenchRegression\n",
    "\n",
    "ff_factors = os_helper.read_data(directory_name='benchmark', file_name='F-F_Research_Data_5_Factors_2x3_daily.csv')\n",
    "portfolio_returns = os_helper.read_data(directory_name='final data', file_name='portfolio_returns.csv')\n",
    "\n",
    "print(ff_factors.head())\n",
    "print(portfolio_returns.head())\n",
    "\n",
    "# Instantiate the FamaFrenchRegression class\n",
    "ff_regression = FamaFrenchRegression(ff_factors, portfolio_returns)\n",
    "\n",
    "# Run the regression\n",
    "ff_regression.run_regression()\n",
    "\n",
    "# Retrieve and display the regression results\n",
    "regression_results = ff_regression.get_regression_results()\n",
    "print(regression_results)\n",
    "\n",
    " # Run the rolling regression\n",
    "rolling_results = ff_regression.run_rolling_regression(window_size=252)\n",
    "\n",
    "# Print or use the rolling regression results\n",
    "print(rolling_results)\n"
   ],
   "metadata": {
    "collapsed": false,
    "ExecuteTime": {
     "end_time": "2023-11-06T16:35:26.016224Z",
     "start_time": "2023-11-06T16:35:18.696196Z"
    }
   },
   "id": "f56b83f2f81ed2c1"
  },
  {
   "cell_type": "code",
   "execution_count": 81,
   "outputs": [
    {
     "name": "stdout",
     "output_type": "stream",
     "text": [
      "Loaded file SPY (1).csv from folder /Users/thomasvaudescal/Documents/Mes_documents/30_TradingClub/PolyFinance/PolyHacks/Data/benchmark.\n",
      "                  SPY\n",
      "2000-01-03  94.262543\n",
      "2000-01-04  90.576317\n",
      "2000-01-05  90.738373\n",
      "2000-01-06  89.280067\n",
      "2000-01-07  94.465073\n",
      "Loaded file portfolio_returns.csv from folder /Users/thomasvaudescal/Documents/Mes_documents/30_TradingClub/PolyFinance/PolyHacks/Data/final data.\n",
      "            Portfolio_Returns\n",
      "2002-12-20           0.000000\n",
      "2002-12-23           0.002887\n",
      "2002-12-24          -0.003936\n",
      "2002-12-26           0.004266\n",
      "2002-12-27          -0.011185\n",
      "{'Cumulative Returns': 4.814664083241165, 'CAGR': 0.1574637386137332, 'Sharpe': 0.9198111540309021, 'Sortino': 1.3165315008096155, 'Calmar': 0.36907310574680563, 'Max Drawdown': -0.4266464723705923, 'Average Return': 0.0006344252908167424, 'Volatility': 0.16293762735135794, 'Tail Ratio': 0.9892777123740502, 'Gain to Pain Ratio': 0.2037264220171056, 'Value at Risk (VaR)': -0.016248735786791677, 'Conditional Value at Risk (CVaR)': -0.025876257930531624, 'Kelly Criterion': 0.09583363492141703, 'Risk of Ruin': 0.0, 'Win Rate': 0.5662371985464156}\n"
     ]
    },
    {
     "name": "stderr",
     "output_type": "stream",
     "text": [
      "/Users/thomasvaudescal/.virtualenvs/PolyHacks/lib/python3.11/site-packages/quantstats/stats.py:968: FutureWarning: In a future version of pandas all arguments of DataFrame.pivot will be keyword-only.\n",
      "  returns = returns.pivot('Year', 'Month', 'Returns').fillna(0)\n"
     ]
    },
    {
     "name": "stdout",
     "output_type": "stream",
     "text": [
      "Moved file InverseMetrics_backtesting_report.html to folder /Users/thomasvaudescal/Documents/Mes_documents/30_TradingClub/PolyFinance/PolyHacks/Codes/reports.\n"
     ]
    }
   ],
   "source": [
    "from perf_report import PerfReport\n",
    "\n",
    "benchmark_prices = os_helper.read_data(directory_name=\"benchmark\", file_name=\"SPY (1).csv\", index_col=0)\n",
    "benchmark_prices.sort_index(inplace=True)\n",
    "benchmark_prices.index.name = None\n",
    "benchmark_prices = benchmark_prices[[\"Adj Close\"]]\n",
    "benchmark_prices.columns = [\"SPY\"]\n",
    "# convert benchmark prices index to datetime\n",
    "benchmark_prices.index = pd.to_datetime(benchmark_prices.index)\n",
    "# keep only data from 2000-01-01 to 2014-12-31\n",
    "benchmark_prices = benchmark_prices[benchmark_prices.index.year >= 2000]\n",
    "# keep data before 2014-12-31 adn drop \n",
    "benchmark_prices = benchmark_prices[benchmark_prices.index.year <= 2014]\n",
    "# convert benchmark prices index to string\n",
    "benchmark_prices.index = benchmark_prices.index.strftime('%Y-%m-%d')\n",
    "\n",
    "print(benchmark_prices.head())\n",
    "\n",
    "strategy_returns = os_helper.read_data(directory_name=\"final data\", file_name=\"portfolio_returns.csv\", index_col=0)\n",
    "strategy_returns.sort_index(inplace=True)\n",
    "strategy_returns.index.name = None\n",
    "# convert benchmark prices index to datetime\n",
    "strategy_returns.index = pd.to_datetime(strategy_returns.index)\n",
    "# keep only data from 2000-01-01 to 2014-12-31\n",
    "strategy_returns = strategy_returns[strategy_returns.index.year >= 2000]\n",
    "# keep data before 2014-12-31\n",
    "strategy_returns = strategy_returns[strategy_returns.index.year <= 2014]\n",
    "# convert benchmark prices index to string\n",
    "strategy_returns.index = strategy_returns.index.strftime('%Y-%m-%d')\n",
    "\n",
    "print(strategy_returns.head())\n",
    "strategy_returns.columns = [\"Portfolio_Returns\"]\n",
    "\n",
    "perf_report = PerfReport(port_returns=strategy_returns, bench_returns=benchmark_prices, strat_name=\"InverseMetrics\")\n",
    "print(perf_report.get_performance_indicators(rf=0.01, periods_per_year=252))\n",
    "perf_report.generate_html_report(rf=0.01, periods_per_year=252)"
   ],
   "metadata": {
    "collapsed": false,
    "ExecuteTime": {
     "end_time": "2023-11-06T16:39:13.872775Z",
     "start_time": "2023-11-06T16:39:00.595848Z"
    }
   },
   "id": "d9a9984082d44fab"
  },
  {
   "cell_type": "code",
   "execution_count": 82,
   "outputs": [
    {
     "name": "stdout",
     "output_type": "stream",
     "text": [
      "Loaded file drifted_weights.csv from folder /Users/thomasvaudescal/Documents/Mes_documents/30_TradingClub/PolyFinance/PolyHacks/Data/final data.\n",
      "            A US Equity  ACN US Equity  ADBE US Equity  ADI US Equity  ADM US Equity  ADP US Equity  ADSK US Equity  AEE US Equity  AEP US Equity  AES US Equity  AFL US Equity  AIZ US Equity  AKAM US Equity  ALL US Equity  AMAT US Equity  AMT US Equity  AON US Equity  APA US Equity  APD US Equity  APH US Equity  ...  TXT US Equity  UNP US Equity  UPS US Equity  VFC US Equity  VLO US Equity  VMC US Equity  VRSN US Equity  VTR US Equity  WAT US Equity  WBA US Equity  WDC US Equity  WEC US Equity  WELL US Equity  WMB US Equity  XEL US Equity  XRAY US Equity  XYL US Equity  YUM US Equity  ZBH US Equity  ZION US Equity\n",
      "2002-12-20          0.0            0.0             0.0            0.0       0.007307       0.006088             0.0       0.007432       0.006365            0.0       0.006239            0.0             0.0       0.006611             0.0            0.0       0.006259       0.006791       0.006126            0.0  ...            0.0       0.006502       0.007099       0.006345       0.006446       0.006268             0.0       0.009679            0.0       0.006717            0.0       0.007597             0.0            0.0       0.006472        0.006975            0.0       0.007032            0.0        0.006282\n",
      "2002-12-23          0.0            0.0             0.0            0.0       0.007186       0.006043             0.0       0.007284       0.006223            0.0       0.006436            0.0             0.0       0.006561             0.0            0.0       0.006241       0.006858       0.006056            0.0  ...            0.0       0.006372       0.007090       0.006134       0.006369       0.006260             0.0       0.009582            0.0       0.006587            0.0       0.007606             0.0            0.0       0.006501        0.007046            0.0       0.006879            0.0        0.006352\n",
      "2002-12-24          0.0            0.0             0.0            0.0       0.007220       0.006053             0.0       0.007311       0.006248            0.0       0.006440            0.0             0.0       0.006573             0.0            0.0       0.006175       0.006886       0.006041            0.0  ...            0.0       0.006387       0.007092       0.006077       0.006376       0.006255             0.0       0.009438            0.0       0.006577            0.0       0.007646             0.0            0.0       0.006379        0.007048            0.0       0.006989            0.0        0.006338\n",
      "2002-12-26          0.0            0.0             0.0            0.0       0.007201       0.006013             0.0       0.007376       0.006386            0.0       0.006453            0.0             0.0       0.006566             0.0            0.0       0.006155       0.006802       0.006038            0.0  ...            0.0       0.006382       0.007052       0.006159       0.006340       0.006177             0.0       0.009536            0.0       0.006515            0.0       0.007728             0.0            0.0       0.006516        0.006965            0.0       0.007056            0.0        0.006328\n",
      "2002-12-27          0.0            0.0             0.0            0.0       0.007241       0.006025             0.0       0.007452       0.006331            0.0       0.006421            0.0             0.0       0.006587             0.0            0.0       0.006100       0.006794       0.005988            0.0  ...            0.0       0.006432       0.007070       0.006131       0.006259       0.006150             0.0       0.009696            0.0       0.006566            0.0       0.007815             0.0            0.0       0.006453        0.006854            0.0       0.007148            0.0        0.006243\n",
      "\n",
      "[5 rows x 241 columns]\n",
      "          date  weight_A  weight_ACN  weight_ADBE  weight_ADI  weight_ADM  weight_ADP  weight_ADSK  weight_AEE  weight_AEP  weight_AES  weight_AFL  weight_AIZ  weight_AKAM  weight_ALL  weight_AMAT  weight_AMT  weight_AON  weight_APA  weight_APD  ...  weight_TXT  weight_UNP  weight_UPS  weight_VFC  weight_VLO  weight_VMC  weight_VRSN  weight_VTR  weight_WAT  weight_WBA  weight_WDC  weight_WEC  weight_WELL  weight_WMB  weight_XEL  weight_XRAY  weight_XYL  weight_YUM  weight_ZBH  weight_ZION\n",
      "id                                                                                                                                                                                                                                                    ...                                                                                                                                                                                                                                                    \n",
      "0   2002-12-20       0.0         0.0          0.0         0.0    0.007307    0.006088          0.0    0.007432    0.006365         0.0    0.006239         0.0          0.0    0.006611          0.0         0.0    0.006259    0.006791    0.006126  ...         0.0    0.006502    0.007099    0.006345    0.006446    0.006268          0.0    0.009679         0.0    0.006717         0.0    0.007597          0.0         0.0    0.006472     0.006975         0.0    0.007032         0.0     0.006282\n",
      "1   2002-12-23       0.0         0.0          0.0         0.0    0.007186    0.006043          0.0    0.007284    0.006223         0.0    0.006436         0.0          0.0    0.006561          0.0         0.0    0.006241    0.006858    0.006056  ...         0.0    0.006372    0.007090    0.006134    0.006369    0.006260          0.0    0.009582         0.0    0.006587         0.0    0.007606          0.0         0.0    0.006501     0.007046         0.0    0.006879         0.0     0.006352\n",
      "2   2002-12-24       0.0         0.0          0.0         0.0    0.007220    0.006053          0.0    0.007311    0.006248         0.0    0.006440         0.0          0.0    0.006573          0.0         0.0    0.006175    0.006886    0.006041  ...         0.0    0.006387    0.007092    0.006077    0.006376    0.006255          0.0    0.009438         0.0    0.006577         0.0    0.007646          0.0         0.0    0.006379     0.007048         0.0    0.006989         0.0     0.006338\n",
      "3   2002-12-26       0.0         0.0          0.0         0.0    0.007201    0.006013          0.0    0.007376    0.006386         0.0    0.006453         0.0          0.0    0.006566          0.0         0.0    0.006155    0.006802    0.006038  ...         0.0    0.006382    0.007052    0.006159    0.006340    0.006177          0.0    0.009536         0.0    0.006515         0.0    0.007728          0.0         0.0    0.006516     0.006965         0.0    0.007056         0.0     0.006328\n",
      "4   2002-12-27       0.0         0.0          0.0         0.0    0.007241    0.006025          0.0    0.007452    0.006331         0.0    0.006421         0.0          0.0    0.006587          0.0         0.0    0.006100    0.006794    0.005988  ...         0.0    0.006432    0.007070    0.006131    0.006259    0.006150          0.0    0.009696         0.0    0.006566         0.0    0.007815          0.0         0.0    0.006453     0.006854         0.0    0.007148         0.0     0.006243\n",
      "\n",
      "[5 rows x 242 columns]\n",
      "            date  weight_A  weight_ACN  weight_ADBE  weight_ADI  weight_ADM  weight_ADP  weight_ADSK  weight_AEE  weight_AEP  weight_AES  weight_AFL  weight_AIZ  weight_AKAM  weight_ALL  weight_AMAT  weight_AMT  weight_AON  weight_APA  weight_APD  ...  weight_TXT  weight_UNP  weight_UPS  weight_VFC  weight_VLO  weight_VMC  weight_VRSN  weight_VTR  weight_WAT  weight_WBA  weight_WDC  weight_WEC  weight_WELL  weight_WMB  weight_XEL  weight_XRAY  weight_XYL  weight_YUM  weight_ZBH  weight_ZION\n",
      "id                                                                                                                                                                                                                                                      ...                                                                                                                                                                                                                                                    \n",
      "4281  2019-12-24       0.0         0.0          0.0         0.0    0.005605         0.0          0.0    0.012920    0.026536    0.006754    0.004295    0.005766          0.0    0.005378          0.0         0.0    0.005273         0.0    0.004517  ...         0.0         0.0         0.0    0.004715         0.0         0.0          0.0    0.009219    0.004457         0.0         0.0    0.018181     0.008257    0.003771    0.018078     0.004884    0.003714    0.004471    0.005260     0.004548\n",
      "4282  2019-12-26       0.0         0.0          0.0         0.0    0.005611         0.0          0.0    0.012880    0.026504    0.006801    0.004277    0.005759          0.0    0.005390          0.0         0.0    0.005271         0.0    0.004530  ...         0.0         0.0         0.0    0.004731         0.0         0.0          0.0    0.009243    0.004453         0.0         0.0    0.018177     0.008300    0.003760    0.018029     0.004826    0.003706    0.004529    0.005240     0.004552\n",
      "4283  2019-12-27       0.0         0.0          0.0         0.0    0.005613         0.0          0.0    0.012969    0.026543    0.006805    0.004269    0.005774          0.0    0.005393          0.0         0.0    0.005250         0.0    0.004510  ...         0.0         0.0         0.0    0.004749         0.0         0.0          0.0    0.009261    0.004454         0.0         0.0    0.018254     0.008334    0.003718    0.018090     0.004844    0.003710    0.004525    0.005220     0.004529\n",
      "4284  2019-12-30       0.0         0.0          0.0         0.0    0.005594         0.0          0.0    0.013020    0.026512    0.006829    0.004281    0.005828          0.0    0.005391          0.0         0.0    0.005256         0.0    0.004509  ...         0.0         0.0         0.0    0.004733         0.0         0.0          0.0    0.009290    0.004446         0.0         0.0    0.018236     0.008344    0.003659    0.018148     0.004809    0.003707    0.004472    0.005179     0.004556\n",
      "4285  2019-12-31       0.0         0.0          0.0         0.0    0.005600         0.0          0.0    0.013011    0.026546    0.006756    0.004278    0.005819          0.0    0.005403          0.0         0.0    0.005253         0.0    0.004508  ...         0.0         0.0         0.0    0.004719         0.0         0.0          0.0    0.009343    0.004437         0.0         0.0    0.018179     0.008391    0.003726    0.018137     0.004807    0.003696    0.004459    0.005192     0.004551\n",
      "\n",
      "[5 rows x 242 columns]\n",
      "Saved file submission_weights.csv to folder /Users/thomasvaudescal/Documents/Mes_documents/30_TradingClub/PolyFinance/PolyHacks/Data/final data.\n"
     ]
    }
   ],
   "source": [
    "from stickyRebalance import prepare_drifted_weights_format_submission\n",
    "\n",
    "drifted_weights = os_helper.read_data(directory_name='final data', file_name='drifted_weights.csv', index_col=0)\n",
    "print(drifted_weights.head())\n",
    "\n",
    "submission_weights = prepare_drifted_weights_format_submission(drifted_weights=drifted_weights)\n",
    "\n",
    "print(submission_weights.head())\n",
    "print(submission_weights.tail())\n",
    "\n",
    "os_helper.write_data(directory_name='final data', file_name='submission_weights.csv', data_frame=submission_weights)"
   ],
   "metadata": {
    "collapsed": false,
    "ExecuteTime": {
     "end_time": "2023-11-06T16:39:15.726596Z",
     "start_time": "2023-11-06T16:39:13.862904Z"
    }
   },
   "id": "cb93879a661c649d"
  },
  {
   "cell_type": "code",
   "execution_count": 83,
   "outputs": [
    {
     "data": {
      "text/plain": "          weight_A   weight_ACN  weight_ADBE   weight_ADI   weight_ADM   weight_ADP  weight_ADSK   weight_AEE   weight_AEP   weight_AES   weight_AFL   weight_AIZ  weight_AKAM   weight_ALL  weight_AMAT   weight_AMT   weight_AON   weight_APA   weight_APD   weight_APH  ...   weight_TXT   weight_UNP   weight_UPS   weight_VFC   weight_VLO   weight_VMC  weight_VRSN   weight_VTR   weight_WAT   weight_WBA   weight_WDC   weight_WEC  weight_WELL   weight_WMB   weight_XEL  weight_XRAY   weight_XYL   weight_YUM   weight_ZBH  weight_ZION\ncount  4286.000000  4286.000000  4286.000000  4286.000000  4286.000000  4286.000000  4286.000000  4286.000000  4286.000000  4286.000000  4286.000000  4286.000000  4286.000000  4286.000000  4286.000000  4286.000000  4286.000000  4286.000000  4286.000000  4286.000000  ...  4286.000000  4286.000000  4286.000000  4286.000000  4286.000000  4286.000000  4286.000000  4286.000000  4286.000000  4286.000000  4286.000000  4286.000000  4286.000000  4286.000000  4286.000000  4286.000000  4286.000000  4286.000000  4286.000000  4286.000000\nmean      0.001149     0.002915     0.001304     0.002491     0.005985     0.006228     0.000901     0.009101     0.010373     0.003034     0.003838     0.003406     0.000135     0.005303     0.000415     0.004559     0.006279     0.001478     0.005228     0.002376  ...     0.000418     0.001949     0.000196     0.006351     0.001398     0.001826     0.003795     0.007638     0.005558     0.002606     0.000320     0.010653     0.004476     0.000407     0.010086     0.006518     0.001026     0.004639     0.005516     0.002047\nstd       0.002286     0.003522     0.002196     0.002860     0.001994     0.001668     0.001965     0.002282     0.007818     0.002771     0.003096     0.002949     0.000780     0.002614     0.001340     0.003049     0.001912     0.003225     0.000669     0.002579  ...     0.001365     0.002855     0.001136     0.000950     0.003557     0.002409     0.002949     0.004293     0.002366     0.003369     0.001287     0.003012     0.004868     0.001316     0.004768     0.001305     0.002063     0.003118     0.002592     0.002816\nmin       0.000000     0.000000     0.000000     0.000000     0.000000     0.000000     0.000000     0.004673     0.004839     0.000000     0.000000     0.000000     0.000000     0.000000     0.000000     0.000000     0.000000     0.000000     0.003069     0.000000  ...     0.000000     0.000000     0.000000     0.003715     0.000000     0.000000     0.000000     0.000000     0.000000     0.000000     0.000000     0.006686     0.000000     0.000000     0.000000     0.003969     0.000000     0.000000     0.000000     0.000000\n25%       0.000000     0.000000     0.000000     0.000000     0.005098     0.005511     0.000000     0.007629     0.007038     0.000000     0.000000     0.000000     0.000000     0.005111     0.000000     0.000000     0.005303     0.000000     0.004841     0.000000  ...     0.000000     0.000000     0.000000     0.005752     0.000000     0.000000     0.000000     0.005327     0.004632     0.000000     0.000000     0.009073     0.000000     0.000000     0.007906     0.005551     0.000000     0.000000     0.004997     0.000000\n50%       0.000000     0.000000     0.000000     0.000000     0.005614     0.006385     0.000000     0.008754     0.008668     0.004530     0.005494     0.004965     0.000000     0.006089     0.000000     0.005763     0.006127     0.000000     0.005232     0.000000  ...     0.000000     0.000000     0.000000     0.006352     0.000000     0.000000     0.005109     0.007325     0.005547     0.000000     0.000000     0.010038     0.005045     0.000000     0.009515     0.006481     0.000000     0.006127     0.006074     0.000000\n75%       0.000000     0.006878     0.004233     0.005350     0.006584     0.007298     0.000000     0.009875     0.010022     0.005409     0.006235     0.005733     0.000000     0.007059     0.000000     0.007047     0.006893     0.000000     0.005706     0.004975  ...     0.000000     0.005317     0.000000     0.007073     0.000000     0.004329     0.006203     0.011361     0.006961     0.006386     0.000000     0.010915     0.008562     0.000000     0.010707     0.007101     0.000000     0.007065     0.007166     0.005438\nmax       0.007014     0.009053     0.006304     0.008594     0.013761     0.010358     0.006363     0.016903     0.050441     0.008433     0.008846     0.009388     0.005445     0.008507     0.005291     0.008179     0.011089     0.010740     0.007082     0.007692  ...     0.006036     0.007459     0.007099     0.008450     0.017257     0.007102     0.009266     0.017473     0.012772     0.009457     0.006644     0.022014     0.018288     0.006459     0.030019     0.010909     0.006771     0.008952     0.010173     0.007797\n\n[8 rows x 241 columns]",
      "text/html": "<div>\n<style scoped>\n    .dataframe tbody tr th:only-of-type {\n        vertical-align: middle;\n    }\n\n    .dataframe tbody tr th {\n        vertical-align: top;\n    }\n\n    .dataframe thead th {\n        text-align: right;\n    }\n</style>\n<table border=\"1\" class=\"dataframe\">\n  <thead>\n    <tr style=\"text-align: right;\">\n      <th></th>\n      <th>weight_A</th>\n      <th>weight_ACN</th>\n      <th>weight_ADBE</th>\n      <th>weight_ADI</th>\n      <th>weight_ADM</th>\n      <th>weight_ADP</th>\n      <th>weight_ADSK</th>\n      <th>weight_AEE</th>\n      <th>weight_AEP</th>\n      <th>weight_AES</th>\n      <th>weight_AFL</th>\n      <th>weight_AIZ</th>\n      <th>weight_AKAM</th>\n      <th>weight_ALL</th>\n      <th>weight_AMAT</th>\n      <th>weight_AMT</th>\n      <th>weight_AON</th>\n      <th>weight_APA</th>\n      <th>weight_APD</th>\n      <th>weight_APH</th>\n      <th>...</th>\n      <th>weight_TXT</th>\n      <th>weight_UNP</th>\n      <th>weight_UPS</th>\n      <th>weight_VFC</th>\n      <th>weight_VLO</th>\n      <th>weight_VMC</th>\n      <th>weight_VRSN</th>\n      <th>weight_VTR</th>\n      <th>weight_WAT</th>\n      <th>weight_WBA</th>\n      <th>weight_WDC</th>\n      <th>weight_WEC</th>\n      <th>weight_WELL</th>\n      <th>weight_WMB</th>\n      <th>weight_XEL</th>\n      <th>weight_XRAY</th>\n      <th>weight_XYL</th>\n      <th>weight_YUM</th>\n      <th>weight_ZBH</th>\n      <th>weight_ZION</th>\n    </tr>\n  </thead>\n  <tbody>\n    <tr>\n      <th>count</th>\n      <td>4286.000000</td>\n      <td>4286.000000</td>\n      <td>4286.000000</td>\n      <td>4286.000000</td>\n      <td>4286.000000</td>\n      <td>4286.000000</td>\n      <td>4286.000000</td>\n      <td>4286.000000</td>\n      <td>4286.000000</td>\n      <td>4286.000000</td>\n      <td>4286.000000</td>\n      <td>4286.000000</td>\n      <td>4286.000000</td>\n      <td>4286.000000</td>\n      <td>4286.000000</td>\n      <td>4286.000000</td>\n      <td>4286.000000</td>\n      <td>4286.000000</td>\n      <td>4286.000000</td>\n      <td>4286.000000</td>\n      <td>...</td>\n      <td>4286.000000</td>\n      <td>4286.000000</td>\n      <td>4286.000000</td>\n      <td>4286.000000</td>\n      <td>4286.000000</td>\n      <td>4286.000000</td>\n      <td>4286.000000</td>\n      <td>4286.000000</td>\n      <td>4286.000000</td>\n      <td>4286.000000</td>\n      <td>4286.000000</td>\n      <td>4286.000000</td>\n      <td>4286.000000</td>\n      <td>4286.000000</td>\n      <td>4286.000000</td>\n      <td>4286.000000</td>\n      <td>4286.000000</td>\n      <td>4286.000000</td>\n      <td>4286.000000</td>\n      <td>4286.000000</td>\n    </tr>\n    <tr>\n      <th>mean</th>\n      <td>0.001149</td>\n      <td>0.002915</td>\n      <td>0.001304</td>\n      <td>0.002491</td>\n      <td>0.005985</td>\n      <td>0.006228</td>\n      <td>0.000901</td>\n      <td>0.009101</td>\n      <td>0.010373</td>\n      <td>0.003034</td>\n      <td>0.003838</td>\n      <td>0.003406</td>\n      <td>0.000135</td>\n      <td>0.005303</td>\n      <td>0.000415</td>\n      <td>0.004559</td>\n      <td>0.006279</td>\n      <td>0.001478</td>\n      <td>0.005228</td>\n      <td>0.002376</td>\n      <td>...</td>\n      <td>0.000418</td>\n      <td>0.001949</td>\n      <td>0.000196</td>\n      <td>0.006351</td>\n      <td>0.001398</td>\n      <td>0.001826</td>\n      <td>0.003795</td>\n      <td>0.007638</td>\n      <td>0.005558</td>\n      <td>0.002606</td>\n      <td>0.000320</td>\n      <td>0.010653</td>\n      <td>0.004476</td>\n      <td>0.000407</td>\n      <td>0.010086</td>\n      <td>0.006518</td>\n      <td>0.001026</td>\n      <td>0.004639</td>\n      <td>0.005516</td>\n      <td>0.002047</td>\n    </tr>\n    <tr>\n      <th>std</th>\n      <td>0.002286</td>\n      <td>0.003522</td>\n      <td>0.002196</td>\n      <td>0.002860</td>\n      <td>0.001994</td>\n      <td>0.001668</td>\n      <td>0.001965</td>\n      <td>0.002282</td>\n      <td>0.007818</td>\n      <td>0.002771</td>\n      <td>0.003096</td>\n      <td>0.002949</td>\n      <td>0.000780</td>\n      <td>0.002614</td>\n      <td>0.001340</td>\n      <td>0.003049</td>\n      <td>0.001912</td>\n      <td>0.003225</td>\n      <td>0.000669</td>\n      <td>0.002579</td>\n      <td>...</td>\n      <td>0.001365</td>\n      <td>0.002855</td>\n      <td>0.001136</td>\n      <td>0.000950</td>\n      <td>0.003557</td>\n      <td>0.002409</td>\n      <td>0.002949</td>\n      <td>0.004293</td>\n      <td>0.002366</td>\n      <td>0.003369</td>\n      <td>0.001287</td>\n      <td>0.003012</td>\n      <td>0.004868</td>\n      <td>0.001316</td>\n      <td>0.004768</td>\n      <td>0.001305</td>\n      <td>0.002063</td>\n      <td>0.003118</td>\n      <td>0.002592</td>\n      <td>0.002816</td>\n    </tr>\n    <tr>\n      <th>min</th>\n      <td>0.000000</td>\n      <td>0.000000</td>\n      <td>0.000000</td>\n      <td>0.000000</td>\n      <td>0.000000</td>\n      <td>0.000000</td>\n      <td>0.000000</td>\n      <td>0.004673</td>\n      <td>0.004839</td>\n      <td>0.000000</td>\n      <td>0.000000</td>\n      <td>0.000000</td>\n      <td>0.000000</td>\n      <td>0.000000</td>\n      <td>0.000000</td>\n      <td>0.000000</td>\n      <td>0.000000</td>\n      <td>0.000000</td>\n      <td>0.003069</td>\n      <td>0.000000</td>\n      <td>...</td>\n      <td>0.000000</td>\n      <td>0.000000</td>\n      <td>0.000000</td>\n      <td>0.003715</td>\n      <td>0.000000</td>\n      <td>0.000000</td>\n      <td>0.000000</td>\n      <td>0.000000</td>\n      <td>0.000000</td>\n      <td>0.000000</td>\n      <td>0.000000</td>\n      <td>0.006686</td>\n      <td>0.000000</td>\n      <td>0.000000</td>\n      <td>0.000000</td>\n      <td>0.003969</td>\n      <td>0.000000</td>\n      <td>0.000000</td>\n      <td>0.000000</td>\n      <td>0.000000</td>\n    </tr>\n    <tr>\n      <th>25%</th>\n      <td>0.000000</td>\n      <td>0.000000</td>\n      <td>0.000000</td>\n      <td>0.000000</td>\n      <td>0.005098</td>\n      <td>0.005511</td>\n      <td>0.000000</td>\n      <td>0.007629</td>\n      <td>0.007038</td>\n      <td>0.000000</td>\n      <td>0.000000</td>\n      <td>0.000000</td>\n      <td>0.000000</td>\n      <td>0.005111</td>\n      <td>0.000000</td>\n      <td>0.000000</td>\n      <td>0.005303</td>\n      <td>0.000000</td>\n      <td>0.004841</td>\n      <td>0.000000</td>\n      <td>...</td>\n      <td>0.000000</td>\n      <td>0.000000</td>\n      <td>0.000000</td>\n      <td>0.005752</td>\n      <td>0.000000</td>\n      <td>0.000000</td>\n      <td>0.000000</td>\n      <td>0.005327</td>\n      <td>0.004632</td>\n      <td>0.000000</td>\n      <td>0.000000</td>\n      <td>0.009073</td>\n      <td>0.000000</td>\n      <td>0.000000</td>\n      <td>0.007906</td>\n      <td>0.005551</td>\n      <td>0.000000</td>\n      <td>0.000000</td>\n      <td>0.004997</td>\n      <td>0.000000</td>\n    </tr>\n    <tr>\n      <th>50%</th>\n      <td>0.000000</td>\n      <td>0.000000</td>\n      <td>0.000000</td>\n      <td>0.000000</td>\n      <td>0.005614</td>\n      <td>0.006385</td>\n      <td>0.000000</td>\n      <td>0.008754</td>\n      <td>0.008668</td>\n      <td>0.004530</td>\n      <td>0.005494</td>\n      <td>0.004965</td>\n      <td>0.000000</td>\n      <td>0.006089</td>\n      <td>0.000000</td>\n      <td>0.005763</td>\n      <td>0.006127</td>\n      <td>0.000000</td>\n      <td>0.005232</td>\n      <td>0.000000</td>\n      <td>...</td>\n      <td>0.000000</td>\n      <td>0.000000</td>\n      <td>0.000000</td>\n      <td>0.006352</td>\n      <td>0.000000</td>\n      <td>0.000000</td>\n      <td>0.005109</td>\n      <td>0.007325</td>\n      <td>0.005547</td>\n      <td>0.000000</td>\n      <td>0.000000</td>\n      <td>0.010038</td>\n      <td>0.005045</td>\n      <td>0.000000</td>\n      <td>0.009515</td>\n      <td>0.006481</td>\n      <td>0.000000</td>\n      <td>0.006127</td>\n      <td>0.006074</td>\n      <td>0.000000</td>\n    </tr>\n    <tr>\n      <th>75%</th>\n      <td>0.000000</td>\n      <td>0.006878</td>\n      <td>0.004233</td>\n      <td>0.005350</td>\n      <td>0.006584</td>\n      <td>0.007298</td>\n      <td>0.000000</td>\n      <td>0.009875</td>\n      <td>0.010022</td>\n      <td>0.005409</td>\n      <td>0.006235</td>\n      <td>0.005733</td>\n      <td>0.000000</td>\n      <td>0.007059</td>\n      <td>0.000000</td>\n      <td>0.007047</td>\n      <td>0.006893</td>\n      <td>0.000000</td>\n      <td>0.005706</td>\n      <td>0.004975</td>\n      <td>...</td>\n      <td>0.000000</td>\n      <td>0.005317</td>\n      <td>0.000000</td>\n      <td>0.007073</td>\n      <td>0.000000</td>\n      <td>0.004329</td>\n      <td>0.006203</td>\n      <td>0.011361</td>\n      <td>0.006961</td>\n      <td>0.006386</td>\n      <td>0.000000</td>\n      <td>0.010915</td>\n      <td>0.008562</td>\n      <td>0.000000</td>\n      <td>0.010707</td>\n      <td>0.007101</td>\n      <td>0.000000</td>\n      <td>0.007065</td>\n      <td>0.007166</td>\n      <td>0.005438</td>\n    </tr>\n    <tr>\n      <th>max</th>\n      <td>0.007014</td>\n      <td>0.009053</td>\n      <td>0.006304</td>\n      <td>0.008594</td>\n      <td>0.013761</td>\n      <td>0.010358</td>\n      <td>0.006363</td>\n      <td>0.016903</td>\n      <td>0.050441</td>\n      <td>0.008433</td>\n      <td>0.008846</td>\n      <td>0.009388</td>\n      <td>0.005445</td>\n      <td>0.008507</td>\n      <td>0.005291</td>\n      <td>0.008179</td>\n      <td>0.011089</td>\n      <td>0.010740</td>\n      <td>0.007082</td>\n      <td>0.007692</td>\n      <td>...</td>\n      <td>0.006036</td>\n      <td>0.007459</td>\n      <td>0.007099</td>\n      <td>0.008450</td>\n      <td>0.017257</td>\n      <td>0.007102</td>\n      <td>0.009266</td>\n      <td>0.017473</td>\n      <td>0.012772</td>\n      <td>0.009457</td>\n      <td>0.006644</td>\n      <td>0.022014</td>\n      <td>0.018288</td>\n      <td>0.006459</td>\n      <td>0.030019</td>\n      <td>0.010909</td>\n      <td>0.006771</td>\n      <td>0.008952</td>\n      <td>0.010173</td>\n      <td>0.007797</td>\n    </tr>\n  </tbody>\n</table>\n<p>8 rows × 241 columns</p>\n</div>"
     },
     "execution_count": 83,
     "metadata": {},
     "output_type": "execute_result"
    }
   ],
   "source": [
    "submission_weights.describe()"
   ],
   "metadata": {
    "collapsed": false,
    "ExecuteTime": {
     "end_time": "2023-11-06T16:39:16.388358Z",
     "start_time": "2023-11-06T16:39:15.718654Z"
    }
   },
   "id": "7dafe34bde0f0497"
  },
  {
   "cell_type": "code",
   "execution_count": 76,
   "outputs": [],
   "source": [],
   "metadata": {
    "collapsed": false,
    "ExecuteTime": {
     "end_time": "2023-11-06T16:35:39.778111Z",
     "start_time": "2023-11-06T16:35:39.737879Z"
    }
   },
   "id": "a8b095b24ea14bde"
  },
  {
   "cell_type": "code",
   "execution_count": 76,
   "outputs": [],
   "source": [],
   "metadata": {
    "collapsed": false,
    "ExecuteTime": {
     "end_time": "2023-11-06T16:35:39.778496Z",
     "start_time": "2023-11-06T16:35:39.742951Z"
    }
   },
   "id": "e6008cb2a161d244"
  },
  {
   "cell_type": "code",
   "execution_count": 76,
   "outputs": [],
   "source": [],
   "metadata": {
    "collapsed": false,
    "ExecuteTime": {
     "end_time": "2023-11-06T16:35:39.778702Z",
     "start_time": "2023-11-06T16:35:39.746745Z"
    }
   },
   "id": "5a5ce704ab05df2b"
  },
  {
   "cell_type": "code",
   "execution_count": 76,
   "outputs": [],
   "source": [],
   "metadata": {
    "collapsed": false,
    "ExecuteTime": {
     "end_time": "2023-11-06T16:35:39.778879Z",
     "start_time": "2023-11-06T16:35:39.753225Z"
    }
   },
   "id": "ecb0d0ed1f09b4c2"
  },
  {
   "cell_type": "code",
   "execution_count": 76,
   "outputs": [],
   "source": [],
   "metadata": {
    "collapsed": false,
    "ExecuteTime": {
     "end_time": "2023-11-06T16:35:39.809100Z",
     "start_time": "2023-11-06T16:35:39.757455Z"
    }
   },
   "id": "ec7dcc45ac15791d"
  },
  {
   "cell_type": "code",
   "execution_count": 76,
   "outputs": [],
   "source": [],
   "metadata": {
    "collapsed": false,
    "ExecuteTime": {
     "end_time": "2023-11-06T16:35:39.811693Z",
     "start_time": "2023-11-06T16:35:39.773564Z"
    }
   },
   "id": "130668094d130be3"
  },
  {
   "cell_type": "code",
   "execution_count": 76,
   "outputs": [],
   "source": [],
   "metadata": {
    "collapsed": false,
    "ExecuteTime": {
     "end_time": "2023-11-06T16:35:39.835647Z",
     "start_time": "2023-11-06T16:35:39.778335Z"
    }
   },
   "id": "7d12b953fff1a818"
  },
  {
   "cell_type": "code",
   "execution_count": 76,
   "outputs": [],
   "source": [],
   "metadata": {
    "collapsed": false,
    "ExecuteTime": {
     "end_time": "2023-11-06T16:35:39.836017Z",
     "start_time": "2023-11-06T16:35:39.782435Z"
    }
   },
   "id": "7566fd87aadc1e0f"
  },
  {
   "cell_type": "code",
   "execution_count": 76,
   "outputs": [],
   "source": [],
   "metadata": {
    "collapsed": false,
    "ExecuteTime": {
     "end_time": "2023-11-06T16:35:39.836240Z",
     "start_time": "2023-11-06T16:35:39.788856Z"
    }
   },
   "id": "a0e8c21d2f34f04"
  },
  {
   "cell_type": "code",
   "execution_count": 76,
   "outputs": [],
   "source": [],
   "metadata": {
    "collapsed": false,
    "ExecuteTime": {
     "end_time": "2023-11-06T16:35:39.836438Z",
     "start_time": "2023-11-06T16:35:39.793702Z"
    }
   },
   "id": "58fae8da3c30da79"
  },
  {
   "cell_type": "code",
   "execution_count": 76,
   "outputs": [],
   "source": [],
   "metadata": {
    "collapsed": false,
    "ExecuteTime": {
     "end_time": "2023-11-06T16:35:39.836618Z",
     "start_time": "2023-11-06T16:35:39.799437Z"
    }
   },
   "id": "ea762028243a8e43"
  }
 ],
 "metadata": {
  "kernelspec": {
   "display_name": "Python 3",
   "language": "python",
   "name": "python3"
  },
  "language_info": {
   "codemirror_mode": {
    "name": "ipython",
    "version": 2
   },
   "file_extension": ".py",
   "mimetype": "text/x-python",
   "name": "python",
   "nbconvert_exporter": "python",
   "pygments_lexer": "ipython2",
   "version": "2.7.6"
  }
 },
 "nbformat": 4,
 "nbformat_minor": 5
}
