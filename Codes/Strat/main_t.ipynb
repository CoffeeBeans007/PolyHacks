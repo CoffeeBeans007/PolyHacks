{
 "cells": [
  {
   "cell_type": "code",
   "execution_count": 2,
   "id": "initial_id",
   "metadata": {
    "collapsed": true,
    "ExecuteTime": {
     "end_time": "2023-11-06T12:24:19.440347Z",
     "start_time": "2023-11-06T12:24:19.426926Z"
    }
   },
   "outputs": [],
   "source": [
    "from os_helper import OsHelper\n",
    "import pandas as pd\n",
    "\n",
    "os_helper = OsHelper()"
   ]
  },
  {
   "cell_type": "code",
   "execution_count": 4,
   "outputs": [
    {
     "name": "stdout",
     "output_type": "stream",
     "text": [
      "Loaded file close_fixed.csv from folder /Users/thomasvaudescal/Documents/Mes_documents/30_TradingClub/PolyFinance/PolyHacks/Data/base data.\n",
      "Loaded file volume_fixed.csv from folder /Users/thomasvaudescal/Documents/Mes_documents/30_TradingClub/PolyFinance/PolyHacks/Data/base data.\n",
      "Loaded file SPY (1).csv from folder /Users/thomasvaudescal/Documents/Mes_documents/30_TradingClub/PolyFinance/PolyHacks/Data/benchmark.\n",
      "                  Open        High         Low       Close   Adj Close     Volume\n",
      "Date                                                                             \n",
      "1995-01-03   45.703125   45.843750   45.687500   45.781250   27.352005     324300\n",
      "1995-01-04   45.984375   46.000000   45.750000   46.000000   27.482687     351800\n",
      "1995-01-05   46.031250   46.109375   45.953125   46.000000   27.482687      89800\n",
      "1995-01-06   46.093750   46.250000   45.906250   46.046875   27.510689     448400\n",
      "1995-01-09   46.031250   46.093750   46.000000   46.093750   27.538696      36800\n",
      "...                ...         ...         ...         ...         ...        ...\n",
      "2023-10-30  413.559998  416.679993  412.220001  415.589996  415.589996   86562700\n",
      "2023-10-31  416.179993  418.529999  414.209991  418.200012  418.200012   79665200\n",
      "2023-11-01  419.200012  423.500000  418.649994  422.660004  422.660004   98068100\n",
      "2023-11-02  426.579987  430.920013  426.559998  430.760010  430.760010   94938900\n",
      "2023-11-03  433.140015  436.290009  433.010010  434.690002  434.690002  100110800\n",
      "\n",
      "[7262 rows x 6 columns]\n",
      "Dropped columns: {'Unnamed: 304', 'HWM US Equity'}\n",
      "Number of columns before: 304\n",
      "Number of columns after: 302\n",
      "Dropped columns: {'HWM US Equity'}\n",
      "Number of columns before: 303\n",
      "Number of columns after: 302\n",
      "all metrics calculation started 2023-11-06 07:11:17\n",
      "Metrics for 1 year(s) window calculated\n",
      "Metrics for 2 year(s) window calculated\n",
      "Metrics for 3 year(s) window calculated\n",
      "all metrics calculation ended 2023-11-06 07:21:17\n",
      "duration for all metrics calculation 10.0002 minutes\n",
      "Saved file all_metrics.csv to folder /Users/thomasvaudescal/Documents/Mes_documents/30_TradingClub/PolyFinance/PolyHacks/Data/transform data.\n"
     ]
    }
   ],
   "source": [
    "from compute_metrics import ComputeMetrics\n",
    "\n",
    "price_data = os_helper.read_data(directory_name=\"base data\", file_name=\"close_fixed.csv\", index_col=0, low_memory=False)\n",
    "trade_volume = os_helper.read_data(directory_name=\"base data\", file_name=\"volume_fixed.csv\", index_col=0, low_memory=False)\n",
    "spy = os_helper.read_data(directory_name=\"benchmark\", file_name=\"SPY (1).csv\", index_col=0, low_memory=False)\n",
    "\n",
    "print(price_data.head())\n",
    "print(trade_volume.head())\n",
    "print(spy.head())\n",
    "\n",
    "rolling_window_years = [1, 2, 3]\n",
    "\n",
    "# Compute all risk metrics needed for the strategy and the filter\n",
    "metrics_calculator = ComputeMetrics(price_data=price_data, trade_volume=trade_volume, rolling_window_years=rolling_window_years,\n",
    "                                    benchmark_series=spy['Adj Close'])\n",
    "\n",
    "final_df = metrics_calculator.compile_all_metrics()\n",
    "\n",
    "os_helper.write_data(directory_name=\"transform data\", file_name=\"all_metrics.csv\", data_frame=final_df)"
   ],
   "metadata": {
    "collapsed": false,
    "ExecuteTime": {
     "end_time": "2023-11-06T12:21:50.919449Z",
     "start_time": "2023-11-06T12:11:15.106219Z"
    }
   },
   "id": "967ae450e23a7c09"
  },
  {
   "cell_type": "code",
   "execution_count": 5,
   "outputs": [
    {
     "name": "stdout",
     "output_type": "stream",
     "text": [
      "Loaded file all_metrics.csv from folder /Users/thomasvaudescal/Documents/Mes_documents/30_TradingClub/PolyFinance/PolyHacks/Data/transform data.\n",
      "                   A US Equity                                                                                                                AAPL US Equity                                                                                                                 ABT US Equity                      ... YUM US Equity                     ZBH US Equity                                                                                                                ZION US Equity                                                                                                          \n",
      "           average_turnover_1Y average_turnover_2Y average_turnover_3Y beta_1Y beta_2Y beta_3Y volatility_1Y volatility_2Y volatility_3Y average_turnover_1Y average_turnover_2Y average_turnover_3Y beta_1Y beta_2Y beta_3Y volatility_1Y volatility_2Y volatility_3Y average_turnover_1Y average_turnover_2Y  ... volatility_2Y volatility_3Y average_turnover_1Y average_turnover_2Y average_turnover_3Y beta_1Y beta_2Y beta_3Y volatility_1Y volatility_2Y volatility_3Y average_turnover_1Y average_turnover_2Y average_turnover_3Y beta_1Y beta_2Y beta_3Y volatility_1Y volatility_2Y volatility_3Y\n",
      "1995-01-03                                                                                                                                                                                                                                                                                                      ...                                                                                                                                                                                                                                                                                        \n",
      "1995-01-04                 NaN                 NaN                 NaN     NaN     NaN     NaN           NaN           NaN           NaN                 NaN                 NaN                 NaN     NaN     NaN     NaN           NaN           NaN           NaN                 NaN                 NaN  ...           NaN           NaN                 NaN                 NaN                 NaN     NaN     NaN     NaN           NaN           NaN           NaN                 NaN                 NaN                 NaN     NaN     NaN     NaN           NaN           NaN           NaN\n",
      "1995-01-05                 NaN                 NaN                 NaN     NaN     NaN     NaN           NaN           NaN           NaN                 NaN                 NaN                 NaN     NaN     NaN     NaN           NaN           NaN           NaN                 NaN                 NaN  ...           NaN           NaN                 NaN                 NaN                 NaN     NaN     NaN     NaN           NaN           NaN           NaN                 NaN                 NaN                 NaN     NaN     NaN     NaN           NaN           NaN           NaN\n",
      "1995-01-06                 NaN                 NaN                 NaN     NaN     NaN     NaN           NaN           NaN           NaN                 NaN                 NaN                 NaN     NaN     NaN     NaN           NaN           NaN           NaN                 NaN                 NaN  ...           NaN           NaN                 NaN                 NaN                 NaN     NaN     NaN     NaN           NaN           NaN           NaN                 NaN                 NaN                 NaN     NaN     NaN     NaN           NaN           NaN           NaN\n",
      "1995-01-09                 NaN                 NaN                 NaN     NaN     NaN     NaN           NaN           NaN           NaN                 NaN                 NaN                 NaN     NaN     NaN     NaN           NaN           NaN           NaN                 NaN                 NaN  ...           NaN           NaN                 NaN                 NaN                 NaN     NaN     NaN     NaN           NaN           NaN           NaN                 NaN                 NaN                 NaN     NaN     NaN     NaN           NaN           NaN           NaN\n",
      "1995-01-10                 NaN                 NaN                 NaN     NaN     NaN     NaN           NaN           NaN           NaN                 NaN                 NaN                 NaN     NaN     NaN     NaN           NaN           NaN           NaN                 NaN                 NaN  ...           NaN           NaN                 NaN                 NaN                 NaN     NaN     NaN     NaN           NaN           NaN           NaN                 NaN                 NaN                 NaN     NaN     NaN     NaN           NaN           NaN           NaN\n",
      "\n",
      "[5 rows x 2718 columns]\n",
      "Dates de rebalancement :\n",
      "2000-01-07 00:00:00\n",
      "2000-04-07 00:00:00\n",
      "2000-07-07 00:00:00\n",
      "2000-10-06 00:00:00\n",
      "2001-01-12 00:00:00\n",
      "2001-04-06 00:00:00\n",
      "2001-07-06 00:00:00\n",
      "2001-10-12 00:00:00\n",
      "2002-01-11 00:00:00\n",
      "2002-04-12 00:00:00\n",
      "2002-07-12 00:00:00\n",
      "2002-10-11 00:00:00\n",
      "2003-01-10 00:00:00\n",
      "2003-04-11 00:00:00\n",
      "2003-07-11 00:00:00\n",
      "2003-10-10 00:00:00\n",
      "2004-01-09 00:00:00\n",
      "2004-04-09 00:00:00\n",
      "2004-07-09 00:00:00\n",
      "2004-10-08 00:00:00\n",
      "2005-01-07 00:00:00\n",
      "2005-04-08 00:00:00\n",
      "2005-07-08 00:00:00\n",
      "2005-10-07 00:00:00\n",
      "2006-01-06 00:00:00\n",
      "2006-04-07 00:00:00\n",
      "2006-07-07 00:00:00\n",
      "2006-10-06 00:00:00\n",
      "2007-01-12 00:00:00\n",
      "2007-04-06 00:00:00\n",
      "2007-07-06 00:00:00\n",
      "2007-10-12 00:00:00\n",
      "2008-01-11 00:00:00\n",
      "2008-04-11 00:00:00\n",
      "2008-07-11 00:00:00\n",
      "2008-10-10 00:00:00\n",
      "2009-01-09 00:00:00\n",
      "2009-04-10 00:00:00\n",
      "2009-07-10 00:00:00\n",
      "2009-10-09 00:00:00\n",
      "2010-01-08 00:00:00\n",
      "2010-04-09 00:00:00\n",
      "2010-07-09 00:00:00\n",
      "2010-10-08 00:00:00\n",
      "2011-01-07 00:00:00\n",
      "2011-04-08 00:00:00\n",
      "2011-07-08 00:00:00\n",
      "2011-10-07 00:00:00\n",
      "2012-01-06 00:00:00\n",
      "2012-04-06 00:00:00\n",
      "2012-07-06 00:00:00\n",
      "2012-10-12 00:00:00\n",
      "2013-01-11 00:00:00\n",
      "2013-04-12 00:00:00\n",
      "2013-07-12 00:00:00\n",
      "2013-10-11 00:00:00\n",
      "2014-01-10 00:00:00\n",
      "2014-04-11 00:00:00\n",
      "2014-07-11 00:00:00\n",
      "2014-10-10 00:00:00\n",
      "2015-01-09 00:00:00\n",
      "2015-04-10 00:00:00\n",
      "2015-07-10 00:00:00\n",
      "2015-10-09 00:00:00\n",
      "        Date          Ticker  average_turnover_1Y  average_turnover_2Y  average_turnover_3Y   beta_1Y   beta_2Y   beta_3Y  volatility_1Y  volatility_2Y  volatility_3Y\n",
      "0 2000-01-07  AAPL US Equity         2.822167e+08         2.080641e+08         1.553083e+08  1.351092  1.165324  0.983969       0.602578       0.574981       0.618927\n",
      "1 2000-01-07   ABT US Equity         6.775778e+07         5.411452e+07         4.707382e+07  0.932067  0.841249  0.866634       0.361892       0.323613       0.305512\n",
      "2 2000-01-07  ADBE US Equity         8.940289e+07         6.678857e+07         6.509780e+07  0.966219  0.927739  0.872973       0.496930       0.521665       0.515052\n",
      "3 2000-01-07   ADI US Equity         6.310535e+07         4.873519e+07         4.258878e+07  1.244670  1.140282  1.220119       0.604444       0.623926       0.602759\n",
      "4 2000-01-07   ADM US Equity         1.685440e+07         1.982424e+07         2.319849e+07  0.376382  0.464531  0.516650       0.321483       0.331964       0.319116\n",
      "Saved file rebalance_metrics.csv to folder /Users/thomasvaudescal/Documents/Mes_documents/30_TradingClub/PolyFinance/PolyHacks/Data/transform data.\n"
     ]
    }
   ],
   "source": [
    "from get_rebal_dates import GetRebalDates, filter_by_rebalance_dates\n",
    "\n",
    "all_metrics = os_helper.read_data(directory_name=\"transform data\", file_name=\"all_metrics.csv\", index_col=0, header=[0, 1])\n",
    "print(all_metrics.head())\n",
    "\n",
    "termination_date = '2015-12-31' # Last day of the backtest\n",
    "initial_year = 2000 # First year of the backtest\n",
    "reb_month = 1\n",
    "reb_week = 2\n",
    "reb_weekday = 'FRI'\n",
    "reb_frequency = 'Q' # Q for quarterly, M for monthly, A for annual, S for semi-annual\n",
    "\n",
    "# Get the rebalance dates of the strategy\n",
    "get_reb_dates = GetRebalDates(termination_date=termination_date, initial_year=initial_year, reb_month=reb_month,\n",
    "                              reb_week=reb_week, reb_weekday=reb_weekday, reb_frequency=reb_frequency)\n",
    "rebalance_dates = get_reb_dates.reb_dates\n",
    "\n",
    "print(\"Dates de rebalancement :\")\n",
    "for date in rebalance_dates:\n",
    "    print(date)\n",
    "\n",
    "reb_metrics = filter_by_rebalance_dates(get_reb_dates=get_reb_dates, data=all_metrics)\n",
    "print(reb_metrics.head())\n",
    "\n",
    "os_helper.write_data(directory_name=\"transform data\", file_name=f\"rebalance_metrics.csv\", data_frame=reb_metrics)"
   ],
   "metadata": {
    "collapsed": false,
    "ExecuteTime": {
     "end_time": "2023-11-06T12:22:30.966684Z",
     "start_time": "2023-11-06T12:22:25.883104Z"
    }
   },
   "id": "ca86fbff70a8caab"
  },
  {
   "cell_type": "code",
   "execution_count": 6,
   "outputs": [
    {
     "name": "stdout",
     "output_type": "stream",
     "text": [
      "Loaded file rebalance_metrics.csv from folder /Users/thomasvaudescal/Documents/Mes_documents/30_TradingClub/PolyFinance/PolyHacks/Data/transform data.\n",
      "             Date          Ticker  average_turnover_1Y  average_turnover_2Y  average_turnover_3Y   beta_1Y   beta_2Y   beta_3Y  volatility_1Y  volatility_2Y  volatility_3Y\n",
      "0      2000-01-07  AAPL US Equity         2.822167e+08         2.080641e+08         1.553083e+08  1.351092  1.165324  0.983969       0.602578       0.574981       0.618927\n",
      "1      2000-01-07   ABT US Equity         6.775778e+07         5.411452e+07         4.707382e+07  0.932067  0.841249  0.866634       0.361892       0.323613       0.305512\n",
      "2      2000-01-07  ADBE US Equity         8.940289e+07         6.678857e+07         6.509780e+07  0.966219  0.927739  0.872973       0.496930       0.521665       0.515052\n",
      "3      2000-01-07   ADI US Equity         6.310535e+07         4.873519e+07         4.258878e+07  1.244670  1.140282  1.220119       0.604444       0.623926       0.602759\n",
      "4      2000-01-07   ADM US Equity         1.685440e+07         1.982424e+07         2.319849e+07  0.376382  0.464531  0.516650       0.321483       0.331964       0.319116\n",
      "...           ...             ...                  ...                  ...                  ...       ...       ...       ...            ...            ...            ...\n",
      "17354  2015-10-09  XRAY US Equity         4.744763e+07         4.284228e+07         3.895782e+07  0.926644  0.920211  0.963146       0.199324       0.170324       0.172388\n",
      "17355  2015-10-09   XYL US Equity         3.748448e+07         3.877937e+07         3.614621e+07  0.072656 -0.006664  0.063314       0.217310       0.244277       0.240138\n",
      "17356  2015-10-09   YUM US Equity         2.216850e+08         1.956077e+08         1.931296e+08  0.103158 -0.008772 -0.019171       0.320753       0.270778       0.264641\n",
      "17357  2015-10-09   ZBH US Equity         1.262208e+08         1.233361e+08         1.085169e+08  0.058970  0.024807  0.008617       0.202360       0.202759       0.192541\n",
      "17358  2015-10-09  ZION US Equity         7.637319e+07         7.331417e+07         6.708085e+07  1.156743  1.182684  1.188778       0.262303       0.241461       0.238469\n",
      "\n",
      "[17359 rows x 11 columns]\n",
      "         Date         Ticker  average_turnover_1Y  average_turnover_2Y  average_turnover_3Y   beta_1Y   beta_2Y   beta_3Y  volatility_1Y  volatility_2Y  volatility_3Y\n",
      "0  2000-01-07  ADM US Equity         1.685440e+07         1.982424e+07         2.319849e+07  0.376382  0.464531  0.516650       0.321483       0.331964       0.319116\n",
      "1  2000-01-07  AEP US Equity         1.684560e+07         1.810501e+07         1.777850e+07  0.275702  0.248073  0.278439       0.209497       0.197221       0.180720\n",
      "2  2000-01-07  APA US Equity         3.053278e+07         2.260925e+07         2.102268e+07  0.266976  0.549218  0.480619       0.511574       0.476057       0.426099\n",
      "3  2000-01-07  APD US Equity         2.609587e+07         2.336744e+07         2.150346e+07  0.535894  0.619094  0.576415       0.455714       0.390075       0.345317\n",
      "4  2000-01-07  AVB US Equity         5.692126e+06         4.609598e+06         3.805315e+06  0.034746  0.071966  0.071347       0.198535       0.183417       0.169624\n",
      "Saved file filtered_data.csv to folder /Users/thomasvaudescal/Documents/Mes_documents/30_TradingClub/PolyFinance/PolyHacks/Data/transform data.\n"
     ]
    }
   ],
   "source": [
    "from filter import Filter\n",
    "\n",
    "data = os_helper.read_data(directory_name=\"transform data\", file_name=\"rebalance_metrics.csv\", index_col=0)\n",
    "print(data)\n",
    "risk_filter = Filter(data=data)\n",
    "\n",
    "risk_top_n = 120\n",
    "liquidity_top_n = 200\n",
    "\n",
    "filtered_data = risk_filter.apply_filters(liquidity_top_n=liquidity_top_n, risk_top_n=risk_top_n)\n",
    "print(filtered_data.head())\n",
    "\n",
    "os_helper.write_data(directory_name=\"transform data\", file_name=\"filtered_data.csv\", data_frame=filtered_data)"
   ],
   "metadata": {
    "collapsed": false,
    "ExecuteTime": {
     "end_time": "2023-11-06T12:22:39.789523Z",
     "start_time": "2023-11-06T12:22:39.356332Z"
    }
   },
   "id": "f092ec4279757cf7"
  },
  {
   "cell_type": "code",
   "execution_count": 6,
   "outputs": [
    {
     "name": "stdout",
     "output_type": "stream",
     "text": [
      "Loaded file filtered_data.csv from folder /Users/thomasvaudescal/Documents/Mes_documents/30_TradingClub/PolyFinance/PolyHacks/Data/transform data.\n",
      "            Date          Ticker  average_turnover_1Y  average_turnover_2Y  average_turnover_3Y   beta_1Y   beta_2Y   beta_3Y  volatility_1Y  volatility_2Y  volatility_3Y\n",
      "0     2000-01-07   ADM US Equity         1.685440e+07         1.982424e+07         2.319849e+07  0.376382  0.464531  0.516650       0.321483       0.331964       0.319116\n",
      "1     2000-01-07   AEP US Equity         1.684560e+07         1.810501e+07         1.777850e+07  0.275702  0.248073  0.278439       0.209497       0.197221       0.180720\n",
      "2     2000-01-07   APA US Equity         3.053278e+07         2.260925e+07         2.102268e+07  0.266976  0.549218  0.480619       0.511574       0.476057       0.426099\n",
      "3     2000-01-07   APD US Equity         2.609587e+07         2.336744e+07         2.150346e+07  0.535894  0.619094  0.576415       0.455714       0.390075       0.345317\n",
      "4     2000-01-07   AVB US Equity         5.692126e+06         4.609598e+06         3.805315e+06  0.034746  0.071966  0.071347       0.198535       0.183417       0.169624\n",
      "...          ...             ...                  ...                  ...                  ...       ...       ...       ...            ...            ...            ...\n",
      "7195  2015-10-09   XEL US Equity         1.132101e+08         9.736447e+07         9.331752e+07  0.601975  0.572647  0.603591       0.188530       0.163671       0.157225\n",
      "7196  2015-10-09  XRAY US Equity         4.744763e+07         4.284228e+07         3.895782e+07  0.926644  0.920211  0.963146       0.199324       0.170324       0.172388\n",
      "7197  2015-10-09   XYL US Equity         3.748448e+07         3.877937e+07         3.614621e+07  0.072656 -0.006664  0.063314       0.217310       0.244277       0.240138\n",
      "7198  2015-10-09   YUM US Equity         2.216850e+08         1.956077e+08         1.931296e+08  0.103158 -0.008772 -0.019171       0.320753       0.270778       0.264641\n",
      "7199  2015-10-09   ZBH US Equity         1.262208e+08         1.233361e+08         1.085169e+08  0.058970  0.024807  0.008617       0.202360       0.202759       0.192541\n",
      "\n",
      "[7200 rows x 11 columns]\n",
      "All weights sum to 1 for each date.\n",
      "           Date          Ticker    Weight\n",
      "0    2000-01-07   ADM US Equity  0.004515\n",
      "1    2000-01-07   AEP US Equity  0.004837\n",
      "2    2000-01-07   APA US Equity  0.004557\n",
      "3    2000-01-07   APD US Equity  0.004434\n",
      "4    2000-01-07   AVB US Equity  0.007508\n",
      "...         ...             ...       ...\n",
      "7195 2015-10-09   XEL US Equity  0.000718\n",
      "7196 2015-10-09  XRAY US Equity  0.000683\n",
      "7197 2015-10-09   XYL US Equity  0.015301\n",
      "7198 2015-10-09   YUM US Equity  0.028928\n",
      "7199 2015-10-09   ZBH US Equity  0.003327\n",
      "\n",
      "[7200 rows x 3 columns]\n",
      "Saved file inverse_metrics_weighting.csv to folder /Users/thomasvaudescal/Documents/Mes_documents/30_TradingClub/PolyFinance/PolyHacks/Data/transform data.\n"
     ]
    }
   ],
   "source": [
    "from weighting import InverseMetricsWeighting\n",
    "\n",
    "filtered_data = os_helper.read_data(directory_name=\"transform data\", file_name=\"filtered_data.csv\", index_col=0)\n",
    "print(filtered_data)\n",
    "\n",
    "years_to_inverse = [1, 2, 3]\n",
    "metric_to_inverse = \"beta\"\n",
    "weighting_list = [] # Equal weighting of betas\n",
    "min_weight = 0.00001\n",
    "max_weight = 0.05\n",
    "\n",
    "inverse_metrics_weighting = InverseMetricsWeighting(filtered_data=filtered_data, years_list=years_to_inverse,\n",
    "                                                    target_metric=metric_to_inverse, weight_list=weighting_list,\n",
    "                                                    min_limit=min_weight, max_limit=max_weight)\n",
    "inverse_metrics_weighting_df = inverse_metrics_weighting.compute_inverse_weighted_metrics()\n",
    "print(inverse_metrics_weighting_df)\n",
    "\n",
    "os_helper.write_data(directory_name=\"transform data\", file_name=\"inverse_metrics_weighting.csv\", data_frame=inverse_metrics_weighting_df)"
   ],
   "metadata": {
    "collapsed": false,
    "ExecuteTime": {
     "end_time": "2023-11-06T12:27:15.605894Z",
     "start_time": "2023-11-06T12:27:14.462873Z"
    }
   },
   "id": "26b98628bc0fe230"
  },
  {
   "cell_type": "code",
   "execution_count": 7,
   "outputs": [
    {
     "name": "stdout",
     "output_type": "stream",
     "text": [
      "Loaded file tot_retl.csv from folder /Users/thomasvaudescal/Documents/Mes_documents/30_TradingClub/PolyFinance/PolyHacks/Data/base data.\n",
      "            CSCO US Equity  ISRG US Equity  TPR US Equity  DVN US Equity  MRO US Equity  BA US Equity  GILD US Equity  MDT US Equity  V US Equity  A US Equity  MO US Equity  CTRA US Equity  MCHP US Equity  EIX US Equity  BBY US Equity  GEN US Equity  WBA US Equity  DTE US Equity  C US Equity  T US Equity  ...  WYNN US Equity  RHI US Equity  EFX US Equity  NUE US Equity  CTSH US Equity  SWK US Equity  MU US Equity  TRV US Equity  L US Equity  AEP US Equity  CI US Equity  BALL US Equity  JNJ US Equity  DOV US Equity  CRM US Equity  PGR US Equity  WAT US Equity  BWA US Equity  BLK US Equity  PPL US Equity\n",
      "Date                                                                                                                                                                                                                                                                                                               ...                                                                                                                                                                                                                                                                                                           \n",
      "1995-01-03          1.8958           2.000         2.0000         8.8125         5.0462        23.375          0.2930         6.7031      11.0000      20.2131        4.4459          1.2188          2.5988         14.750         3.4722         2.1250         5.5938        22.2284      50.9620      15.3314  ...           13.00         3.8750          6.825        13.6875          0.2083         18.000       10.9375         22.125        7.323         32.875        7.0417          2.0156        13.6250         8.8301           2.75         2.9063          3.781         2.7763         14.000         9.0474\n",
      "1995-01-04          1.9097           2.007         2.5391         8.9375         5.0462        23.313          0.2930         6.6875      14.1250      29.6459        4.5424          1.2292          2.5309         14.750         3.6389         2.1563         5.5938        22.4411      51.5411      15.2446  ...           13.01         3.8542          6.727        13.9375          0.2083         17.938       11.0000         22.125        7.458         33.250        7.0000          2.0625        13.7500         8.8720           4.30         2.9167          3.750         2.8037         14.125         9.1054\n",
      "1995-01-05          1.8958           2.000         2.4531         9.0000         5.0841        23.375          0.3184         6.6875      16.0875      27.2035        4.4363          1.2083          2.4444         14.750         3.6250         2.0156         5.5938        22.3348      51.7342      15.4828  ...           13.01         3.8125          6.825        13.7500          0.2083         18.063       10.9063         22.000        7.479         33.250        6.9861          2.0625        13.6875         8.8720           4.19         2.9167          3.750         2.7900         14.063         9.1634\n",
      "1995-01-06          1.8958           2.028         2.2656         9.0000         5.0462        23.813          0.3438         6.7188      14.9325      29.6459        4.4363          1.1979          2.5679         14.875         3.6250         2.2031         5.5938        22.7602      53.2785      15.4828  ...           12.64         3.6875          6.891        14.3750          0.2135         18.313       10.8438         21.813        7.427         33.500        7.0000          2.0469        13.5938         9.2067           3.95         3.0000          3.750         2.8312         14.188         9.1054\n",
      "1995-01-09          1.9375           2.028         2.2969         8.8125         5.0083        23.813          0.3438         6.7656      15.8125      26.9508        4.4170          1.1667          2.7160         15.125         3.5833         2.1719         5.6250        22.5475      53.0854      15.4351  ...           12.50         3.6042          6.661        14.1250          0.2344         18.125       10.7500         22.063        7.448         33.375        7.0000          2.0000        13.4375         9.2904           4.00         3.0417          3.750         2.8587         14.875         9.1634\n",
      "\n",
      "[5 rows x 303 columns]\n",
      "Loaded file inverse_metrics_weighting.csv from folder /Users/thomasvaudescal/Documents/Mes_documents/30_TradingClub/PolyFinance/PolyHacks/Data/transform data.\n",
      "         Date         Ticker    Weight\n",
      "0  2000-01-07  ADM US Equity  0.004515\n",
      "1  2000-01-07  AEP US Equity  0.004837\n",
      "2  2000-01-07  APA US Equity  0.004557\n",
      "3  2000-01-07  APD US Equity  0.004434\n",
      "4  2000-01-07  AVB US Equity  0.007508\n",
      "Unable to calculate transaction costs for 2001-04-13 00:00:00.\n",
      "Unable to calculate transaction costs for 2003-04-18 00:00:00.\n",
      "Unable to calculate transaction costs for 2006-04-14 00:00:00.\n",
      "Unable to calculate transaction costs for 2014-04-18 00:00:00.\n",
      "           A US Equity ABT US Equity ACN US Equity ADI US Equity ADM US Equity ADP US Equity AEE US Equity AEP US Equity AES US Equity AFL US Equity AIZ US Equity AKAM US Equity ALL US Equity AMP US Equity AMT US Equity AON US Equity APA US Equity APD US Equity APH US Equity AVB US Equity  ... UNH US Equity UNP US Equity VFC US Equity VLO US Equity VMC US Equity VRSN US Equity VTR US Equity VTRS US Equity WAT US Equity WBA US Equity WEC US Equity WELL US Equity WMB US Equity WYNN US Equity XEL US Equity XRAY US Equity XYL US Equity YUM US Equity ZBH US Equity ZION US Equity\n",
      "2000-01-14         0.0           0.0           0.0           0.0      0.004515           0.0           0.0      0.004837           0.0           0.0           0.0            0.0           0.0           0.0           0.0           0.0      0.004557      0.004434           0.0      0.007508  ...           0.0      0.004581      0.004451           0.0      0.004668            0.0       0.04369            0.0      0.005516           0.0      0.005096       0.005405      0.004418            0.0      0.004768       0.004662           0.0           0.0           0.0            0.0\n",
      "2000-01-18         0.0           0.0           0.0           0.0      0.004678           0.0           0.0       0.00468           0.0           0.0           0.0            0.0           0.0           0.0           0.0           0.0      0.004939      0.004184           0.0        0.0077  ...           0.0      0.004376      0.004413           0.0      0.004756            0.0      0.043992            0.0      0.005648           0.0      0.004957       0.005217      0.004584            0.0      0.004582       0.004528           0.0           0.0           0.0            0.0\n",
      "2000-01-19         0.0           0.0           0.0           0.0      0.004791           0.0           0.0      0.004743           0.0           0.0           0.0            0.0           0.0           0.0           0.0           0.0      0.004908      0.004193           0.0      0.007621  ...           0.0      0.004303       0.00451           0.0      0.004751            0.0      0.044003            0.0      0.005966           0.0      0.005085       0.005401      0.004491            0.0      0.004584       0.004506           0.0           0.0           0.0            0.0\n",
      "2000-01-20         0.0           0.0           0.0           0.0      0.004706           0.0           0.0      0.004718           0.0           0.0           0.0            0.0           0.0           0.0           0.0           0.0      0.004969      0.004081           0.0       0.00768  ...           0.0      0.004167      0.004508           0.0      0.004718            0.0      0.043582            0.0      0.005924           0.0      0.005083       0.005554      0.004793            0.0      0.004567       0.004402           0.0           0.0           0.0            0.0\n",
      "2000-01-21         0.0           0.0           0.0           0.0      0.004725           0.0           0.0      0.004894           0.0           0.0           0.0            0.0           0.0           0.0           0.0           0.0       0.00519      0.003988           0.0      0.007747  ...           0.0      0.004379      0.004567           0.0       0.00467            0.0      0.043277            0.0      0.005982           0.0      0.005241       0.005706      0.004986            0.0      0.004636       0.004551           0.0           0.0           0.0            0.0\n",
      "\n",
      "[5 rows x 228 columns]\n",
      "            Portfolio_Returns\n",
      "2000-01-14           0.000000\n",
      "2000-01-18           0.008634\n",
      "2000-01-19          -0.000263\n",
      "2000-01-20          -0.005856\n",
      "2000-01-21          -0.008694\n",
      "Saved file portfolio_returns.csv to folder /Users/thomasvaudescal/Documents/Mes_documents/30_TradingClub/PolyFinance/PolyHacks/Data/final data.\n",
      "Saved file drifted_weights.csv to folder /Users/thomasvaudescal/Documents/Mes_documents/30_TradingClub/PolyFinance/PolyHacks/Data/final data.\n"
     ]
    }
   ],
   "source": [
    "from portfolio_returns import PortfolioReturns\n",
    "\n",
    "prices = os_helper.read_data(directory_name=\"base data\", file_name=\"tot_retl.csv\", index_col=0, sep=',')\n",
    "print(prices.head())\n",
    "weighting_df = os_helper.read_data(directory_name=\"transform data\", file_name=\"inverse_metrics_weighting.csv\", index_col=0)\n",
    "print(weighting_df.head())\n",
    "\n",
    "rebalance_lag = 7 # delay between weight computation and implementation\n",
    "transaction_fee = 0.001 # 0.1% transaction fee\n",
    "\n",
    "pf_returns = PortfolioReturns(prices=prices, weighting_data=weighting_df, rebalance_lag=rebalance_lag, transaction_fee=transaction_fee)\n",
    "drifted_weights = pf_returns.drifted_weights\n",
    "print(drifted_weights.head())\n",
    "portfolio_returns = pf_returns.portfolio_returns\n",
    "print(portfolio_returns.head())\n",
    "\n",
    "os_helper.write_data(directory_name=\"final data\", file_name=\"portfolio_returns.csv\", data_frame=portfolio_returns)\n",
    "os_helper.write_data(directory_name=\"final data\", file_name=\"drifted_weights.csv\", data_frame=drifted_weights)"
   ],
   "metadata": {
    "collapsed": false,
    "ExecuteTime": {
     "end_time": "2023-11-06T12:27:49.418522Z",
     "start_time": "2023-11-06T12:27:36.588261Z"
    }
   },
   "id": "a5048b3608d70b53"
  },
  {
   "cell_type": "code",
   "execution_count": 8,
   "outputs": [
    {
     "name": "stdout",
     "output_type": "stream",
     "text": [
      "Loaded file SPY (1).csv from folder /Users/thomasvaudescal/Documents/Mes_documents/30_TradingClub/PolyFinance/PolyHacks/Data/benchmark.\n",
      "                  SPY\n",
      "1995-01-03  27.352005\n",
      "1995-01-04  27.482687\n",
      "1995-01-05  27.482687\n",
      "1995-01-06  27.510689\n",
      "1995-01-09  27.538696\n",
      "Loaded file portfolio_returns.csv from folder /Users/thomasvaudescal/Documents/Mes_documents/30_TradingClub/PolyFinance/PolyHacks/Data/final data.\n",
      "            Portfolio_Returns\n",
      "2000-01-14           0.000000\n",
      "2000-01-18           0.008634\n",
      "2000-01-19          -0.000263\n",
      "2000-01-20          -0.005856\n",
      "2000-01-21          -0.008694\n",
      "{'Cumulative Returns': 11.877385519279322, 'CAGR': 0.17350031146237654, 'Sharpe': 2.168397777292199, 'Sortino': 3.3934477358648563, 'Calmar': 2.293939827530151, 'Max Drawdown': -0.07563420338238847, 'Average Return': 0.0006465487622642554, 'Volatility': 0.07053096627334766, 'Tail Ratio': 1.1888834448753727, 'Gain to Pain Ratio': 0.4786643759346056, 'Value at Risk (VaR)': -0.006661751586426146, 'Conditional Value at Risk (CVaR)': -0.009612392861849414, 'Kelly Criterion': 0.1847951464565126, 'Risk of Ruin': 0.0, 'Win Rate': 0.5708592777085928}\n"
     ]
    },
    {
     "name": "stderr",
     "output_type": "stream",
     "text": [
      "/Users/thomasvaudescal/.virtualenvs/PolyHacks/lib/python3.11/site-packages/quantstats/stats.py:968: FutureWarning: In a future version of pandas all arguments of DataFrame.pivot will be keyword-only.\n",
      "  returns = returns.pivot('Year', 'Month', 'Returns').fillna(0)\n"
     ]
    },
    {
     "name": "stdout",
     "output_type": "stream",
     "text": [
      "Moved file InverseMetrics_backtesting_report.html to folder /Users/thomasvaudescal/Documents/Mes_documents/30_TradingClub/PolyFinance/PolyHacks/Codes/reports.\n"
     ]
    }
   ],
   "source": [
    "from perf_report import PerfReport\n",
    "\n",
    "benchmark_prices = os_helper.read_data(directory_name=\"benchmark\", file_name=\"SPY (1).csv\", index_col=0)\n",
    "benchmark_prices.sort_index(inplace=True)\n",
    "benchmark_prices.index.name = None\n",
    "benchmark_prices = benchmark_prices[[\"Adj Close\"]]\n",
    "benchmark_prices.columns = [\"SPY\"]\n",
    "\n",
    "print(benchmark_prices.head())\n",
    "\n",
    "strategy_returns = os_helper.read_data(directory_name=\"final data\", file_name=\"portfolio_returns.csv\", index_col=0)\n",
    "print(strategy_returns.head())\n",
    "strategy_returns.columns = [\"Portfolio_Returns\"]\n",
    "\n",
    "perf_report = PerfReport(port_returns=strategy_returns, bench_returns=benchmark_prices, strat_name=\"InverseMetrics\")\n",
    "print(perf_report.get_performance_indicators(rf=0.01, periods_per_year=252))\n",
    "perf_report.generate_html_report(rf=0.01, periods_per_year=252)"
   ],
   "metadata": {
    "collapsed": false,
    "ExecuteTime": {
     "end_time": "2023-11-06T12:29:01.558316Z",
     "start_time": "2023-11-06T12:28:49.190270Z"
    }
   },
   "id": "d9a9984082d44fab"
  },
  {
   "cell_type": "code",
   "execution_count": null,
   "outputs": [],
   "source": [],
   "metadata": {
    "collapsed": false
   },
   "id": "cb93879a661c649d"
  },
  {
   "cell_type": "code",
   "execution_count": null,
   "outputs": [],
   "source": [],
   "metadata": {
    "collapsed": false
   },
   "id": "7dafe34bde0f0497"
  },
  {
   "cell_type": "code",
   "execution_count": null,
   "outputs": [],
   "source": [],
   "metadata": {
    "collapsed": false
   },
   "id": "a8b095b24ea14bde"
  },
  {
   "cell_type": "code",
   "execution_count": null,
   "outputs": [],
   "source": [],
   "metadata": {
    "collapsed": false
   },
   "id": "e6008cb2a161d244"
  },
  {
   "cell_type": "code",
   "execution_count": null,
   "outputs": [],
   "source": [],
   "metadata": {
    "collapsed": false
   },
   "id": "5a5ce704ab05df2b"
  },
  {
   "cell_type": "code",
   "execution_count": null,
   "outputs": [],
   "source": [],
   "metadata": {
    "collapsed": false
   },
   "id": "ecb0d0ed1f09b4c2"
  },
  {
   "cell_type": "code",
   "execution_count": null,
   "outputs": [],
   "source": [],
   "metadata": {
    "collapsed": false
   },
   "id": "ec7dcc45ac15791d"
  },
  {
   "cell_type": "code",
   "execution_count": null,
   "outputs": [],
   "source": [],
   "metadata": {
    "collapsed": false
   },
   "id": "130668094d130be3"
  },
  {
   "cell_type": "code",
   "execution_count": null,
   "outputs": [],
   "source": [],
   "metadata": {
    "collapsed": false
   },
   "id": "7d12b953fff1a818"
  },
  {
   "cell_type": "code",
   "execution_count": null,
   "outputs": [],
   "source": [],
   "metadata": {
    "collapsed": false
   },
   "id": "7566fd87aadc1e0f"
  },
  {
   "cell_type": "code",
   "execution_count": null,
   "outputs": [],
   "source": [],
   "metadata": {
    "collapsed": false
   },
   "id": "a0e8c21d2f34f04"
  },
  {
   "cell_type": "code",
   "execution_count": null,
   "outputs": [],
   "source": [],
   "metadata": {
    "collapsed": false
   },
   "id": "58fae8da3c30da79"
  },
  {
   "cell_type": "code",
   "execution_count": null,
   "outputs": [],
   "source": [],
   "metadata": {
    "collapsed": false
   },
   "id": "ea762028243a8e43"
  }
 ],
 "metadata": {
  "kernelspec": {
   "display_name": "Python 3",
   "language": "python",
   "name": "python3"
  },
  "language_info": {
   "codemirror_mode": {
    "name": "ipython",
    "version": 2
   },
   "file_extension": ".py",
   "mimetype": "text/x-python",
   "name": "python",
   "nbconvert_exporter": "python",
   "pygments_lexer": "ipython2",
   "version": "2.7.6"
  }
 },
 "nbformat": 4,
 "nbformat_minor": 5
}
