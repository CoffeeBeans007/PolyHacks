{
 "cells": [
  {
   "cell_type": "code",
   "execution_count": 31,
   "metadata": {},
   "outputs": [],
   "source": [
    "import vectorbtpro as vbt\n",
    "import numpy as np\n",
    "import pandas as pd\n",
    "import numba\n",
    "from numba import njit\n",
    "import datetime\n",
    "import datetime\n",
    "import pandas as pd\n",
    "import numpy as np\n",
    "import statsmodels.api as sm\n",
    "import scipy.optimize as spop\n",
    "import matplotlib.pyplot as plt\n",
    "import yfinance as yf\n",
    "from datetime import datetime as daee\n",
    "from itertools import combinations\n",
    "import json\n",
    "import requests\n"
   ]
  },
  {
   "cell_type": "code",
   "execution_count": 32,
   "metadata": {},
   "outputs": [],
   "source": [
    "end = datetime.datetime.now()\n",
    "start = end - datetime.timedelta(days=365*10)"
   ]
  },
  {
   "cell_type": "code",
   "execution_count": 33,
   "metadata": {},
   "outputs": [
    {
     "data": {
      "application/vnd.jupyter.widget-view+json": {
       "model_id": "5add170b18e1444ab84513464f4725b0",
       "version_major": 2,
       "version_minor": 0
      },
      "text/plain": [
       "  0%|          | 0/2 [00:00<?, ?it/s]"
      ]
     },
     "metadata": {},
     "output_type": "display_data"
    },
    {
     "data": {
      "text/plain": [
       "(2515, 2)"
      ]
     },
     "metadata": {},
     "output_type": "display_data"
    }
   ],
   "source": [
    "data = vbt.YFData.pull(\n",
    "    [\"F\",\"GM\"],\n",
    "    start=start,\n",
    "    end=end,\n",
    ")   \n",
    "display(data.shape)"
   ]
  },
  {
   "cell_type": "code",
   "execution_count": 34,
   "metadata": {},
   "outputs": [],
   "source": [
    "open_price=data.get(\"Open\")[\"F\"]\n",
    "close_price=data.get(\"Close\")[\"F\"]"
   ]
  },
  {
   "cell_type": "code",
   "execution_count": 35,
   "metadata": {},
   "outputs": [],
   "source": [
    "def ma_strategy(close_price,window=5,lower_multiple=1,upper_multiple=4):\n",
    "    signal=np.full(close_price.shape[0],np.nan)\n",
    "    for x in range(len(close_price)):\n",
    "        if x >=window:\n",
    "            ma=np.mean(close_price[x-window:x])\n",
    "            if close_price[x]<ma*lower_multiple:\n",
    "                signal[x]=1\n",
    "            elif close_price[x]>ma*upper_multiple:\n",
    "                signal[x]=-1\n",
    "            else:\n",
    "                signal[x]=0\n",
    "    return signal"
   ]
  },
  {
   "cell_type": "code",
   "execution_count": 36,
   "metadata": {},
   "outputs": [],
   "source": [
    "indicator= vbt.IndicatorFactory(\n",
    "    class_name=\"Clubbed\",\n",
    "    short_name=\"Clu\",\n",
    "    input_names=[\"close_price\"],\n",
    "    param_names=[\"window\",\"lower_multiple\",\"upper_multiple\"],\n",
    "    output_names=[\"signal\"],\n",
    ").with_apply_func(\n",
    "    ma_strategy,\n",
    "    window=10,\n",
    "    lower_multiple=1,\n",
    "    upper_multiple=4,)"
   ]
  },
  {
   "cell_type": "code",
   "execution_count": 37,
   "metadata": {},
   "outputs": [
    {
     "data": {
      "text/plain": [
       "Date\n",
       "2013-11-07 00:00:00-05:00    NaN\n",
       "2013-11-08 00:00:00-05:00    NaN\n",
       "2013-11-11 00:00:00-05:00    NaN\n",
       "2013-11-12 00:00:00-05:00    NaN\n",
       "2013-11-13 00:00:00-05:00    NaN\n",
       "                            ... \n",
       "2023-10-30 00:00:00-04:00    1.0\n",
       "2023-10-31 00:00:00-04:00    1.0\n",
       "2023-11-01 00:00:00-04:00    1.0\n",
       "2023-11-02 00:00:00-04:00    1.0\n",
       "2023-11-03 00:00:00-04:00    1.0\n",
       "Name: F, Length: 2515, dtype: float64"
      ]
     },
     "execution_count": 37,
     "metadata": {},
     "output_type": "execute_result"
    }
   ],
   "source": [
    "results = indicator.run(close_price)\n",
    "results.signal"
   ]
  },
  {
   "cell_type": "code",
   "execution_count": 38,
   "metadata": {},
   "outputs": [],
   "source": [
    "entries= results.signal ==1\n",
    "exits =results.signal  ==-1"
   ]
  },
  {
   "cell_type": "code",
   "execution_count": 39,
   "metadata": {},
   "outputs": [],
   "source": [
    "portfolio=vbt.Portfolio.from_signals(close_price,entries,exits,fees=0.001,init_cash=100000) \n"
   ]
  },
  {
   "cell_type": "code",
   "execution_count": 40,
   "metadata": {},
   "outputs": [
    {
     "name": "stderr",
     "output_type": "stream",
     "text": [
      "c:\\Users\\jeanc\\Anaconda\\envs\\myenv\\lib\\site-packages\\vectorbtpro\\generic\\stats_builder.py:463: UserWarning:\n",
      "\n",
      "Metric 'sharpe_ratio' requires frequency to be set\n",
      "\n",
      "c:\\Users\\jeanc\\Anaconda\\envs\\myenv\\lib\\site-packages\\vectorbtpro\\generic\\stats_builder.py:463: UserWarning:\n",
      "\n",
      "Metric 'calmar_ratio' requires frequency to be set\n",
      "\n",
      "c:\\Users\\jeanc\\Anaconda\\envs\\myenv\\lib\\site-packages\\vectorbtpro\\generic\\stats_builder.py:463: UserWarning:\n",
      "\n",
      "Metric 'omega_ratio' requires frequency to be set\n",
      "\n",
      "c:\\Users\\jeanc\\Anaconda\\envs\\myenv\\lib\\site-packages\\vectorbtpro\\generic\\stats_builder.py:463: UserWarning:\n",
      "\n",
      "Metric 'sortino_ratio' requires frequency to be set\n",
      "\n",
      "c:\\Users\\jeanc\\Anaconda\\envs\\myenv\\lib\\site-packages\\vectorbtpro\\base\\wrapping.py:971: UserWarning:\n",
      "\n",
      "Couldn't parse the frequency of index. Pass it as `freq` or define it globally under `settings.wrapping`.\n",
      "\n"
     ]
    },
    {
     "data": {
      "text/plain": [
       "Start                         2013-11-07 00:00:00-05:00\n",
       "End                           2023-11-03 00:00:00-04:00\n",
       "Period                                             2515\n",
       "Start Value                                    100000.0\n",
       "Min Value                                  33359.847277\n",
       "Max Value                                 210614.945291\n",
       "End Value                                 100744.260102\n",
       "Total Return [%]                                0.74426\n",
       "Benchmark Return [%]                           3.221418\n",
       "Total Time Exposure [%]                       99.522863\n",
       "Max Gross Exposure [%]                            100.0\n",
       "Max Drawdown [%]                              68.787483\n",
       "Max Drawdown Duration                            1668.0\n",
       "Total Orders                                          1\n",
       "Total Fees Paid                                 99.9001\n",
       "Total Trades                                          1\n",
       "Win Rate [%]                                        NaN\n",
       "Best Trade [%]                                      NaN\n",
       "Worst Trade [%]                                     NaN\n",
       "Avg Winning Trade [%]                               NaN\n",
       "Avg Losing Trade [%]                                NaN\n",
       "Avg Winning Trade Duration                          NaN\n",
       "Avg Losing Trade Duration                           NaN\n",
       "Profit Factor                                       NaN\n",
       "Expectancy                                          NaN\n",
       "Name: F, dtype: object"
      ]
     },
     "execution_count": 40,
     "metadata": {},
     "output_type": "execute_result"
    }
   ],
   "source": [
    "portfolio.stats()"
   ]
  },
  {
   "cell_type": "code",
   "execution_count": 41,
   "metadata": {},
   "outputs": [
    {
     "ename": "ValueError",
     "evalue": "Mime type rendering requires nbformat>=4.2.0 but it is not installed",
     "output_type": "error",
     "traceback": [
      "\u001b[1;31m---------------------------------------------------------------------------\u001b[0m",
      "\u001b[1;31mValueError\u001b[0m                                Traceback (most recent call last)",
      "\u001b[1;32mc:\\Users\\jeanc\\Documents\\DatAAAAsss\\Codes\\VectortBT\\VectorBTTuto copy.ipynb Cell 11\u001b[0m line \u001b[0;36m<cell line: 1>\u001b[1;34m()\u001b[0m\n\u001b[1;32m----> <a href='vscode-notebook-cell:/c%3A/Users/jeanc/Documents/DatAAAAsss/Codes/VectortBT/VectorBTTuto%20copy.ipynb#X21sZmlsZQ%3D%3D?line=0'>1</a>\u001b[0m portfolio\u001b[39m.\u001b[39;49mvalue\u001b[39m.\u001b[39;49mvbt\u001b[39m.\u001b[39;49mplot()\u001b[39m.\u001b[39;49mshow()\n",
      "File \u001b[1;32mc:\\Users\\jeanc\\Anaconda\\envs\\myenv\\lib\\site-packages\\vectorbtpro\\utils\\figure.py:168\u001b[0m, in \u001b[0;36mFigureWidget.show\u001b[1;34m(self, *args, **kwargs)\u001b[0m\n\u001b[0;32m    166\u001b[0m \u001b[39mdef\u001b[39;00m \u001b[39mshow\u001b[39m(\u001b[39mself\u001b[39m, \u001b[39m*\u001b[39margs, \u001b[39m*\u001b[39m\u001b[39m*\u001b[39mkwargs) \u001b[39m-\u001b[39m\u001b[39m>\u001b[39m \u001b[39mNone\u001b[39;00m:\n\u001b[0;32m    167\u001b[0m     args, kwargs \u001b[39m=\u001b[39m \u001b[39mself\u001b[39m\u001b[39m.\u001b[39mresolve_show_args(\u001b[39m*\u001b[39margs, \u001b[39m*\u001b[39m\u001b[39m*\u001b[39mkwargs)\n\u001b[1;32m--> 168\u001b[0m     _FigureWidget\u001b[39m.\u001b[39mshow(\u001b[39mself\u001b[39m, \u001b[39m*\u001b[39margs, \u001b[39m*\u001b[39m\u001b[39m*\u001b[39mkwargs)\n",
      "File \u001b[1;32mc:\\Users\\jeanc\\Anaconda\\envs\\myenv\\lib\\site-packages\\plotly\\basedatatypes.py:3412\u001b[0m, in \u001b[0;36mBaseFigure.show\u001b[1;34m(self, *args, **kwargs)\u001b[0m\n\u001b[0;32m   3379\u001b[0m \u001b[39m\u001b[39m\u001b[39m\"\"\"\u001b[39;00m\n\u001b[0;32m   3380\u001b[0m \u001b[39mShow a figure using either the default renderer(s) or the renderer(s)\u001b[39;00m\n\u001b[0;32m   3381\u001b[0m \u001b[39mspecified by the renderer argument\u001b[39;00m\n\u001b[1;32m   (...)\u001b[0m\n\u001b[0;32m   3408\u001b[0m \u001b[39mNone\u001b[39;00m\n\u001b[0;32m   3409\u001b[0m \u001b[39m\"\"\"\u001b[39;00m\n\u001b[0;32m   3410\u001b[0m \u001b[39mimport\u001b[39;00m \u001b[39mplotly\u001b[39;00m\u001b[39m.\u001b[39;00m\u001b[39mio\u001b[39;00m \u001b[39mas\u001b[39;00m \u001b[39mpio\u001b[39;00m\n\u001b[1;32m-> 3412\u001b[0m \u001b[39mreturn\u001b[39;00m pio\u001b[39m.\u001b[39mshow(\u001b[39mself\u001b[39m, \u001b[39m*\u001b[39margs, \u001b[39m*\u001b[39m\u001b[39m*\u001b[39mkwargs)\n",
      "File \u001b[1;32mc:\\Users\\jeanc\\Anaconda\\envs\\myenv\\lib\\site-packages\\plotly\\io\\_renderers.py:396\u001b[0m, in \u001b[0;36mshow\u001b[1;34m(fig, renderer, validate, **kwargs)\u001b[0m\n\u001b[0;32m    391\u001b[0m         \u001b[39mraise\u001b[39;00m \u001b[39mValueError\u001b[39;00m(\n\u001b[0;32m    392\u001b[0m             \u001b[39m\"\u001b[39m\u001b[39mMime type rendering requires ipython but it is not installed\u001b[39m\u001b[39m\"\u001b[39m\n\u001b[0;32m    393\u001b[0m         )\n\u001b[0;32m    395\u001b[0m     \u001b[39mif\u001b[39;00m \u001b[39mnot\u001b[39;00m nbformat \u001b[39mor\u001b[39;00m Version(nbformat\u001b[39m.\u001b[39m__version__) \u001b[39m<\u001b[39m Version(\u001b[39m\"\u001b[39m\u001b[39m4.2.0\u001b[39m\u001b[39m\"\u001b[39m):\n\u001b[1;32m--> 396\u001b[0m         \u001b[39mraise\u001b[39;00m \u001b[39mValueError\u001b[39;00m(\n\u001b[0;32m    397\u001b[0m             \u001b[39m\"\u001b[39m\u001b[39mMime type rendering requires nbformat>=4.2.0 but it is not installed\u001b[39m\u001b[39m\"\u001b[39m\n\u001b[0;32m    398\u001b[0m         )\n\u001b[0;32m    400\u001b[0m     ipython_display\u001b[39m.\u001b[39mdisplay(bundle, raw\u001b[39m=\u001b[39m\u001b[39mTrue\u001b[39;00m)\n\u001b[0;32m    402\u001b[0m \u001b[39m# external renderers\u001b[39;00m\n",
      "\u001b[1;31mValueError\u001b[0m: Mime type rendering requires nbformat>=4.2.0 but it is not installed"
     ]
    }
   ],
   "source": [
    "portfolio.value.vbt.plot().show()"
   ]
  }
 ],
 "metadata": {
  "kernelspec": {
   "display_name": "myenv",
   "language": "python",
   "name": "python3"
  },
  "language_info": {
   "codemirror_mode": {
    "name": "ipython",
    "version": 3
   },
   "file_extension": ".py",
   "mimetype": "text/x-python",
   "name": "python",
   "nbconvert_exporter": "python",
   "pygments_lexer": "ipython3",
   "version": "3.10.9"
  }
 },
 "nbformat": 4,
 "nbformat_minor": 2
}
