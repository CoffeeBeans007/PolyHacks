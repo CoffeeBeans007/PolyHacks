{
 "cells": [
  {
   "cell_type": "code",
   "execution_count": 1,
   "metadata": {},
   "outputs": [],
   "source": [
    "import vectorbtpro as vbt\n",
    "import numpy as np\n",
    "import pandas as pd\n",
    "import numba\n",
    "from numba import njit\n",
    "import datetime\n",
    "import datetime\n",
    "import pandas as pd\n",
    "import numpy as np\n",
    "import statsmodels.api as sm\n",
    "import scipy.optimize as spop\n",
    "import matplotlib.pyplot as plt\n",
    "import yfinance as yf\n",
    "from datetime import datetime as daee\n",
    "from itertools import combinations\n",
    "import json\n",
    "import requests\n"
   ]
  },
  {
   "cell_type": "code",
   "execution_count": 14,
   "metadata": {},
   "outputs": [],
   "source": [
    "end = datetime.datetime.now()\n",
    "start = end - datetime.timedelta(days=365*10)\n",
    "vbt.settings.set_theme(\"dark\")"
   ]
  },
  {
   "cell_type": "code",
   "execution_count": 3,
   "metadata": {},
   "outputs": [
    {
     "data": {
      "application/vnd.jupyter.widget-view+json": {
       "model_id": "8c4be2e41772450993e64be3f85086ea",
       "version_major": 2,
       "version_minor": 0
      },
      "text/plain": [
       "  0%|          | 0/2 [00:00<?, ?it/s]"
      ]
     },
     "metadata": {},
     "output_type": "display_data"
    },
    {
     "data": {
      "text/plain": [
       "(2515, 2)"
      ]
     },
     "metadata": {},
     "output_type": "display_data"
    }
   ],
   "source": [
    "data = vbt.YFData.pull(\n",
    "    [\"F\",\"GM\"],\n",
    "    start=start,\n",
    "    end=end,\n",
    ")   \n",
    "display(data.shape)"
   ]
  },
  {
   "cell_type": "code",
   "execution_count": 4,
   "metadata": {},
   "outputs": [],
   "source": [
    "open_price=data.get(\"Open\")[\"F\"]\n",
    "close_price=data.get(\"Close\")[\"F\"]"
   ]
  },
  {
   "cell_type": "code",
   "execution_count": 5,
   "metadata": {},
   "outputs": [],
   "source": [
    "def ma_strategy(close_price,window=5,lower_multiple=1,upper_multiple=4):\n",
    "    signal=np.full(close_price.shape[0],np.nan)\n",
    "    for x in range(len(close_price)):\n",
    "        if x >=window:\n",
    "            ma=np.mean(close_price[x-window:x])\n",
    "            if close_price[x]<ma*lower_multiple:\n",
    "                signal[x]=1\n",
    "            elif close_price[x]>ma*upper_multiple:\n",
    "                signal[x]=-1\n",
    "            else:\n",
    "                signal[x]=0\n",
    "    return signal"
   ]
  },
  {
   "cell_type": "code",
   "execution_count": 6,
   "metadata": {},
   "outputs": [],
   "source": [
    "indicator= vbt.IndicatorFactory(\n",
    "    class_name=\"Clubbed\",\n",
    "    short_name=\"Clu\",\n",
    "    input_names=[\"close_price\"],\n",
    "    param_names=[\"window\",\"lower_multiple\",\"upper_multiple\"],\n",
    "    output_names=[\"signal\"],\n",
    ").with_apply_func(\n",
    "    ma_strategy,\n",
    "    window=10,\n",
    "    lower_multiple=1,\n",
    "    upper_multiple=4,)"
   ]
  },
  {
   "cell_type": "code",
   "execution_count": 7,
   "metadata": {},
   "outputs": [
    {
     "data": {
      "text/plain": [
       "Date\n",
       "2013-11-07 00:00:00-05:00    NaN\n",
       "2013-11-08 00:00:00-05:00    NaN\n",
       "2013-11-11 00:00:00-05:00    NaN\n",
       "2013-11-12 00:00:00-05:00    NaN\n",
       "2013-11-13 00:00:00-05:00    NaN\n",
       "                            ... \n",
       "2023-10-30 00:00:00-04:00    1.0\n",
       "2023-10-31 00:00:00-04:00    1.0\n",
       "2023-11-01 00:00:00-04:00    1.0\n",
       "2023-11-02 00:00:00-04:00    1.0\n",
       "2023-11-03 00:00:00-04:00    1.0\n",
       "Name: F, Length: 2515, dtype: float64"
      ]
     },
     "execution_count": 7,
     "metadata": {},
     "output_type": "execute_result"
    }
   ],
   "source": [
    "results = indicator.run(close_price)\n",
    "results.signal"
   ]
  },
  {
   "cell_type": "code",
   "execution_count": 8,
   "metadata": {},
   "outputs": [],
   "source": [
    "entries= results.signal ==1\n",
    "exits =results.signal  ==-1"
   ]
  },
  {
   "cell_type": "code",
   "execution_count": 9,
   "metadata": {},
   "outputs": [],
   "source": [
    "portfolio=vbt.Portfolio.from_signals(close_price,entries,exits,fees=0.001,init_cash=100000) \n"
   ]
  },
  {
   "cell_type": "code",
   "execution_count": 10,
   "metadata": {},
   "outputs": [
    {
     "name": "stderr",
     "output_type": "stream",
     "text": [
      "c:\\Users\\jeanc\\Anaconda\\envs\\myenv\\lib\\site-packages\\vectorbtpro\\generic\\stats_builder.py:463: UserWarning: Metric 'sharpe_ratio' requires frequency to be set\n",
      "  warnings.warn(warning_message)\n",
      "c:\\Users\\jeanc\\Anaconda\\envs\\myenv\\lib\\site-packages\\vectorbtpro\\generic\\stats_builder.py:463: UserWarning: Metric 'calmar_ratio' requires frequency to be set\n",
      "  warnings.warn(warning_message)\n",
      "c:\\Users\\jeanc\\Anaconda\\envs\\myenv\\lib\\site-packages\\vectorbtpro\\generic\\stats_builder.py:463: UserWarning: Metric 'omega_ratio' requires frequency to be set\n",
      "  warnings.warn(warning_message)\n",
      "c:\\Users\\jeanc\\Anaconda\\envs\\myenv\\lib\\site-packages\\vectorbtpro\\generic\\stats_builder.py:463: UserWarning: Metric 'sortino_ratio' requires frequency to be set\n",
      "  warnings.warn(warning_message)\n",
      "c:\\Users\\jeanc\\Anaconda\\envs\\myenv\\lib\\site-packages\\vectorbtpro\\base\\wrapping.py:971: UserWarning: Couldn't parse the frequency of index. Pass it as `freq` or define it globally under `settings.wrapping`.\n",
      "  return self.index_acc.arr_to_timedelta(*args, **kwargs)\n"
     ]
    },
    {
     "data": {
      "text/plain": [
       "Start                         2013-11-07 00:00:00-05:00\n",
       "End                           2023-11-03 00:00:00-04:00\n",
       "Period                                             2515\n",
       "Start Value                                    100000.0\n",
       "Min Value                                  33359.845002\n",
       "Max Value                                 210614.927095\n",
       "End Value                                 100744.260102\n",
       "Total Return [%]                                0.74426\n",
       "Benchmark Return [%]                           3.221437\n",
       "Total Time Exposure [%]                       99.522863\n",
       "Max Gross Exposure [%]                            100.0\n",
       "Max Drawdown [%]                              68.787488\n",
       "Max Drawdown Duration                            1668.0\n",
       "Total Orders                                          1\n",
       "Total Fees Paid                                 99.9001\n",
       "Total Trades                                          1\n",
       "Win Rate [%]                                        NaN\n",
       "Best Trade [%]                                      NaN\n",
       "Worst Trade [%]                                     NaN\n",
       "Avg Winning Trade [%]                               NaN\n",
       "Avg Losing Trade [%]                                NaN\n",
       "Avg Winning Trade Duration                          NaN\n",
       "Avg Losing Trade Duration                           NaN\n",
       "Profit Factor                                       NaN\n",
       "Expectancy                                          NaN\n",
       "Name: F, dtype: object"
      ]
     },
     "execution_count": 10,
     "metadata": {},
     "output_type": "execute_result"
    }
   ],
   "source": [
    "portfolio.stats()"
   ]
  },
  {
   "cell_type": "code",
   "execution_count": 15,
   "metadata": {},
   "outputs": [
    {
     "data": {
      "application/vnd.jupyter.widget-view+json": {
       "model_id": "4088900899a743a28fb9d29abd8612f0",
       "version_major": 2,
       "version_minor": 0
      },
      "text/plain": [
       "FigureWidget({\n",
       "    'data': [{'name': 'F',\n",
       "              'showlegend': True,\n",
       "              'type': 'scatter',\n",
       "              'uid': 'af28d31f-0aa8-4071-a67a-c0d8be512bbd',\n",
       "              'x': array([datetime.datetime(2013, 11, 7, 0, 0, tzinfo=<DstTzInfo 'America/New_York' EST-1 day, 19:00:00 STD>),\n",
       "                          datetime.datetime(2013, 11, 8, 0, 0, tzinfo=<DstTzInfo 'America/New_York' EST-1 day, 19:00:00 STD>),\n",
       "                          datetime.datetime(2013, 11, 11, 0, 0, tzinfo=<DstTzInfo 'America/New_York' EST-1 day, 19:00:00 STD>),\n",
       "                          ...,\n",
       "                          datetime.datetime(2023, 11, 1, 0, 0, tzinfo=<DstTzInfo 'America/New_York' EDT-1 day, 20:00:00 DST>),\n",
       "                          datetime.datetime(2023, 11, 2, 0, 0, tzinfo=<DstTzInfo 'America/New_York' EDT-1 day, 20:00:00 DST>),\n",
       "                          datetime.datetime(2023, 11, 3, 0, 0, tzinfo=<DstTzInfo 'America/New_York' EDT-1 day, 20:00:00 DST>)],\n",
       "                         dtype=object),\n",
       "              'y': array([100000.        , 100000.        , 100000.        , ...,  94543.14039485,\n",
       "                           96737.38555232, 100744.2601023 ])}],\n",
       "    'layout': {'height': 350,\n",
       "               'legend': {'orientation': 'h',\n",
       "                          'traceorder': 'normal',\n",
       "                          'x': 1,\n",
       "                          'xanchor': 'right',\n",
       "                          'y': 1.02,\n",
       "                          'yanchor': 'bottom'},\n",
       "               'margin': {'b': 30, 'l': 30, 'r': 30, 't': 30},\n",
       "               'template': '...',\n",
       "               'width': 700}\n",
       "})"
      ]
     },
     "execution_count": 15,
     "metadata": {},
     "output_type": "execute_result"
    }
   ],
   "source": [
    "portfolio.value.vbt.plot()"
   ]
  }
 ],
 "metadata": {
  "kernelspec": {
   "display_name": "myenv",
   "language": "python",
   "name": "python3"
  },
  "language_info": {
   "codemirror_mode": {
    "name": "ipython",
    "version": 3
   },
   "file_extension": ".py",
   "mimetype": "text/x-python",
   "name": "python",
   "nbconvert_exporter": "python",
   "pygments_lexer": "ipython3",
   "version": "3.10.9"
  }
 },
 "nbformat": 4,
 "nbformat_minor": 2
}
