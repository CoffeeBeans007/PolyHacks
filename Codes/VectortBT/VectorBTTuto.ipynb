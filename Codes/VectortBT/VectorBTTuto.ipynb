{
 "cells": [
  {
   "cell_type": "code",
   "execution_count": 13,
   "metadata": {},
   "outputs": [],
   "source": [
    "import vectorbtpro as vbt\n",
    "import numpy as np\n",
    "import pandas as pd\n",
    "import numba\n",
    "from numba import njit\n",
    "import datetime\n",
    "import datetime\n",
    "import pandas as pd\n",
    "import numpy as np\n",
    "import statsmodels.api as sm\n",
    "import scipy.optimize as spop\n",
    "import matplotlib.pyplot as plt\n",
    "import yfinance as yf\n",
    "from datetime import datetime as daee\n",
    "from itertools import combinations\n",
    "import json\n",
    "import requests"
   ]
  },
  {
   "cell_type": "code",
   "execution_count": 14,
   "metadata": {},
   "outputs": [],
   "source": [
    "end = datetime.datetime.now()\n",
    "start = end - datetime.timedelta(days=365*10)"
   ]
  },
  {
   "cell_type": "code",
   "execution_count": 15,
   "metadata": {},
   "outputs": [
    {
     "data": {
      "application/vnd.jupyter.widget-view+json": {
       "model_id": "73946a423dc44df6a6ec080497f9c6c3",
       "version_major": 2,
       "version_minor": 0
      },
      "text/plain": [
       "  0%|          | 0/2 [00:00<?, ?it/s]"
      ]
     },
     "metadata": {},
     "output_type": "display_data"
    },
    {
     "data": {
      "text/plain": [
       "(2515, 2)"
      ]
     },
     "metadata": {},
     "output_type": "display_data"
    }
   ],
   "source": [
    "data = vbt.YFData.pull(\n",
    "    [\"F\",\"GM\"],\n",
    "    start=start,\n",
    "    end=end,\n",
    ")   \n",
    "display(data.shape)"
   ]
  },
  {
   "cell_type": "code",
   "execution_count": 16,
   "metadata": {},
   "outputs": [],
   "source": [
    "open_price=data.get(\"Open\")[\"F\"]\n",
    "close_price=data.get(\"Close\")[\"F\"]"
   ]
  },
  {
   "cell_type": "code",
   "execution_count": 17,
   "metadata": {},
   "outputs": [],
   "source": [
    "def ma_strategy(close_price,window=5,lower_multiple=1,upper_multiple=4):\n",
    "    signal=np.full(close_price.shape[0],np.nan)\n",
    "    for x in range(len(close_price)):\n",
    "        if x >=window:\n",
    "            ma=np.mean(close_price[x-window:x])\n",
    "            if close_price[x]<ma*lower_multiple:\n",
    "                signal[x]=1\n",
    "            elif close_price[x]>ma*upper_multiple:\n",
    "                signal[x]=-1\n",
    "            else:\n",
    "                signal[x]=0\n",
    "    return signal"
   ]
  },
  {
   "cell_type": "code",
   "execution_count": 18,
   "metadata": {},
   "outputs": [],
   "source": [
    "indicator= vbt.IndicatorFactory(\n",
    "    class_name=\"Clubbed\",\n",
    "    short_name=\"Clu\",\n",
    "    input_names=[\"close_price\"],\n",
    "    param_names=[\"window\",\"lower_multiple\",\"upper_multiple\"],\n",
    "    output_names=[\"signal\"],\n",
    ").with_apply_func(\n",
    "    ma_strategy,\n",
    "    window=10,\n",
    "    lower_multiple=1,\n",
    "    upper_multiple=4,)"
   ]
  },
  {
   "cell_type": "code",
   "execution_count": 19,
   "metadata": {},
   "outputs": [
    {
     "data": {
      "text/plain": [
       "Date\n",
       "2013-10-31 00:00:00-04:00    NaN\n",
       "2013-11-01 00:00:00-04:00    NaN\n",
       "2013-11-04 00:00:00-05:00    NaN\n",
       "2013-11-05 00:00:00-05:00    NaN\n",
       "2013-11-06 00:00:00-05:00    NaN\n",
       "                            ... \n",
       "2023-10-23 00:00:00-04:00    1.0\n",
       "2023-10-24 00:00:00-04:00    1.0\n",
       "2023-10-25 00:00:00-04:00    1.0\n",
       "2023-10-26 00:00:00-04:00    1.0\n",
       "2023-10-27 00:00:00-04:00    1.0\n",
       "Name: F, Length: 2515, dtype: float64"
      ]
     },
     "execution_count": 19,
     "metadata": {},
     "output_type": "execute_result"
    }
   ],
   "source": [
    "results = indicator.run(close_price)\n",
    "results.signal"
   ]
  },
  {
   "cell_type": "code",
   "execution_count": 20,
   "metadata": {},
   "outputs": [],
   "source": [
    "entries= results.signal ==1\n",
    "exits =results.signal  ==-1"
   ]
  },
  {
   "cell_type": "code",
   "execution_count": 21,
   "metadata": {},
   "outputs": [],
   "source": [
    "portfolio=vbt.Portfolio.from_signals(close_price,entries,exits,fees=0.001,init_cash=100000) "
   ]
  },
  {
   "cell_type": "code",
   "execution_count": 22,
   "metadata": {},
   "outputs": [
    {
     "name": "stderr",
     "output_type": "stream",
     "text": [
      "c:\\Users\\jeanc\\Anaconda\\envs\\myenv\\lib\\site-packages\\vectorbtpro\\generic\\stats_builder.py:463: UserWarning: Metric 'sharpe_ratio' requires frequency to be set\n",
      "  warnings.warn(warning_message)\n",
      "c:\\Users\\jeanc\\Anaconda\\envs\\myenv\\lib\\site-packages\\vectorbtpro\\generic\\stats_builder.py:463: UserWarning: Metric 'calmar_ratio' requires frequency to be set\n",
      "  warnings.warn(warning_message)\n",
      "c:\\Users\\jeanc\\Anaconda\\envs\\myenv\\lib\\site-packages\\vectorbtpro\\generic\\stats_builder.py:463: UserWarning: Metric 'omega_ratio' requires frequency to be set\n",
      "  warnings.warn(warning_message)\n",
      "c:\\Users\\jeanc\\Anaconda\\envs\\myenv\\lib\\site-packages\\vectorbtpro\\generic\\stats_builder.py:463: UserWarning: Metric 'sortino_ratio' requires frequency to be set\n",
      "  warnings.warn(warning_message)\n",
      "c:\\Users\\jeanc\\Anaconda\\envs\\myenv\\lib\\site-packages\\vectorbtpro\\base\\wrapping.py:971: UserWarning: Couldn't parse the frequency of index. Pass it as `freq` or define it globally under `settings.wrapping`.\n",
      "  return self.index_acc.arr_to_timedelta(*args, **kwargs)\n"
     ]
    },
    {
     "data": {
      "text/plain": [
       "Start                         2013-10-31 00:00:00-04:00\n",
       "End                           2023-10-27 00:00:00-04:00\n",
       "Period                                             2515\n",
       "Start Value                                    100000.0\n",
       "Min Value                                  33498.264919\n",
       "Max Value                                 211488.823909\n",
       "End Value                                  93949.503583\n",
       "Total Return [%]                              -6.050496\n",
       "Benchmark Return [%]                          -7.275667\n",
       "Total Time Exposure [%]                       99.483101\n",
       "Max Gross Exposure [%]                            100.0\n",
       "Max Drawdown [%]                              68.787485\n",
       "Max Drawdown Duration                            1668.0\n",
       "Total Orders                                          1\n",
       "Total Fees Paid                                 99.9001\n",
       "Total Trades                                          1\n",
       "Win Rate [%]                                        NaN\n",
       "Best Trade [%]                                      NaN\n",
       "Worst Trade [%]                                     NaN\n",
       "Avg Winning Trade [%]                               NaN\n",
       "Avg Losing Trade [%]                                NaN\n",
       "Avg Winning Trade Duration                          NaN\n",
       "Avg Losing Trade Duration                           NaN\n",
       "Profit Factor                                       NaN\n",
       "Expectancy                                          NaN\n",
       "Name: F, dtype: object"
      ]
     },
     "execution_count": 22,
     "metadata": {},
     "output_type": "execute_result"
    }
   ],
   "source": [
    "portfolio.stats()"
   ]
  },
  {
   "cell_type": "code",
   "execution_count": 84,
   "metadata": {},
   "outputs": [],
   "source": [
    "\n",
    "def cointegrationCacl(data,stock1=0,stock2=1,t_threshold=1.5,window=12):\n",
    "    signals=np.full(data.shape[0],np.nan)\n",
    "    \n",
    "    def unit_root(b):\n",
    "            a=np.average(data[stock2][t-window:t]-b*data[stock1][t-window:t])\n",
    "            fair_value=a+b*data[stock1][t-window:t]\n",
    "            diff=np.array(fair_value-data[stock2][t-window:t])\n",
    "            diff_diff=diff[1:]-diff[:-1]\n",
    "            \n",
    "            reg=sm.OLS(diff_diff, diff[:-1])\n",
    "            res=reg.fit()\n",
    "            \n",
    "            return (res.params[0]/res.bse[0])\n",
    "    x=0\n",
    "    for t in range(window,len(data)):\n",
    "        x+=1\n",
    "\n",
    "        print(data.shape)\n",
    "        \n",
    "        res1=spop.minimize(unit_root,data[t][stock2]/data[t][stock1],method='Nelder-Mead')\n",
    "        t_opt=res1.fun\n",
    "        b_opt=float(res1.x)\n",
    "        a_opt=np.average(data[stock2][t-window:t]-b_opt*data[stock1][t-window:t])\n",
    "        fair_value=a_opt+b_opt*data[stock1][t]\n",
    "\n",
    "        if t==window:\n",
    "            old_signal=0\n",
    "        if t_opt > t_threshold:\n",
    "            signal=0\n",
    "        else:\n",
    "            signal=np.sign(fair_value-data[stock2][t])\n",
    "\n",
    "        t_s=np.append(t_s,t_opt)\n",
    "\n",
    "        \n",
    "        \n",
    "        \n",
    "        tradeloglist=[\"no trading\",\"long position on \"+ stock2+\" and short position on \"+stock1,\"long position on \"+ stock1 +\" and short position on \"+stock2]\n",
    "        if signal==0:\n",
    "            signals[t]=0\n",
    "        elif signal==1:\n",
    "            signals[t]=1\n",
    "        else:\n",
    "            signals[t]=-1\n",
    "        tradingpair=str(data.index[t])\n",
    "        old_signal=signal\n",
    "    return signals\n"
   ]
  },
  {
   "cell_type": "code",
   "execution_count": 85,
   "metadata": {},
   "outputs": [
    {
     "name": "stdout",
     "output_type": "stream",
     "text": [
      "symbol                             F         GM\n",
      "Date                                           \n",
      "2013-10-31 00:00:00-04:00  10.854520  28.384647\n",
      "2013-11-01 00:00:00-04:00  10.823129  28.377012\n",
      "2013-11-04 00:00:00-05:00  10.653624  28.628949\n",
      "2013-11-05 00:00:00-05:00  10.603401  28.460985\n",
      "2013-11-06 00:00:00-05:00  10.772904  28.430458\n",
      "...                              ...        ...\n",
      "2023-10-23 00:00:00-04:00  11.550000  29.330000\n",
      "2023-10-24 00:00:00-04:00  11.500000  28.389999\n",
      "2023-10-25 00:00:00-04:00  11.350000  28.549999\n",
      "2023-10-26 00:00:00-04:00  11.910000  29.809999\n",
      "2023-10-27 00:00:00-04:00  10.930000  28.490000\n",
      "\n",
      "[2515 rows x 2 columns]\n"
     ]
    }
   ],
   "source": [
    "open_price=data.get(\"Open\")\n",
    "close_price=data.get(\"Close\")\n",
    "print(open_price)"
   ]
  },
  {
   "cell_type": "code",
   "execution_count": 86,
   "metadata": {},
   "outputs": [],
   "source": [
    "indicator= vbt.IndicatorFactory(\n",
    "    class_name=\"Cointegration\",\n",
    "    short_name=\"Coint\",\n",
    "    input_names=[\"close_price\"],\n",
    "    param_names=[\"window\",\"t_treshold\"],\n",
    "    output_names=[\"signal\"],\n",
    ").with_apply_func(\n",
    "    cointegrationCacl,\n",
    "    window=10,\n",
    "    t_treshold=1.5,\n",
    "    )"
   ]
  },
  {
   "cell_type": "code",
   "execution_count": 87,
   "metadata": {},
   "outputs": [
    {
     "data": {
      "text/html": [
       "<div>\n",
       "<style scoped>\n",
       "    .dataframe tbody tr th:only-of-type {\n",
       "        vertical-align: middle;\n",
       "    }\n",
       "\n",
       "    .dataframe tbody tr th {\n",
       "        vertical-align: top;\n",
       "    }\n",
       "\n",
       "    .dataframe thead th {\n",
       "        text-align: right;\n",
       "    }\n",
       "</style>\n",
       "<table border=\"1\" class=\"dataframe\">\n",
       "  <thead>\n",
       "    <tr style=\"text-align: right;\">\n",
       "      <th>symbol</th>\n",
       "      <th>F</th>\n",
       "      <th>GM</th>\n",
       "    </tr>\n",
       "    <tr>\n",
       "      <th>Date</th>\n",
       "      <th></th>\n",
       "      <th></th>\n",
       "    </tr>\n",
       "  </thead>\n",
       "  <tbody>\n",
       "    <tr>\n",
       "      <th>2013-10-31 00:00:00-04:00</th>\n",
       "      <td>10.741517</td>\n",
       "      <td>28.209057</td>\n",
       "    </tr>\n",
       "    <tr>\n",
       "      <th>2013-11-01 00:00:00-04:00</th>\n",
       "      <td>10.603402</td>\n",
       "      <td>28.544970</td>\n",
       "    </tr>\n",
       "    <tr>\n",
       "      <th>2013-11-04 00:00:00-05:00</th>\n",
       "      <td>10.672459</td>\n",
       "      <td>28.606047</td>\n",
       "    </tr>\n",
       "    <tr>\n",
       "      <th>2013-11-05 00:00:00-05:00</th>\n",
       "      <td>10.728960</td>\n",
       "      <td>28.315933</td>\n",
       "    </tr>\n",
       "    <tr>\n",
       "      <th>2013-11-06 00:00:00-05:00</th>\n",
       "      <td>10.615956</td>\n",
       "      <td>27.934221</td>\n",
       "    </tr>\n",
       "    <tr>\n",
       "      <th>...</th>\n",
       "      <td>...</td>\n",
       "      <td>...</td>\n",
       "    </tr>\n",
       "    <tr>\n",
       "      <th>2023-10-23 00:00:00-04:00</th>\n",
       "      <td>11.480000</td>\n",
       "      <td>29.219999</td>\n",
       "    </tr>\n",
       "    <tr>\n",
       "      <th>2023-10-24 00:00:00-04:00</th>\n",
       "      <td>11.390000</td>\n",
       "      <td>28.559999</td>\n",
       "    </tr>\n",
       "    <tr>\n",
       "      <th>2023-10-25 00:00:00-04:00</th>\n",
       "      <td>11.540000</td>\n",
       "      <td>29.010000</td>\n",
       "    </tr>\n",
       "    <tr>\n",
       "      <th>2023-10-26 00:00:00-04:00</th>\n",
       "      <td>11.350000</td>\n",
       "      <td>28.549999</td>\n",
       "    </tr>\n",
       "    <tr>\n",
       "      <th>2023-10-27 00:00:00-04:00</th>\n",
       "      <td>9.960000</td>\n",
       "      <td>27.219999</td>\n",
       "    </tr>\n",
       "  </tbody>\n",
       "</table>\n",
       "<p>2515 rows × 2 columns</p>\n",
       "</div>"
      ],
      "text/plain": [
       "symbol                             F         GM\n",
       "Date                                           \n",
       "2013-10-31 00:00:00-04:00  10.741517  28.209057\n",
       "2013-11-01 00:00:00-04:00  10.603402  28.544970\n",
       "2013-11-04 00:00:00-05:00  10.672459  28.606047\n",
       "2013-11-05 00:00:00-05:00  10.728960  28.315933\n",
       "2013-11-06 00:00:00-05:00  10.615956  27.934221\n",
       "...                              ...        ...\n",
       "2023-10-23 00:00:00-04:00  11.480000  29.219999\n",
       "2023-10-24 00:00:00-04:00  11.390000  28.559999\n",
       "2023-10-25 00:00:00-04:00  11.540000  29.010000\n",
       "2023-10-26 00:00:00-04:00  11.350000  28.549999\n",
       "2023-10-27 00:00:00-04:00   9.960000  27.219999\n",
       "\n",
       "[2515 rows x 2 columns]"
      ]
     },
     "metadata": {},
     "output_type": "display_data"
    },
    {
     "name": "stdout",
     "output_type": "stream",
     "text": [
      "11.151007652282715\n"
     ]
    },
    {
     "name": "stderr",
     "output_type": "stream",
     "text": [
      "C:\\Users\\jeanc\\AppData\\Local\\Temp\\ipykernel_29560\\1603826694.py:2: FutureWarning: Series.__getitem__ treating keys as positions is deprecated. In a future version, integer keys will always be treated as labels (consistent with DataFrame behavior). To access a value by position, use `ser.iloc[pos]`\n",
      "  print(close_price[\"F\"][200])\n"
     ]
    }
   ],
   "source": [
    "display(close_price)\n",
    "print(close_price[\"F\"][200])"
   ]
  },
  {
   "cell_type": "code",
   "execution_count": 88,
   "metadata": {},
   "outputs": [
    {
     "name": "stdout",
     "output_type": "stream",
     "text": [
      "(2515, 2)\n"
     ]
    },
    {
     "ename": "IndexError",
     "evalue": "only integers, slices (`:`), ellipsis (`...`), numpy.newaxis (`None`) and integer or boolean arrays are valid indices",
     "output_type": "error",
     "traceback": [
      "\u001b[1;31m---------------------------------------------------------------------------\u001b[0m",
      "\u001b[1;31mIndexError\u001b[0m                                Traceback (most recent call last)",
      "\u001b[1;32md:\\CDT-HFT\\TradingClubHFT\\Codes\\VectortBT\\VectorBTTuto.ipynb Cell 15\u001b[0m line \u001b[0;36m<cell line: 1>\u001b[1;34m()\u001b[0m\n\u001b[1;32m----> <a href='vscode-notebook-cell:/d%3A/CDT-HFT/TradingClubHFT/Codes/VectortBT/VectorBTTuto.ipynb#X20sZmlsZQ%3D%3D?line=0'>1</a>\u001b[0m results \u001b[39m=\u001b[39m indicator\u001b[39m.\u001b[39;49mrun(close_price)\n",
      "File \u001b[1;32mc:\\Users\\jeanc\\Anaconda\\envs\\myenv\\lib\\site-packages\\vectorbtpro\\indicators\\factory.py:13\u001b[0m, in \u001b[0;36mrun\u001b[1;34m(cls, close_price, window, t_treshold, short_name, hide_params, hide_default, **kwargs)\u001b[0m\n\u001b[0;32m      1\u001b[0m \u001b[39m# Copyright (c) 2021-2023 Oleg Polakow. All rights reserved.\u001b[39;00m\n\u001b[0;32m      3\u001b[0m \u001b[39m\"\"\"Factory for building indicators.\u001b[39;00m\n\u001b[0;32m      4\u001b[0m \n\u001b[0;32m      5\u001b[0m \u001b[39mRun for the examples below:\u001b[39;00m\n\u001b[0;32m      6\u001b[0m \n\u001b[0;32m      7\u001b[0m \u001b[39m```pycon\u001b[39;00m\n\u001b[0;32m      8\u001b[0m \u001b[39m>>> import vectorbtpro as vbt\u001b[39;00m\n\u001b[0;32m      9\u001b[0m \u001b[39m>>> import numpy as np\u001b[39;00m\n\u001b[0;32m     10\u001b[0m \u001b[39m>>> import pandas as pd\u001b[39;00m\n\u001b[0;32m     11\u001b[0m \u001b[39m>>> from numba import njit\u001b[39;00m\n\u001b[0;32m     12\u001b[0m \u001b[39m>>> from datetime import datetime\u001b[39;00m\n\u001b[1;32m---> 13\u001b[0m \n\u001b[0;32m     14\u001b[0m \u001b[39m>>> price = pd.DataFrame({\u001b[39;00m\n\u001b[0;32m     15\u001b[0m \u001b[39m...     'a': [1, 2, 3, 4, 5],\u001b[39;00m\n\u001b[0;32m     16\u001b[0m \u001b[39m...     'b': [5, 4, 3, 2, 1]\u001b[39;00m\n\u001b[0;32m     17\u001b[0m \u001b[39m... }, index=pd.Index([\u001b[39;00m\n\u001b[0;32m     18\u001b[0m \u001b[39m...     datetime(2020, 1, 1),\u001b[39;00m\n\u001b[0;32m     19\u001b[0m \u001b[39m...     datetime(2020, 1, 2),\u001b[39;00m\n\u001b[0;32m     20\u001b[0m \u001b[39m...     datetime(2020, 1, 3),\u001b[39;00m\n\u001b[0;32m     21\u001b[0m \u001b[39m...     datetime(2020, 1, 4),\u001b[39;00m\n\u001b[0;32m     22\u001b[0m \u001b[39m...     datetime(2020, 1, 5),\u001b[39;00m\n\u001b[0;32m     23\u001b[0m \u001b[39m... ])).astype(float)\u001b[39;00m\n\u001b[0;32m     24\u001b[0m \u001b[39m>>> price\u001b[39;00m\n\u001b[0;32m     25\u001b[0m \u001b[39m            a    b\u001b[39;00m\n\u001b[0;32m     26\u001b[0m \u001b[39m2020-01-01  1.0  5.0\u001b[39;00m\n\u001b[0;32m     27\u001b[0m \u001b[39m2020-01-02  2.0  4.0\u001b[39;00m\n\u001b[0;32m     28\u001b[0m \u001b[39m2020-01-03  3.0  3.0\u001b[39;00m\n\u001b[0;32m     29\u001b[0m \u001b[39m2020-01-04  4.0  2.0\u001b[39;00m\n\u001b[0;32m     30\u001b[0m \u001b[39m2020-01-05  5.0  1.0\u001b[39;00m\n\u001b[0;32m     31\u001b[0m \u001b[39m```\"\"\"\u001b[39;00m\n\u001b[0;32m     33\u001b[0m \u001b[39mimport\u001b[39;00m \u001b[39mfunctools\u001b[39;00m\n\u001b[0;32m     34\u001b[0m \u001b[39mimport\u001b[39;00m \u001b[39minspect\u001b[39;00m\n",
      "File \u001b[1;32mc:\\Users\\jeanc\\Anaconda\\envs\\myenv\\lib\\site-packages\\vectorbtpro\\indicators\\factory.py:2088\u001b[0m, in \u001b[0;36mIndicatorFactory.with_custom_func.<locals>._run\u001b[1;34m(cls, *args, **kwargs)\u001b[0m\n\u001b[0;32m   2085\u001b[0m         params[k] \u001b[39m=\u001b[39m v\u001b[39m.\u001b[39mvalue\n\u001b[0;32m   2087\u001b[0m \u001b[39m# Run the pipeline\u001b[39;00m\n\u001b[1;32m-> 2088\u001b[0m results \u001b[39m=\u001b[39m Indicator\u001b[39m.\u001b[39mrun_pipeline(\n\u001b[0;32m   2089\u001b[0m     \u001b[39mlen\u001b[39m(output_names),  \u001b[39m# number of returned outputs\u001b[39;00m\n\u001b[0;32m   2090\u001b[0m     custom_func,\n\u001b[0;32m   2091\u001b[0m     \u001b[39m*\u001b[39margs,\n\u001b[0;32m   2092\u001b[0m     require_input_shape\u001b[39m=\u001b[39mrequire_input_shape,\n\u001b[0;32m   2093\u001b[0m     inputs\u001b[39m=\u001b[39minputs,\n\u001b[0;32m   2094\u001b[0m     in_outputs\u001b[39m=\u001b[39min_outputs,\n\u001b[0;32m   2095\u001b[0m     params\u001b[39m=\u001b[39mparams,\n\u001b[0;32m   2096\u001b[0m     level_names\u001b[39m=\u001b[39mlevel_names,\n\u001b[0;32m   2097\u001b[0m     hide_levels\u001b[39m=\u001b[39mhide_levels,\n\u001b[0;32m   2098\u001b[0m     param_settings\u001b[39m=\u001b[39m_param_settings,\n\u001b[0;32m   2099\u001b[0m     in_output_settings\u001b[39m=\u001b[39m_in_output_settings,\n\u001b[0;32m   2100\u001b[0m     \u001b[39m*\u001b[39m\u001b[39m*\u001b[39mmerge_dicts(pipeline_kwargs, kwargs),\n\u001b[0;32m   2101\u001b[0m )\n\u001b[0;32m   2103\u001b[0m \u001b[39m# Return the raw result if any of the flags are set\u001b[39;00m\n\u001b[0;32m   2104\u001b[0m \u001b[39mif\u001b[39;00m kwargs\u001b[39m.\u001b[39mget(\u001b[39m\"\u001b[39m\u001b[39mreturn_raw\u001b[39m\u001b[39m\"\u001b[39m, \u001b[39mFalse\u001b[39;00m) \u001b[39mor\u001b[39;00m kwargs\u001b[39m.\u001b[39mget(\u001b[39m\"\u001b[39m\u001b[39mreturn_cache\u001b[39m\u001b[39m\"\u001b[39m, \u001b[39mFalse\u001b[39;00m):\n",
      "File \u001b[1;32mc:\\Users\\jeanc\\Anaconda\\envs\\myenv\\lib\\site-packages\\vectorbtpro\\indicators\\factory.py:782\u001b[0m, in \u001b[0;36mIndicatorBase.run_pipeline\u001b[1;34m(cls, num_ret_outputs, custom_func, require_input_shape, input_shape, input_index, input_columns, inputs, in_outputs, in_output_settings, broadcast_named_args, broadcast_kwargs, template_context, params, param_product, random_subset, param_settings, run_unique, silence_warnings, per_column, keep_pd, to_2d, pass_packed, pass_input_shape, pass_wrapper, level_names, hide_levels, build_col_kwargs, return_raw, use_raw, wrapper_kwargs, seed, *args, **kwargs)\u001b[0m\n\u001b[0;32m    780\u001b[0m     func_kwargs \u001b[39m=\u001b[39m {}\n\u001b[0;32m    781\u001b[0m \u001b[39mif\u001b[39;00m pass_packed:\n\u001b[1;32m--> 782\u001b[0m     outputs \u001b[39m=\u001b[39m custom_func(\n\u001b[0;32m    783\u001b[0m         \u001b[39mtuple\u001b[39m(input_list_ready),\n\u001b[0;32m    784\u001b[0m         \u001b[39mtuple\u001b[39m(in_output_list_ready),\n\u001b[0;32m    785\u001b[0m         \u001b[39mtuple\u001b[39m(param_list_ready),\n\u001b[0;32m    786\u001b[0m         \u001b[39m*\u001b[39mfunc_args,\n\u001b[0;32m    787\u001b[0m         \u001b[39m*\u001b[39m\u001b[39m*\u001b[39mfunc_kwargs,\n\u001b[0;32m    788\u001b[0m     )\n\u001b[0;32m    789\u001b[0m \u001b[39melse\u001b[39;00m:\n\u001b[0;32m    790\u001b[0m     outputs \u001b[39m=\u001b[39m custom_func(\n\u001b[0;32m    791\u001b[0m         \u001b[39m*\u001b[39minput_list_ready, \u001b[39m*\u001b[39min_output_list_ready, \u001b[39m*\u001b[39mparam_list_ready, \u001b[39m*\u001b[39mfunc_args, \u001b[39m*\u001b[39m\u001b[39m*\u001b[39mfunc_kwargs\n\u001b[0;32m    792\u001b[0m     )\n",
      "File \u001b[1;32mc:\\Users\\jeanc\\Anaconda\\envs\\myenv\\lib\\site-packages\\vectorbtpro\\indicators\\factory.py:2898\u001b[0m, in \u001b[0;36mIndicatorFactory.with_apply_func.<locals>.custom_func\u001b[1;34m(input_tuple, in_output_tuple, param_tuple, input_shape, per_column, split_columns, skipna, return_cache, use_cache, jitted_loop, jitted_warmup, execute_kwargs, *_args, **_kwargs)\u001b[0m\n\u001b[0;32m   2881\u001b[0m         _params \u001b[39m=\u001b[39m _param_tuple\n\u001b[0;32m   2882\u001b[0m     funcs_args\u001b[39m.\u001b[39mappend(\n\u001b[0;32m   2883\u001b[0m         (\n\u001b[0;32m   2884\u001b[0m             apply_func,\n\u001b[1;32m   (...)\u001b[0m\n\u001b[0;32m   2896\u001b[0m         )\n\u001b[0;32m   2897\u001b[0m     )\n\u001b[1;32m-> 2898\u001b[0m \u001b[39mreturn\u001b[39;00m combining\u001b[39m.\u001b[39;49mapply_and_concat_each(\n\u001b[0;32m   2899\u001b[0m     funcs_args,\n\u001b[0;32m   2900\u001b[0m     n_outputs\u001b[39m=\u001b[39;49mnum_ret_outputs,\n\u001b[0;32m   2901\u001b[0m     execute_kwargs\u001b[39m=\u001b[39;49mexecute_kwargs,\n\u001b[0;32m   2902\u001b[0m )\n",
      "File \u001b[1;32mc:\\Users\\jeanc\\Anaconda\\envs\\myenv\\lib\\site-packages\\vectorbtpro\\base\\combining.py:141\u001b[0m, in \u001b[0;36mapply_and_concat_each\u001b[1;34m(funcs_args, n_outputs, execute_kwargs)\u001b[0m\n\u001b[0;32m    138\u001b[0m \u001b[39mif\u001b[39;00m execute_kwargs \u001b[39mis\u001b[39;00m \u001b[39mNone\u001b[39;00m:\n\u001b[0;32m    139\u001b[0m     execute_kwargs \u001b[39m=\u001b[39m {}\n\u001b[1;32m--> 141\u001b[0m out \u001b[39m=\u001b[39m execute(funcs_args, \u001b[39m*\u001b[39m\u001b[39m*\u001b[39mexecute_kwargs)\n\u001b[0;32m    142\u001b[0m \u001b[39mif\u001b[39;00m n_outputs \u001b[39mis\u001b[39;00m \u001b[39mNone\u001b[39;00m:\n\u001b[0;32m    143\u001b[0m     \u001b[39mif\u001b[39;00m out[\u001b[39m0\u001b[39m] \u001b[39mis\u001b[39;00m \u001b[39mNone\u001b[39;00m:\n",
      "File \u001b[1;32mc:\\Users\\jeanc\\Anaconda\\envs\\myenv\\lib\\site-packages\\vectorbtpro\\utils\\execution.py:942\u001b[0m, in \u001b[0;36mexecute\u001b[1;34m(funcs_args, engine, n_calls, n_chunks, min_size, chunk_len, chunk_meta, distribute, warmup, in_chunk_order, pre_execute_func, pre_execute_kwargs, pre_chunk_func, pre_chunk_kwargs, post_chunk_func, post_chunk_kwargs, post_execute_func, post_execute_kwargs, post_execute_on_sorted, show_progress, progress_desc, pbar_kwargs, template_context, engine_kwargs, **kwargs)\u001b[0m\n\u001b[0;32m    940\u001b[0m     \u001b[39mif\u001b[39;00m \u001b[39m\"\u001b[39m\u001b[39mn_chunks\u001b[39m\u001b[39m\"\u001b[39m \u001b[39mnot\u001b[39;00m \u001b[39min\u001b[39;00m template_context:\n\u001b[0;32m    941\u001b[0m         template_context[\u001b[39m\"\u001b[39m\u001b[39mn_chunks\u001b[39m\u001b[39m\"\u001b[39m] \u001b[39m=\u001b[39m \u001b[39m1\u001b[39m\n\u001b[1;32m--> 942\u001b[0m     \u001b[39mreturn\u001b[39;00m _call_post_execute_func(_execute(funcs_args, n_calls))\n\u001b[0;32m    944\u001b[0m \u001b[39mif\u001b[39;00m chunk_meta \u001b[39mis\u001b[39;00m \u001b[39mNone\u001b[39;00m:\n\u001b[0;32m    945\u001b[0m     \u001b[39m# Generate chunk metadata\u001b[39;00m\n\u001b[0;32m    946\u001b[0m     \u001b[39mfrom\u001b[39;00m \u001b[39mvectorbtpro\u001b[39;00m\u001b[39m.\u001b[39;00m\u001b[39mutils\u001b[39;00m\u001b[39m.\u001b[39;00m\u001b[39mchunking\u001b[39;00m \u001b[39mimport\u001b[39;00m yield_chunk_meta\n",
      "File \u001b[1;32mc:\\Users\\jeanc\\Anaconda\\envs\\myenv\\lib\\site-packages\\vectorbtpro\\utils\\execution.py:906\u001b[0m, in \u001b[0;36mexecute.<locals>._execute\u001b[1;34m(funcs_args, n_calls)\u001b[0m\n\u001b[0;32m    904\u001b[0m \u001b[39mdef\u001b[39;00m \u001b[39m_execute\u001b[39m(funcs_args, n_calls):\n\u001b[0;32m    905\u001b[0m     \u001b[39mif\u001b[39;00m \u001b[39misinstance\u001b[39m(engine, ExecutionEngine):\n\u001b[1;32m--> 906\u001b[0m         \u001b[39mreturn\u001b[39;00m engine\u001b[39m.\u001b[39;49mexecute(funcs_args, n_calls\u001b[39m=\u001b[39;49mn_calls)\n\u001b[0;32m    907\u001b[0m     \u001b[39mif\u001b[39;00m callable(engine):\n\u001b[0;32m    908\u001b[0m         \u001b[39mif\u001b[39;00m \u001b[39m\"\u001b[39m\u001b[39mn_calls\u001b[39m\u001b[39m\"\u001b[39m \u001b[39min\u001b[39;00m func_arg_names:\n",
      "File \u001b[1;32mc:\\Users\\jeanc\\Anaconda\\envs\\myenv\\lib\\site-packages\\vectorbtpro\\utils\\execution.py:141\u001b[0m, in \u001b[0;36mSerialEngine.execute\u001b[1;34m(self, funcs_args, n_calls)\u001b[0m\n\u001b[0;32m    139\u001b[0m \u001b[39mif\u001b[39;00m \u001b[39mself\u001b[39m\u001b[39m.\u001b[39mprogress_desc \u001b[39mis\u001b[39;00m \u001b[39mnot\u001b[39;00m \u001b[39mNone\u001b[39;00m:\n\u001b[0;32m    140\u001b[0m     pbar\u001b[39m.\u001b[39mset_description(\u001b[39mstr\u001b[39m(\u001b[39mself\u001b[39m\u001b[39m.\u001b[39mprogress_desc[i]))\n\u001b[1;32m--> 141\u001b[0m results\u001b[39m.\u001b[39mappend(func(\u001b[39m*\u001b[39margs, \u001b[39m*\u001b[39m\u001b[39m*\u001b[39mkwargs))\n\u001b[0;32m    142\u001b[0m pbar\u001b[39m.\u001b[39mupdate(\u001b[39m1\u001b[39m)\n\u001b[0;32m    143\u001b[0m \u001b[39mif\u001b[39;00m \u001b[39misinstance\u001b[39m(\u001b[39mself\u001b[39m\u001b[39m.\u001b[39mclear_cache, \u001b[39mbool\u001b[39m):\n",
      "\u001b[1;32md:\\CDT-HFT\\TradingClubHFT\\Codes\\VectortBT\\VectorBTTuto.ipynb Cell 15\u001b[0m line \u001b[0;36mcointegrationCacl\u001b[1;34m(data, stock1, stock2, t_threshold, window)\u001b[0m\n\u001b[0;32m     <a href='vscode-notebook-cell:/d%3A/CDT-HFT/TradingClubHFT/Codes/VectortBT/VectorBTTuto.ipynb#X20sZmlsZQ%3D%3D?line=15'>16</a>\u001b[0m x\u001b[39m+\u001b[39m\u001b[39m=\u001b[39m\u001b[39m1\u001b[39m\n\u001b[0;32m     <a href='vscode-notebook-cell:/d%3A/CDT-HFT/TradingClubHFT/Codes/VectortBT/VectorBTTuto.ipynb#X20sZmlsZQ%3D%3D?line=17'>18</a>\u001b[0m \u001b[39mprint\u001b[39m(data\u001b[39m.\u001b[39mshape)\n\u001b[1;32m---> <a href='vscode-notebook-cell:/d%3A/CDT-HFT/TradingClubHFT/Codes/VectortBT/VectorBTTuto.ipynb#X20sZmlsZQ%3D%3D?line=19'>20</a>\u001b[0m res1\u001b[39m=\u001b[39mspop\u001b[39m.\u001b[39mminimize(unit_root,data[t][stock2]\u001b[39m/\u001b[39mdata[t][stock1],method\u001b[39m=\u001b[39m\u001b[39m'\u001b[39m\u001b[39mNelder-Mead\u001b[39m\u001b[39m'\u001b[39m)\n\u001b[0;32m     <a href='vscode-notebook-cell:/d%3A/CDT-HFT/TradingClubHFT/Codes/VectortBT/VectorBTTuto.ipynb#X20sZmlsZQ%3D%3D?line=20'>21</a>\u001b[0m t_opt\u001b[39m=\u001b[39mres1\u001b[39m.\u001b[39mfun\n\u001b[0;32m     <a href='vscode-notebook-cell:/d%3A/CDT-HFT/TradingClubHFT/Codes/VectortBT/VectorBTTuto.ipynb#X20sZmlsZQ%3D%3D?line=21'>22</a>\u001b[0m b_opt\u001b[39m=\u001b[39m\u001b[39mfloat\u001b[39m(res1\u001b[39m.\u001b[39mx)\n",
      "\u001b[1;31mIndexError\u001b[0m: only integers, slices (`:`), ellipsis (`...`), numpy.newaxis (`None`) and integer or boolean arrays are valid indices"
     ]
    }
   ],
   "source": [
    "results = indicator.run(close_price)"
   ]
  }
 ],
 "metadata": {
  "kernelspec": {
   "display_name": "myenv",
   "language": "python",
   "name": "python3"
  },
  "language_info": {
   "codemirror_mode": {
    "name": "ipython",
    "version": 3
   },
   "file_extension": ".py",
   "mimetype": "text/x-python",
   "name": "python",
   "nbconvert_exporter": "python",
   "pygments_lexer": "ipython3",
   "version": "3.10.9"
  }
 },
 "nbformat": 4,
 "nbformat_minor": 2
}
