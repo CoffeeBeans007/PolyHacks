{
 "cells": [
  {
   "cell_type": "code",
   "execution_count": 1,
   "id": "initial_id",
   "metadata": {
    "collapsed": true,
    "ExecuteTime": {
     "end_time": "2023-08-27T16:20:08.914547Z",
     "start_time": "2023-08-27T16:20:07.946812Z"
    }
   },
   "outputs": [],
   "source": [
    "import pandas as pd\n"
   ]
  },
  {
   "cell_type": "code",
   "execution_count": 3,
   "outputs": [],
   "source": [
    "df = pd.read_parquet('../Data/taq_20.TAQ_SP_500_2020_1sec_10000.parquet', engine='pyarrow')\n"
   ],
   "metadata": {
    "collapsed": false,
    "ExecuteTime": {
     "end_time": "2023-08-27T16:20:19.608002Z",
     "start_time": "2023-08-27T16:20:19.478218Z"
    }
   },
   "id": "6d50bffb7909c490"
  },
  {
   "cell_type": "markdown",
   "source": [
    "### Descriptions des Colonnes de Données\n",
    "\n",
    "- **ric**: Représente le symbole d'un actif financier spécifique sur une place boursière.\n",
    "- **date_time**: Horodatage représentant le moment précis de la capture des données, avec une précision de trois décimales.\n",
    "- **time_m2**: Horodatage similaire à `date_time`, mais avec une précision accrue de six décimales.\n",
    "- **NBB**: Dernière meilleure offre d'achat (Last Best Bid) prévalant dans l'intervalle de temps donné.\n",
    "- **NBO**: Dernière meilleure offre de vente (Last Best Offer) prévalant dans l'intervalle de temps donné.\n",
    "- **price**: Prix auquel la dernière transaction a été effectuée.\n",
    "- **volume**: Volume de transactions effectuées, mesuré en nombre d'unités.\n",
    "- **s_orderflow**: Flux d'ordres basé sur la taille (Size-Based Orderflow).\n",
    "- **v_orderflow**: Flux d'ordres basé sur le volume (Volume-Based Orderflow).\n",
    "- **orderflow**: Flux d'ordres basé sur la direction des transactions (Trade Direction-Based Orderflow).\n",
    "- **trades**: Nombre de transactions effectuées dans l'intervalle de temps donné.\n",
    "- **quotes**: Nombre de cotations ou d'offres faites dans l'intervalle de temps donné.\n",
    "- **open_price**: Prix à l'ouverture de la période de trading en question.\n",
    "\n",
    "#### Métriques Dérivées\n",
    "\n",
    "- **Dollar Quoted Spread**: Calculé comme $\\(NBO - NBB\\)$.\n",
    "- **Midpoint Price**: Calculé comme $\\(\\frac{NBO + NBB}{2}\\)$.\n",
    "- **Percent Quoted Spread Relative to Midpoint**: Calculé comme $\\(\\frac{NBO - NBB}{\\text{Midpoint}} \\times 100\\)$.\n"
   ],
   "metadata": {
    "collapsed": false
   },
   "id": "3cce00a10530ca3c"
  },
  {
   "cell_type": "markdown",
   "source": [
    "1. Conserver la dernière première seconde d'ouverture\n",
    "2. "
   ],
   "metadata": {
    "collapsed": false
   },
   "id": "6f8e99b5a3910236"
  },
  {
   "cell_type": "code",
   "execution_count": 5,
   "outputs": [
    {
     "data": {
      "text/plain": "     ric               date_time     NBB     NBO    price        volume  \\\n0   None                    None     NaN     NaN      NaN           NaN   \n1    SPY  02JAN2020:09:30:01.000  323.51  323.54  323.540           NaN   \n2    SPY  02JAN2020:09:30:01.000  323.51  323.54  323.585  1.686418e+08   \n3    SPY  02JAN2020:09:30:01.000  323.57  323.60  323.540  1.686418e+08   \n4    SPY  02JAN2020:09:30:01.000  323.57  323.60  323.585  1.686418e+08   \n5    SPY  02JAN2020:09:30:02.000  323.58  323.60  323.600  3.093478e+06   \n6    SPY  02JAN2020:09:30:03.000  323.62  323.63  323.620  5.391234e+06   \n7    SPY  02JAN2020:09:30:04.000  323.62  323.64  323.620  6.464777e+06   \n8    SPY  02JAN2020:09:30:05.000  323.61  323.64  323.610  3.030770e+06   \n9    SPY  02JAN2020:09:30:06.000  323.59  323.62  323.610  3.544555e+06   \n10   SPY  02JAN2020:09:30:07.000  323.60  323.62  323.600  1.117734e+06   \n11   SPY  02JAN2020:09:30:08.000  323.59  323.61  323.610  1.634798e+06   \n12   SPY  02JAN2020:09:30:09.000  323.61  323.62  323.620  3.713943e+06   \n13   SPY  02JAN2020:09:30:10.000  323.58  323.59  323.590  1.729603e+06   \n14   SPY  02JAN2020:09:30:11.000  323.61  323.63  323.620  2.674334e+06   \n15   SPY  02JAN2020:09:30:12.000  323.61  323.62  323.620  1.522619e+06   \n16   SPY  02JAN2020:09:30:13.000  323.61  323.62  323.610  3.154331e+06   \n17   SPY  02JAN2020:09:30:14.000  323.61  323.62  323.610  7.145424e+05   \n18   SPY  02JAN2020:09:30:15.000  323.61  323.62  323.610  2.318037e+06   \n19   SPY  02JAN2020:09:30:16.000  323.61  323.64  323.630  8.566194e+05   \n\n    s_orderflow   v_orderflow  orderflow  trades  quotes         time_m2  \\\n0           NaN           NaN        NaN     NaN     NaN            None   \n1           NaN           NaN        NaN     NaN   240.0  9:30:01.000000   \n2      489828.0  1.584986e+08      -28.0   136.0   240.0  9:30:01.000000   \n3      489828.0  1.584986e+08      -28.0   136.0   240.0  9:30:01.000000   \n4      489828.0  1.584986e+08      -28.0   136.0   240.0  9:30:01.000000   \n5         620.0  2.006867e+05      -35.0   105.0   175.0  9:30:02.000000   \n6       10158.0  3.287196e+06       26.0    62.0    88.0  9:30:03.000000   \n7        7079.0  2.290999e+06       14.0    68.0    82.0  9:30:04.000000   \n8        6095.0  1.972549e+06        5.0    41.0    64.0  9:30:05.000000   \n9        1223.0  3.958153e+05        2.0    40.0   111.0  9:30:06.000000   \n10       2132.0  6.899387e+05       19.0    37.0    75.0  9:30:07.000000   \n11      -3210.0 -1.038709e+06        1.0    25.0    49.0  9:30:08.000000   \n12        487.0  1.576541e+05        4.0    58.0   159.0  9:30:09.000000   \n13       -531.0 -1.717962e+05        5.0    41.0   140.0  9:30:10.000000   \n14       4006.0  1.296413e+06       17.0    51.0    78.0  9:30:11.000000   \n15       1457.0  4.715334e+05       11.0    17.0    28.0  9:30:12.000000   \n16       1745.0  5.648050e+05        5.0    69.0   108.0  9:30:13.000000   \n17      -1202.0 -3.889747e+05       -7.0    19.0    73.0  9:30:14.000000   \n18      -4553.0 -1.473390e+06       -9.0    31.0    64.0  9:30:15.000000   \n19       -425.0 -1.375348e+05       -9.0    27.0    37.0  9:30:16.000000   \n\n   open_price  \n0        None  \n1        True  \n2       False  \n3       False  \n4       False  \n5       False  \n6       False  \n7       False  \n8       False  \n9       False  \n10      False  \n11      False  \n12      False  \n13      False  \n14      False  \n15      False  \n16      False  \n17      False  \n18      False  \n19      False  ",
      "text/html": "<div>\n<style scoped>\n    .dataframe tbody tr th:only-of-type {\n        vertical-align: middle;\n    }\n\n    .dataframe tbody tr th {\n        vertical-align: top;\n    }\n\n    .dataframe thead th {\n        text-align: right;\n    }\n</style>\n<table border=\"1\" class=\"dataframe\">\n  <thead>\n    <tr style=\"text-align: right;\">\n      <th></th>\n      <th>ric</th>\n      <th>date_time</th>\n      <th>NBB</th>\n      <th>NBO</th>\n      <th>price</th>\n      <th>volume</th>\n      <th>s_orderflow</th>\n      <th>v_orderflow</th>\n      <th>orderflow</th>\n      <th>trades</th>\n      <th>quotes</th>\n      <th>time_m2</th>\n      <th>open_price</th>\n    </tr>\n  </thead>\n  <tbody>\n    <tr>\n      <th>0</th>\n      <td>None</td>\n      <td>None</td>\n      <td>NaN</td>\n      <td>NaN</td>\n      <td>NaN</td>\n      <td>NaN</td>\n      <td>NaN</td>\n      <td>NaN</td>\n      <td>NaN</td>\n      <td>NaN</td>\n      <td>NaN</td>\n      <td>None</td>\n      <td>None</td>\n    </tr>\n    <tr>\n      <th>1</th>\n      <td>SPY</td>\n      <td>02JAN2020:09:30:01.000</td>\n      <td>323.51</td>\n      <td>323.54</td>\n      <td>323.540</td>\n      <td>NaN</td>\n      <td>NaN</td>\n      <td>NaN</td>\n      <td>NaN</td>\n      <td>NaN</td>\n      <td>240.0</td>\n      <td>9:30:01.000000</td>\n      <td>True</td>\n    </tr>\n    <tr>\n      <th>2</th>\n      <td>SPY</td>\n      <td>02JAN2020:09:30:01.000</td>\n      <td>323.51</td>\n      <td>323.54</td>\n      <td>323.585</td>\n      <td>1.686418e+08</td>\n      <td>489828.0</td>\n      <td>1.584986e+08</td>\n      <td>-28.0</td>\n      <td>136.0</td>\n      <td>240.0</td>\n      <td>9:30:01.000000</td>\n      <td>False</td>\n    </tr>\n    <tr>\n      <th>3</th>\n      <td>SPY</td>\n      <td>02JAN2020:09:30:01.000</td>\n      <td>323.57</td>\n      <td>323.60</td>\n      <td>323.540</td>\n      <td>1.686418e+08</td>\n      <td>489828.0</td>\n      <td>1.584986e+08</td>\n      <td>-28.0</td>\n      <td>136.0</td>\n      <td>240.0</td>\n      <td>9:30:01.000000</td>\n      <td>False</td>\n    </tr>\n    <tr>\n      <th>4</th>\n      <td>SPY</td>\n      <td>02JAN2020:09:30:01.000</td>\n      <td>323.57</td>\n      <td>323.60</td>\n      <td>323.585</td>\n      <td>1.686418e+08</td>\n      <td>489828.0</td>\n      <td>1.584986e+08</td>\n      <td>-28.0</td>\n      <td>136.0</td>\n      <td>240.0</td>\n      <td>9:30:01.000000</td>\n      <td>False</td>\n    </tr>\n    <tr>\n      <th>5</th>\n      <td>SPY</td>\n      <td>02JAN2020:09:30:02.000</td>\n      <td>323.58</td>\n      <td>323.60</td>\n      <td>323.600</td>\n      <td>3.093478e+06</td>\n      <td>620.0</td>\n      <td>2.006867e+05</td>\n      <td>-35.0</td>\n      <td>105.0</td>\n      <td>175.0</td>\n      <td>9:30:02.000000</td>\n      <td>False</td>\n    </tr>\n    <tr>\n      <th>6</th>\n      <td>SPY</td>\n      <td>02JAN2020:09:30:03.000</td>\n      <td>323.62</td>\n      <td>323.63</td>\n      <td>323.620</td>\n      <td>5.391234e+06</td>\n      <td>10158.0</td>\n      <td>3.287196e+06</td>\n      <td>26.0</td>\n      <td>62.0</td>\n      <td>88.0</td>\n      <td>9:30:03.000000</td>\n      <td>False</td>\n    </tr>\n    <tr>\n      <th>7</th>\n      <td>SPY</td>\n      <td>02JAN2020:09:30:04.000</td>\n      <td>323.62</td>\n      <td>323.64</td>\n      <td>323.620</td>\n      <td>6.464777e+06</td>\n      <td>7079.0</td>\n      <td>2.290999e+06</td>\n      <td>14.0</td>\n      <td>68.0</td>\n      <td>82.0</td>\n      <td>9:30:04.000000</td>\n      <td>False</td>\n    </tr>\n    <tr>\n      <th>8</th>\n      <td>SPY</td>\n      <td>02JAN2020:09:30:05.000</td>\n      <td>323.61</td>\n      <td>323.64</td>\n      <td>323.610</td>\n      <td>3.030770e+06</td>\n      <td>6095.0</td>\n      <td>1.972549e+06</td>\n      <td>5.0</td>\n      <td>41.0</td>\n      <td>64.0</td>\n      <td>9:30:05.000000</td>\n      <td>False</td>\n    </tr>\n    <tr>\n      <th>9</th>\n      <td>SPY</td>\n      <td>02JAN2020:09:30:06.000</td>\n      <td>323.59</td>\n      <td>323.62</td>\n      <td>323.610</td>\n      <td>3.544555e+06</td>\n      <td>1223.0</td>\n      <td>3.958153e+05</td>\n      <td>2.0</td>\n      <td>40.0</td>\n      <td>111.0</td>\n      <td>9:30:06.000000</td>\n      <td>False</td>\n    </tr>\n    <tr>\n      <th>10</th>\n      <td>SPY</td>\n      <td>02JAN2020:09:30:07.000</td>\n      <td>323.60</td>\n      <td>323.62</td>\n      <td>323.600</td>\n      <td>1.117734e+06</td>\n      <td>2132.0</td>\n      <td>6.899387e+05</td>\n      <td>19.0</td>\n      <td>37.0</td>\n      <td>75.0</td>\n      <td>9:30:07.000000</td>\n      <td>False</td>\n    </tr>\n    <tr>\n      <th>11</th>\n      <td>SPY</td>\n      <td>02JAN2020:09:30:08.000</td>\n      <td>323.59</td>\n      <td>323.61</td>\n      <td>323.610</td>\n      <td>1.634798e+06</td>\n      <td>-3210.0</td>\n      <td>-1.038709e+06</td>\n      <td>1.0</td>\n      <td>25.0</td>\n      <td>49.0</td>\n      <td>9:30:08.000000</td>\n      <td>False</td>\n    </tr>\n    <tr>\n      <th>12</th>\n      <td>SPY</td>\n      <td>02JAN2020:09:30:09.000</td>\n      <td>323.61</td>\n      <td>323.62</td>\n      <td>323.620</td>\n      <td>3.713943e+06</td>\n      <td>487.0</td>\n      <td>1.576541e+05</td>\n      <td>4.0</td>\n      <td>58.0</td>\n      <td>159.0</td>\n      <td>9:30:09.000000</td>\n      <td>False</td>\n    </tr>\n    <tr>\n      <th>13</th>\n      <td>SPY</td>\n      <td>02JAN2020:09:30:10.000</td>\n      <td>323.58</td>\n      <td>323.59</td>\n      <td>323.590</td>\n      <td>1.729603e+06</td>\n      <td>-531.0</td>\n      <td>-1.717962e+05</td>\n      <td>5.0</td>\n      <td>41.0</td>\n      <td>140.0</td>\n      <td>9:30:10.000000</td>\n      <td>False</td>\n    </tr>\n    <tr>\n      <th>14</th>\n      <td>SPY</td>\n      <td>02JAN2020:09:30:11.000</td>\n      <td>323.61</td>\n      <td>323.63</td>\n      <td>323.620</td>\n      <td>2.674334e+06</td>\n      <td>4006.0</td>\n      <td>1.296413e+06</td>\n      <td>17.0</td>\n      <td>51.0</td>\n      <td>78.0</td>\n      <td>9:30:11.000000</td>\n      <td>False</td>\n    </tr>\n    <tr>\n      <th>15</th>\n      <td>SPY</td>\n      <td>02JAN2020:09:30:12.000</td>\n      <td>323.61</td>\n      <td>323.62</td>\n      <td>323.620</td>\n      <td>1.522619e+06</td>\n      <td>1457.0</td>\n      <td>4.715334e+05</td>\n      <td>11.0</td>\n      <td>17.0</td>\n      <td>28.0</td>\n      <td>9:30:12.000000</td>\n      <td>False</td>\n    </tr>\n    <tr>\n      <th>16</th>\n      <td>SPY</td>\n      <td>02JAN2020:09:30:13.000</td>\n      <td>323.61</td>\n      <td>323.62</td>\n      <td>323.610</td>\n      <td>3.154331e+06</td>\n      <td>1745.0</td>\n      <td>5.648050e+05</td>\n      <td>5.0</td>\n      <td>69.0</td>\n      <td>108.0</td>\n      <td>9:30:13.000000</td>\n      <td>False</td>\n    </tr>\n    <tr>\n      <th>17</th>\n      <td>SPY</td>\n      <td>02JAN2020:09:30:14.000</td>\n      <td>323.61</td>\n      <td>323.62</td>\n      <td>323.610</td>\n      <td>7.145424e+05</td>\n      <td>-1202.0</td>\n      <td>-3.889747e+05</td>\n      <td>-7.0</td>\n      <td>19.0</td>\n      <td>73.0</td>\n      <td>9:30:14.000000</td>\n      <td>False</td>\n    </tr>\n    <tr>\n      <th>18</th>\n      <td>SPY</td>\n      <td>02JAN2020:09:30:15.000</td>\n      <td>323.61</td>\n      <td>323.62</td>\n      <td>323.610</td>\n      <td>2.318037e+06</td>\n      <td>-4553.0</td>\n      <td>-1.473390e+06</td>\n      <td>-9.0</td>\n      <td>31.0</td>\n      <td>64.0</td>\n      <td>9:30:15.000000</td>\n      <td>False</td>\n    </tr>\n    <tr>\n      <th>19</th>\n      <td>SPY</td>\n      <td>02JAN2020:09:30:16.000</td>\n      <td>323.61</td>\n      <td>323.64</td>\n      <td>323.630</td>\n      <td>8.566194e+05</td>\n      <td>-425.0</td>\n      <td>-1.375348e+05</td>\n      <td>-9.0</td>\n      <td>27.0</td>\n      <td>37.0</td>\n      <td>9:30:16.000000</td>\n      <td>False</td>\n    </tr>\n  </tbody>\n</table>\n</div>"
     },
     "execution_count": 5,
     "metadata": {},
     "output_type": "execute_result"
    }
   ],
   "source": [
    "df.head(20)"
   ],
   "metadata": {
    "collapsed": false,
    "ExecuteTime": {
     "end_time": "2023-08-27T16:20:53.183577Z",
     "start_time": "2023-08-27T16:20:53.168927Z"
    }
   },
   "id": "9ecc5e33a1cc08a6"
  },
  {
   "cell_type": "code",
   "execution_count": 8,
   "outputs": [],
   "source": [
    "import wrds"
   ],
   "metadata": {
    "collapsed": false,
    "ExecuteTime": {
     "end_time": "2023-08-27T20:44:15.552370Z",
     "start_time": "2023-08-27T20:44:14.954522Z"
    }
   },
   "id": "a5196800e9c46ed8"
  },
  {
   "cell_type": "code",
   "execution_count": null,
   "outputs": [],
   "source": [],
   "metadata": {
    "collapsed": false
   },
   "id": "bf142f35e5370b6"
  }
 ],
 "metadata": {
  "kernelspec": {
   "display_name": "Python 3",
   "language": "python",
   "name": "python3"
  },
  "language_info": {
   "codemirror_mode": {
    "name": "ipython",
    "version": 2
   },
   "file_extension": ".py",
   "mimetype": "text/x-python",
   "name": "python",
   "nbconvert_exporter": "python",
   "pygments_lexer": "ipython2",
   "version": "2.7.6"
  }
 },
 "nbformat": 4,
 "nbformat_minor": 5
}
